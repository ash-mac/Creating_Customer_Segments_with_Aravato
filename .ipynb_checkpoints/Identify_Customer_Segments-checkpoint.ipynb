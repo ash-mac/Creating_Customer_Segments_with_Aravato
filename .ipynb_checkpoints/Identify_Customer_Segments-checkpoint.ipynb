{
 "cells": [
  {
   "cell_type": "markdown",
   "metadata": {},
   "source": [
    "# Project: Identify Customer Segments\n",
    "\n",
    "In this project, you will apply unsupervised learning techniques to identify segments of the population that form the core customer base for a mail-order sales company in Germany. These segments can then be used to direct marketing campaigns towards audiences that will have the highest expected rate of returns. The data that you will use has been provided by our partners at Bertelsmann Arvato Analytics, and represents a real-life data science task.\n",
    "\n",
    "This notebook will help you complete this task by providing a framework within which you will perform your analysis steps. In each step of the project, you will see some text describing the subtask that you will perform, followed by one or more code cells for you to complete your work. **Feel free to add additional code and markdown cells as you go along so that you can explore everything in precise chunks.** The code cells provided in the base template will outline only the major tasks, and will usually not be enough to cover all of the minor tasks that comprise it.\n",
    "\n",
    "It should be noted that while there will be precise guidelines on how you should handle certain tasks in the project, there will also be places where an exact specification is not provided. **There will be times in the project where you will need to make and justify your own decisions on how to treat the data.** These are places where there may not be only one way to handle the data. In real-life tasks, there may be many valid ways to approach an analysis task. One of the most important things you can do is clearly document your approach so that other scientists can understand the decisions you've made.\n",
    "\n",
    "At the end of most sections, there will be a Markdown cell labeled **Discussion**. In these cells, you will report your findings for the completed section, as well as document the decisions that you made in your approach to each subtask. **Your project will be evaluated not just on the code used to complete the tasks outlined, but also your communication about your observations and conclusions at each stage.**"
   ]
  },
  {
   "cell_type": "markdown",
   "metadata": {},
   "source": [
    "# Details of version used\n",
    "- sklearn.__version__ = 0.23.2\n",
    "- seaborn.__version__ = 0.11.1\n",
    "- numpy.__version__ = 1.19.2\n",
    "- pandas.__version__ = 1.1.5\n",
    "- matplotlib.__version__ = 3.3.2\n",
    "- jupyter core     : 4.7.0\n",
    "- jupyter-notebook : 6.3.0\n",
    "- qtconsole        : 4.7.7\n",
    "- ipython          : 7.19.0\n",
    "- ipykernel        : 5.3.4\n",
    "- jupyter client   : 6.1.7\n",
    "- jupyter lab      : 2.2.6\n",
    "- nbconvert        : 6.0.7\n",
    "- ipywidgets       : 7.5.1\n",
    "- nbformat         : 5.0.8\n",
    "- traitlets        : 5.0.5"
   ]
  },
  {
   "cell_type": "markdown",
   "metadata": {},
   "source": [
    "# NOTE: Some other libraries were imported at places as and when required"
   ]
  },
  {
   "cell_type": "code",
   "execution_count": 1,
   "metadata": {},
   "outputs": [
    {
     "data": {
      "text/plain": [
       "'\\nImport note: The classroom currently uses sklearn version 0.19.\\nIf you need to use an imputer, it is available in sklearn.preprocessing.Imputer,\\ninstead of sklearn.impute as in newer versions of sklearn.\\n'"
      ]
     },
     "execution_count": 1,
     "metadata": {},
     "output_type": "execute_result"
    }
   ],
   "source": [
    "# import libraries here; add more as necessary\n",
    "import numpy as np\n",
    "import pandas as pd\n",
    "import matplotlib.pyplot as plt\n",
    "import seaborn as sns\n",
    "\n",
    "# magic word for producing visualizations in notebook\n",
    "%matplotlib inline\n",
    "\n",
    "'''\n",
    "Import note: The classroom currently uses sklearn version 0.19.\n",
    "If you need to use an imputer, it is available in sklearn.preprocessing.Imputer,\n",
    "instead of sklearn.impute as in newer versions of sklearn.\n",
    "'''"
   ]
  },
  {
   "cell_type": "markdown",
   "metadata": {},
   "source": [
    "### Step 0: Load the Data\n",
    "\n",
    "There are four files associated with this project (not including this one):\n",
    "\n",
    "- `Udacity_AZDIAS_Subset.csv`: Demographics data for the general population of Germany; 891211 persons (rows) x 85 features (columns).\n",
    "- `Udacity_CUSTOMERS_Subset.csv`: Demographics data for customers of a mail-order company; 191652 persons (rows) x 85 features (columns).\n",
    "- `Data_Dictionary.md`: Detailed information file about the features in the provided datasets.\n",
    "- `AZDIAS_Feature_Summary.csv`: Summary of feature attributes for demographics data; 85 features (rows) x 4 columns\n",
    "\n",
    "Each row of the demographics files represents a single person, but also includes information outside of individuals, including information about their household, building, and neighborhood. You will use this information to cluster the general population into groups with similar demographic properties. Then, you will see how the people in the customers dataset fit into those created clusters. The hope here is that certain clusters are over-represented in the customers data, as compared to the general population; those over-represented clusters will be assumed to be part of the core userbase. This information can then be used for further applications, such as targeting for a marketing campaign.\n",
    "\n",
    "To start off with, load in the demographics data for the general population into a pandas DataFrame, and do the same for the feature attributes summary. Note for all of the `.csv` data files in this project: they're semicolon (`;`) delimited, so you'll need an additional argument in your [`read_csv()`](https://pandas.pydata.org/pandas-docs/stable/generated/pandas.read_csv.html) call to read in the data properly. Also, considering the size of the main dataset, it may take some time for it to load completely.\n",
    "\n",
    "Once the dataset is loaded, it's recommended that you take a little bit of time just browsing the general structure of the dataset and feature summary file. You'll be getting deep into the innards of the cleaning in the first major step of the project, so gaining some general familiarity can help you get your bearings."
   ]
  },
  {
   "cell_type": "code",
   "execution_count": 2,
   "metadata": {},
   "outputs": [],
   "source": [
    "# Load in the general demographics data.\n",
    "azdias = pd.read_csv('Udacity_AZDIAS_Subset.csv',delimiter=';')\n",
    "\n",
    "# Load in the feature summary file.\n",
    "feat_info = pd.read_csv('AZDIAS_Feature_Summary.csv',delimiter=';')"
   ]
  },
  {
   "cell_type": "code",
   "execution_count": 3,
   "metadata": {},
   "outputs": [
    {
     "name": "stdout",
     "output_type": "stream",
     "text": [
      "(891221, 85)\n",
      "(85, 4)\n"
     ]
    }
   ],
   "source": [
    "# Check the structure of the data after it's loaded (e.g. print the number of\n",
    "# rows and columns, print the first few rows).\n",
    "print(azdias.shape)\n",
    "print(feat_info.shape)"
   ]
  },
  {
   "cell_type": "code",
   "execution_count": 4,
   "metadata": {},
   "outputs": [
    {
     "data": {
      "text/html": [
       "<div>\n",
       "<style scoped>\n",
       "    .dataframe tbody tr th:only-of-type {\n",
       "        vertical-align: middle;\n",
       "    }\n",
       "\n",
       "    .dataframe tbody tr th {\n",
       "        vertical-align: top;\n",
       "    }\n",
       "\n",
       "    .dataframe thead th {\n",
       "        text-align: right;\n",
       "    }\n",
       "</style>\n",
       "<table border=\"1\" class=\"dataframe\">\n",
       "  <thead>\n",
       "    <tr style=\"text-align: right;\">\n",
       "      <th></th>\n",
       "      <th>AGER_TYP</th>\n",
       "      <th>ALTERSKATEGORIE_GROB</th>\n",
       "      <th>ANREDE_KZ</th>\n",
       "      <th>CJT_GESAMTTYP</th>\n",
       "      <th>FINANZ_MINIMALIST</th>\n",
       "      <th>FINANZ_SPARER</th>\n",
       "      <th>FINANZ_VORSORGER</th>\n",
       "      <th>FINANZ_ANLEGER</th>\n",
       "      <th>FINANZ_UNAUFFAELLIGER</th>\n",
       "      <th>FINANZ_HAUSBAUER</th>\n",
       "      <th>...</th>\n",
       "      <th>PLZ8_ANTG1</th>\n",
       "      <th>PLZ8_ANTG2</th>\n",
       "      <th>PLZ8_ANTG3</th>\n",
       "      <th>PLZ8_ANTG4</th>\n",
       "      <th>PLZ8_BAUMAX</th>\n",
       "      <th>PLZ8_HHZ</th>\n",
       "      <th>PLZ8_GBZ</th>\n",
       "      <th>ARBEIT</th>\n",
       "      <th>ORTSGR_KLS9</th>\n",
       "      <th>RELAT_AB</th>\n",
       "    </tr>\n",
       "  </thead>\n",
       "  <tbody>\n",
       "    <tr>\n",
       "      <th>0</th>\n",
       "      <td>-1</td>\n",
       "      <td>2</td>\n",
       "      <td>1</td>\n",
       "      <td>2.0</td>\n",
       "      <td>3</td>\n",
       "      <td>4</td>\n",
       "      <td>3</td>\n",
       "      <td>5</td>\n",
       "      <td>5</td>\n",
       "      <td>3</td>\n",
       "      <td>...</td>\n",
       "      <td>NaN</td>\n",
       "      <td>NaN</td>\n",
       "      <td>NaN</td>\n",
       "      <td>NaN</td>\n",
       "      <td>NaN</td>\n",
       "      <td>NaN</td>\n",
       "      <td>NaN</td>\n",
       "      <td>NaN</td>\n",
       "      <td>NaN</td>\n",
       "      <td>NaN</td>\n",
       "    </tr>\n",
       "    <tr>\n",
       "      <th>1</th>\n",
       "      <td>-1</td>\n",
       "      <td>1</td>\n",
       "      <td>2</td>\n",
       "      <td>5.0</td>\n",
       "      <td>1</td>\n",
       "      <td>5</td>\n",
       "      <td>2</td>\n",
       "      <td>5</td>\n",
       "      <td>4</td>\n",
       "      <td>5</td>\n",
       "      <td>...</td>\n",
       "      <td>2.0</td>\n",
       "      <td>3.0</td>\n",
       "      <td>2.0</td>\n",
       "      <td>1.0</td>\n",
       "      <td>1.0</td>\n",
       "      <td>5.0</td>\n",
       "      <td>4.0</td>\n",
       "      <td>3.0</td>\n",
       "      <td>5.0</td>\n",
       "      <td>4.0</td>\n",
       "    </tr>\n",
       "    <tr>\n",
       "      <th>2</th>\n",
       "      <td>-1</td>\n",
       "      <td>3</td>\n",
       "      <td>2</td>\n",
       "      <td>3.0</td>\n",
       "      <td>1</td>\n",
       "      <td>4</td>\n",
       "      <td>1</td>\n",
       "      <td>2</td>\n",
       "      <td>3</td>\n",
       "      <td>5</td>\n",
       "      <td>...</td>\n",
       "      <td>3.0</td>\n",
       "      <td>3.0</td>\n",
       "      <td>1.0</td>\n",
       "      <td>0.0</td>\n",
       "      <td>1.0</td>\n",
       "      <td>4.0</td>\n",
       "      <td>4.0</td>\n",
       "      <td>3.0</td>\n",
       "      <td>5.0</td>\n",
       "      <td>2.0</td>\n",
       "    </tr>\n",
       "    <tr>\n",
       "      <th>3</th>\n",
       "      <td>2</td>\n",
       "      <td>4</td>\n",
       "      <td>2</td>\n",
       "      <td>2.0</td>\n",
       "      <td>4</td>\n",
       "      <td>2</td>\n",
       "      <td>5</td>\n",
       "      <td>2</td>\n",
       "      <td>1</td>\n",
       "      <td>2</td>\n",
       "      <td>...</td>\n",
       "      <td>2.0</td>\n",
       "      <td>2.0</td>\n",
       "      <td>2.0</td>\n",
       "      <td>0.0</td>\n",
       "      <td>1.0</td>\n",
       "      <td>3.0</td>\n",
       "      <td>4.0</td>\n",
       "      <td>2.0</td>\n",
       "      <td>3.0</td>\n",
       "      <td>3.0</td>\n",
       "    </tr>\n",
       "    <tr>\n",
       "      <th>4</th>\n",
       "      <td>-1</td>\n",
       "      <td>3</td>\n",
       "      <td>1</td>\n",
       "      <td>5.0</td>\n",
       "      <td>4</td>\n",
       "      <td>3</td>\n",
       "      <td>4</td>\n",
       "      <td>1</td>\n",
       "      <td>3</td>\n",
       "      <td>2</td>\n",
       "      <td>...</td>\n",
       "      <td>2.0</td>\n",
       "      <td>4.0</td>\n",
       "      <td>2.0</td>\n",
       "      <td>1.0</td>\n",
       "      <td>2.0</td>\n",
       "      <td>3.0</td>\n",
       "      <td>3.0</td>\n",
       "      <td>4.0</td>\n",
       "      <td>6.0</td>\n",
       "      <td>5.0</td>\n",
       "    </tr>\n",
       "  </tbody>\n",
       "</table>\n",
       "<p>5 rows × 85 columns</p>\n",
       "</div>"
      ],
      "text/plain": [
       "   AGER_TYP  ALTERSKATEGORIE_GROB  ANREDE_KZ  CJT_GESAMTTYP  \\\n",
       "0        -1                     2          1            2.0   \n",
       "1        -1                     1          2            5.0   \n",
       "2        -1                     3          2            3.0   \n",
       "3         2                     4          2            2.0   \n",
       "4        -1                     3          1            5.0   \n",
       "\n",
       "   FINANZ_MINIMALIST  FINANZ_SPARER  FINANZ_VORSORGER  FINANZ_ANLEGER  \\\n",
       "0                  3              4                 3               5   \n",
       "1                  1              5                 2               5   \n",
       "2                  1              4                 1               2   \n",
       "3                  4              2                 5               2   \n",
       "4                  4              3                 4               1   \n",
       "\n",
       "   FINANZ_UNAUFFAELLIGER  FINANZ_HAUSBAUER  ...  PLZ8_ANTG1  PLZ8_ANTG2  \\\n",
       "0                      5                 3  ...         NaN         NaN   \n",
       "1                      4                 5  ...         2.0         3.0   \n",
       "2                      3                 5  ...         3.0         3.0   \n",
       "3                      1                 2  ...         2.0         2.0   \n",
       "4                      3                 2  ...         2.0         4.0   \n",
       "\n",
       "   PLZ8_ANTG3  PLZ8_ANTG4  PLZ8_BAUMAX  PLZ8_HHZ  PLZ8_GBZ  ARBEIT  \\\n",
       "0         NaN         NaN          NaN       NaN       NaN     NaN   \n",
       "1         2.0         1.0          1.0       5.0       4.0     3.0   \n",
       "2         1.0         0.0          1.0       4.0       4.0     3.0   \n",
       "3         2.0         0.0          1.0       3.0       4.0     2.0   \n",
       "4         2.0         1.0          2.0       3.0       3.0     4.0   \n",
       "\n",
       "   ORTSGR_KLS9  RELAT_AB  \n",
       "0          NaN       NaN  \n",
       "1          5.0       4.0  \n",
       "2          5.0       2.0  \n",
       "3          3.0       3.0  \n",
       "4          6.0       5.0  \n",
       "\n",
       "[5 rows x 85 columns]"
      ]
     },
     "execution_count": 4,
     "metadata": {},
     "output_type": "execute_result"
    }
   ],
   "source": [
    "azdias.head()"
   ]
  },
  {
   "cell_type": "code",
   "execution_count": 5,
   "metadata": {},
   "outputs": [
    {
     "data": {
      "text/html": [
       "<div>\n",
       "<style scoped>\n",
       "    .dataframe tbody tr th:only-of-type {\n",
       "        vertical-align: middle;\n",
       "    }\n",
       "\n",
       "    .dataframe tbody tr th {\n",
       "        vertical-align: top;\n",
       "    }\n",
       "\n",
       "    .dataframe thead th {\n",
       "        text-align: right;\n",
       "    }\n",
       "</style>\n",
       "<table border=\"1\" class=\"dataframe\">\n",
       "  <thead>\n",
       "    <tr style=\"text-align: right;\">\n",
       "      <th></th>\n",
       "      <th>AGER_TYP</th>\n",
       "      <th>ALTERSKATEGORIE_GROB</th>\n",
       "      <th>ANREDE_KZ</th>\n",
       "      <th>CJT_GESAMTTYP</th>\n",
       "      <th>FINANZ_MINIMALIST</th>\n",
       "      <th>FINANZ_SPARER</th>\n",
       "      <th>FINANZ_VORSORGER</th>\n",
       "      <th>FINANZ_ANLEGER</th>\n",
       "      <th>FINANZ_UNAUFFAELLIGER</th>\n",
       "      <th>FINANZ_HAUSBAUER</th>\n",
       "      <th>...</th>\n",
       "      <th>PLZ8_ANTG1</th>\n",
       "      <th>PLZ8_ANTG2</th>\n",
       "      <th>PLZ8_ANTG3</th>\n",
       "      <th>PLZ8_ANTG4</th>\n",
       "      <th>PLZ8_BAUMAX</th>\n",
       "      <th>PLZ8_HHZ</th>\n",
       "      <th>PLZ8_GBZ</th>\n",
       "      <th>ARBEIT</th>\n",
       "      <th>ORTSGR_KLS9</th>\n",
       "      <th>RELAT_AB</th>\n",
       "    </tr>\n",
       "  </thead>\n",
       "  <tbody>\n",
       "    <tr>\n",
       "      <th>891216</th>\n",
       "      <td>-1</td>\n",
       "      <td>3</td>\n",
       "      <td>2</td>\n",
       "      <td>5.0</td>\n",
       "      <td>1</td>\n",
       "      <td>4</td>\n",
       "      <td>2</td>\n",
       "      <td>5</td>\n",
       "      <td>4</td>\n",
       "      <td>4</td>\n",
       "      <td>...</td>\n",
       "      <td>3.0</td>\n",
       "      <td>2.0</td>\n",
       "      <td>0.0</td>\n",
       "      <td>0.0</td>\n",
       "      <td>1.0</td>\n",
       "      <td>2.0</td>\n",
       "      <td>3.0</td>\n",
       "      <td>NaN</td>\n",
       "      <td>NaN</td>\n",
       "      <td>NaN</td>\n",
       "    </tr>\n",
       "    <tr>\n",
       "      <th>891217</th>\n",
       "      <td>-1</td>\n",
       "      <td>2</td>\n",
       "      <td>1</td>\n",
       "      <td>4.0</td>\n",
       "      <td>3</td>\n",
       "      <td>3</td>\n",
       "      <td>3</td>\n",
       "      <td>2</td>\n",
       "      <td>2</td>\n",
       "      <td>3</td>\n",
       "      <td>...</td>\n",
       "      <td>1.0</td>\n",
       "      <td>3.0</td>\n",
       "      <td>3.0</td>\n",
       "      <td>2.0</td>\n",
       "      <td>4.0</td>\n",
       "      <td>5.0</td>\n",
       "      <td>3.0</td>\n",
       "      <td>4.0</td>\n",
       "      <td>6.0</td>\n",
       "      <td>5.0</td>\n",
       "    </tr>\n",
       "    <tr>\n",
       "      <th>891218</th>\n",
       "      <td>-1</td>\n",
       "      <td>2</td>\n",
       "      <td>2</td>\n",
       "      <td>4.0</td>\n",
       "      <td>2</td>\n",
       "      <td>4</td>\n",
       "      <td>2</td>\n",
       "      <td>5</td>\n",
       "      <td>4</td>\n",
       "      <td>3</td>\n",
       "      <td>...</td>\n",
       "      <td>4.0</td>\n",
       "      <td>2.0</td>\n",
       "      <td>0.0</td>\n",
       "      <td>0.0</td>\n",
       "      <td>1.0</td>\n",
       "      <td>3.0</td>\n",
       "      <td>4.0</td>\n",
       "      <td>2.0</td>\n",
       "      <td>2.0</td>\n",
       "      <td>3.0</td>\n",
       "    </tr>\n",
       "    <tr>\n",
       "      <th>891219</th>\n",
       "      <td>-1</td>\n",
       "      <td>1</td>\n",
       "      <td>1</td>\n",
       "      <td>3.0</td>\n",
       "      <td>1</td>\n",
       "      <td>5</td>\n",
       "      <td>3</td>\n",
       "      <td>5</td>\n",
       "      <td>5</td>\n",
       "      <td>5</td>\n",
       "      <td>...</td>\n",
       "      <td>1.0</td>\n",
       "      <td>4.0</td>\n",
       "      <td>3.0</td>\n",
       "      <td>1.0</td>\n",
       "      <td>5.0</td>\n",
       "      <td>1.0</td>\n",
       "      <td>1.0</td>\n",
       "      <td>4.0</td>\n",
       "      <td>7.0</td>\n",
       "      <td>5.0</td>\n",
       "    </tr>\n",
       "    <tr>\n",
       "      <th>891220</th>\n",
       "      <td>-1</td>\n",
       "      <td>4</td>\n",
       "      <td>1</td>\n",
       "      <td>1.0</td>\n",
       "      <td>4</td>\n",
       "      <td>2</td>\n",
       "      <td>5</td>\n",
       "      <td>2</td>\n",
       "      <td>1</td>\n",
       "      <td>5</td>\n",
       "      <td>...</td>\n",
       "      <td>3.0</td>\n",
       "      <td>3.0</td>\n",
       "      <td>1.0</td>\n",
       "      <td>0.0</td>\n",
       "      <td>1.0</td>\n",
       "      <td>4.0</td>\n",
       "      <td>4.0</td>\n",
       "      <td>3.0</td>\n",
       "      <td>4.0</td>\n",
       "      <td>5.0</td>\n",
       "    </tr>\n",
       "  </tbody>\n",
       "</table>\n",
       "<p>5 rows × 85 columns</p>\n",
       "</div>"
      ],
      "text/plain": [
       "        AGER_TYP  ALTERSKATEGORIE_GROB  ANREDE_KZ  CJT_GESAMTTYP  \\\n",
       "891216        -1                     3          2            5.0   \n",
       "891217        -1                     2          1            4.0   \n",
       "891218        -1                     2          2            4.0   \n",
       "891219        -1                     1          1            3.0   \n",
       "891220        -1                     4          1            1.0   \n",
       "\n",
       "        FINANZ_MINIMALIST  FINANZ_SPARER  FINANZ_VORSORGER  FINANZ_ANLEGER  \\\n",
       "891216                  1              4                 2               5   \n",
       "891217                  3              3                 3               2   \n",
       "891218                  2              4                 2               5   \n",
       "891219                  1              5                 3               5   \n",
       "891220                  4              2                 5               2   \n",
       "\n",
       "        FINANZ_UNAUFFAELLIGER  FINANZ_HAUSBAUER  ...  PLZ8_ANTG1  PLZ8_ANTG2  \\\n",
       "891216                      4                 4  ...         3.0         2.0   \n",
       "891217                      2                 3  ...         1.0         3.0   \n",
       "891218                      4                 3  ...         4.0         2.0   \n",
       "891219                      5                 5  ...         1.0         4.0   \n",
       "891220                      1                 5  ...         3.0         3.0   \n",
       "\n",
       "        PLZ8_ANTG3  PLZ8_ANTG4  PLZ8_BAUMAX  PLZ8_HHZ  PLZ8_GBZ  ARBEIT  \\\n",
       "891216         0.0         0.0          1.0       2.0       3.0     NaN   \n",
       "891217         3.0         2.0          4.0       5.0       3.0     4.0   \n",
       "891218         0.0         0.0          1.0       3.0       4.0     2.0   \n",
       "891219         3.0         1.0          5.0       1.0       1.0     4.0   \n",
       "891220         1.0         0.0          1.0       4.0       4.0     3.0   \n",
       "\n",
       "        ORTSGR_KLS9  RELAT_AB  \n",
       "891216          NaN       NaN  \n",
       "891217          6.0       5.0  \n",
       "891218          2.0       3.0  \n",
       "891219          7.0       5.0  \n",
       "891220          4.0       5.0  \n",
       "\n",
       "[5 rows x 85 columns]"
      ]
     },
     "execution_count": 5,
     "metadata": {},
     "output_type": "execute_result"
    }
   ],
   "source": [
    "azdias.tail()"
   ]
  },
  {
   "cell_type": "code",
   "execution_count": 6,
   "metadata": {},
   "outputs": [
    {
     "data": {
      "text/html": [
       "<div>\n",
       "<style scoped>\n",
       "    .dataframe tbody tr th:only-of-type {\n",
       "        vertical-align: middle;\n",
       "    }\n",
       "\n",
       "    .dataframe tbody tr th {\n",
       "        vertical-align: top;\n",
       "    }\n",
       "\n",
       "    .dataframe thead th {\n",
       "        text-align: right;\n",
       "    }\n",
       "</style>\n",
       "<table border=\"1\" class=\"dataframe\">\n",
       "  <thead>\n",
       "    <tr style=\"text-align: right;\">\n",
       "      <th></th>\n",
       "      <th>AGER_TYP</th>\n",
       "      <th>ALTERSKATEGORIE_GROB</th>\n",
       "      <th>ANREDE_KZ</th>\n",
       "      <th>CJT_GESAMTTYP</th>\n",
       "      <th>FINANZ_MINIMALIST</th>\n",
       "      <th>FINANZ_SPARER</th>\n",
       "      <th>FINANZ_VORSORGER</th>\n",
       "      <th>FINANZ_ANLEGER</th>\n",
       "      <th>FINANZ_UNAUFFAELLIGER</th>\n",
       "      <th>FINANZ_HAUSBAUER</th>\n",
       "      <th>...</th>\n",
       "      <th>PLZ8_ANTG1</th>\n",
       "      <th>PLZ8_ANTG2</th>\n",
       "      <th>PLZ8_ANTG3</th>\n",
       "      <th>PLZ8_ANTG4</th>\n",
       "      <th>PLZ8_BAUMAX</th>\n",
       "      <th>PLZ8_HHZ</th>\n",
       "      <th>PLZ8_GBZ</th>\n",
       "      <th>ARBEIT</th>\n",
       "      <th>ORTSGR_KLS9</th>\n",
       "      <th>RELAT_AB</th>\n",
       "    </tr>\n",
       "  </thead>\n",
       "  <tbody>\n",
       "    <tr>\n",
       "      <th>count</th>\n",
       "      <td>891221.000000</td>\n",
       "      <td>891221.000000</td>\n",
       "      <td>891221.000000</td>\n",
       "      <td>886367.000000</td>\n",
       "      <td>891221.000000</td>\n",
       "      <td>891221.000000</td>\n",
       "      <td>891221.000000</td>\n",
       "      <td>891221.000000</td>\n",
       "      <td>891221.000000</td>\n",
       "      <td>891221.000000</td>\n",
       "      <td>...</td>\n",
       "      <td>774706.000000</td>\n",
       "      <td>774706.000000</td>\n",
       "      <td>774706.000000</td>\n",
       "      <td>774706.000000</td>\n",
       "      <td>774706.000000</td>\n",
       "      <td>774706.000000</td>\n",
       "      <td>774706.000000</td>\n",
       "      <td>794005.000000</td>\n",
       "      <td>794005.000000</td>\n",
       "      <td>794005.00000</td>\n",
       "    </tr>\n",
       "    <tr>\n",
       "      <th>mean</th>\n",
       "      <td>-0.358435</td>\n",
       "      <td>2.777398</td>\n",
       "      <td>1.522098</td>\n",
       "      <td>3.632838</td>\n",
       "      <td>3.074528</td>\n",
       "      <td>2.821039</td>\n",
       "      <td>3.401106</td>\n",
       "      <td>3.033328</td>\n",
       "      <td>2.874167</td>\n",
       "      <td>3.075121</td>\n",
       "      <td>...</td>\n",
       "      <td>2.253330</td>\n",
       "      <td>2.801858</td>\n",
       "      <td>1.595426</td>\n",
       "      <td>0.699166</td>\n",
       "      <td>1.943913</td>\n",
       "      <td>3.612821</td>\n",
       "      <td>3.381087</td>\n",
       "      <td>3.167854</td>\n",
       "      <td>5.293002</td>\n",
       "      <td>3.07222</td>\n",
       "    </tr>\n",
       "    <tr>\n",
       "      <th>std</th>\n",
       "      <td>1.198724</td>\n",
       "      <td>1.068775</td>\n",
       "      <td>0.499512</td>\n",
       "      <td>1.595021</td>\n",
       "      <td>1.321055</td>\n",
       "      <td>1.464749</td>\n",
       "      <td>1.322134</td>\n",
       "      <td>1.529603</td>\n",
       "      <td>1.486731</td>\n",
       "      <td>1.353248</td>\n",
       "      <td>...</td>\n",
       "      <td>0.972008</td>\n",
       "      <td>0.920309</td>\n",
       "      <td>0.986736</td>\n",
       "      <td>0.727137</td>\n",
       "      <td>1.459654</td>\n",
       "      <td>0.973967</td>\n",
       "      <td>1.111598</td>\n",
       "      <td>1.002376</td>\n",
       "      <td>2.303739</td>\n",
       "      <td>1.36298</td>\n",
       "    </tr>\n",
       "    <tr>\n",
       "      <th>min</th>\n",
       "      <td>-1.000000</td>\n",
       "      <td>1.000000</td>\n",
       "      <td>1.000000</td>\n",
       "      <td>1.000000</td>\n",
       "      <td>1.000000</td>\n",
       "      <td>1.000000</td>\n",
       "      <td>1.000000</td>\n",
       "      <td>1.000000</td>\n",
       "      <td>1.000000</td>\n",
       "      <td>1.000000</td>\n",
       "      <td>...</td>\n",
       "      <td>0.000000</td>\n",
       "      <td>0.000000</td>\n",
       "      <td>0.000000</td>\n",
       "      <td>0.000000</td>\n",
       "      <td>1.000000</td>\n",
       "      <td>1.000000</td>\n",
       "      <td>1.000000</td>\n",
       "      <td>1.000000</td>\n",
       "      <td>0.000000</td>\n",
       "      <td>1.00000</td>\n",
       "    </tr>\n",
       "    <tr>\n",
       "      <th>25%</th>\n",
       "      <td>-1.000000</td>\n",
       "      <td>2.000000</td>\n",
       "      <td>1.000000</td>\n",
       "      <td>2.000000</td>\n",
       "      <td>2.000000</td>\n",
       "      <td>1.000000</td>\n",
       "      <td>3.000000</td>\n",
       "      <td>2.000000</td>\n",
       "      <td>2.000000</td>\n",
       "      <td>2.000000</td>\n",
       "      <td>...</td>\n",
       "      <td>1.000000</td>\n",
       "      <td>2.000000</td>\n",
       "      <td>1.000000</td>\n",
       "      <td>0.000000</td>\n",
       "      <td>1.000000</td>\n",
       "      <td>3.000000</td>\n",
       "      <td>3.000000</td>\n",
       "      <td>3.000000</td>\n",
       "      <td>4.000000</td>\n",
       "      <td>2.00000</td>\n",
       "    </tr>\n",
       "    <tr>\n",
       "      <th>50%</th>\n",
       "      <td>-1.000000</td>\n",
       "      <td>3.000000</td>\n",
       "      <td>2.000000</td>\n",
       "      <td>4.000000</td>\n",
       "      <td>3.000000</td>\n",
       "      <td>3.000000</td>\n",
       "      <td>3.000000</td>\n",
       "      <td>3.000000</td>\n",
       "      <td>3.000000</td>\n",
       "      <td>3.000000</td>\n",
       "      <td>...</td>\n",
       "      <td>2.000000</td>\n",
       "      <td>3.000000</td>\n",
       "      <td>2.000000</td>\n",
       "      <td>1.000000</td>\n",
       "      <td>1.000000</td>\n",
       "      <td>4.000000</td>\n",
       "      <td>3.000000</td>\n",
       "      <td>3.000000</td>\n",
       "      <td>5.000000</td>\n",
       "      <td>3.00000</td>\n",
       "    </tr>\n",
       "    <tr>\n",
       "      <th>75%</th>\n",
       "      <td>-1.000000</td>\n",
       "      <td>4.000000</td>\n",
       "      <td>2.000000</td>\n",
       "      <td>5.000000</td>\n",
       "      <td>4.000000</td>\n",
       "      <td>4.000000</td>\n",
       "      <td>5.000000</td>\n",
       "      <td>5.000000</td>\n",
       "      <td>4.000000</td>\n",
       "      <td>4.000000</td>\n",
       "      <td>...</td>\n",
       "      <td>3.000000</td>\n",
       "      <td>3.000000</td>\n",
       "      <td>2.000000</td>\n",
       "      <td>1.000000</td>\n",
       "      <td>3.000000</td>\n",
       "      <td>4.000000</td>\n",
       "      <td>4.000000</td>\n",
       "      <td>4.000000</td>\n",
       "      <td>7.000000</td>\n",
       "      <td>4.00000</td>\n",
       "    </tr>\n",
       "    <tr>\n",
       "      <th>max</th>\n",
       "      <td>3.000000</td>\n",
       "      <td>9.000000</td>\n",
       "      <td>2.000000</td>\n",
       "      <td>6.000000</td>\n",
       "      <td>5.000000</td>\n",
       "      <td>5.000000</td>\n",
       "      <td>5.000000</td>\n",
       "      <td>5.000000</td>\n",
       "      <td>5.000000</td>\n",
       "      <td>5.000000</td>\n",
       "      <td>...</td>\n",
       "      <td>4.000000</td>\n",
       "      <td>4.000000</td>\n",
       "      <td>3.000000</td>\n",
       "      <td>2.000000</td>\n",
       "      <td>5.000000</td>\n",
       "      <td>5.000000</td>\n",
       "      <td>5.000000</td>\n",
       "      <td>9.000000</td>\n",
       "      <td>9.000000</td>\n",
       "      <td>9.00000</td>\n",
       "    </tr>\n",
       "  </tbody>\n",
       "</table>\n",
       "<p>8 rows × 81 columns</p>\n",
       "</div>"
      ],
      "text/plain": [
       "            AGER_TYP  ALTERSKATEGORIE_GROB      ANREDE_KZ  CJT_GESAMTTYP  \\\n",
       "count  891221.000000         891221.000000  891221.000000  886367.000000   \n",
       "mean       -0.358435              2.777398       1.522098       3.632838   \n",
       "std         1.198724              1.068775       0.499512       1.595021   \n",
       "min        -1.000000              1.000000       1.000000       1.000000   \n",
       "25%        -1.000000              2.000000       1.000000       2.000000   \n",
       "50%        -1.000000              3.000000       2.000000       4.000000   \n",
       "75%        -1.000000              4.000000       2.000000       5.000000   \n",
       "max         3.000000              9.000000       2.000000       6.000000   \n",
       "\n",
       "       FINANZ_MINIMALIST  FINANZ_SPARER  FINANZ_VORSORGER  FINANZ_ANLEGER  \\\n",
       "count      891221.000000  891221.000000     891221.000000   891221.000000   \n",
       "mean            3.074528       2.821039          3.401106        3.033328   \n",
       "std             1.321055       1.464749          1.322134        1.529603   \n",
       "min             1.000000       1.000000          1.000000        1.000000   \n",
       "25%             2.000000       1.000000          3.000000        2.000000   \n",
       "50%             3.000000       3.000000          3.000000        3.000000   \n",
       "75%             4.000000       4.000000          5.000000        5.000000   \n",
       "max             5.000000       5.000000          5.000000        5.000000   \n",
       "\n",
       "       FINANZ_UNAUFFAELLIGER  FINANZ_HAUSBAUER  ...     PLZ8_ANTG1  \\\n",
       "count          891221.000000     891221.000000  ...  774706.000000   \n",
       "mean                2.874167          3.075121  ...       2.253330   \n",
       "std                 1.486731          1.353248  ...       0.972008   \n",
       "min                 1.000000          1.000000  ...       0.000000   \n",
       "25%                 2.000000          2.000000  ...       1.000000   \n",
       "50%                 3.000000          3.000000  ...       2.000000   \n",
       "75%                 4.000000          4.000000  ...       3.000000   \n",
       "max                 5.000000          5.000000  ...       4.000000   \n",
       "\n",
       "          PLZ8_ANTG2     PLZ8_ANTG3     PLZ8_ANTG4    PLZ8_BAUMAX  \\\n",
       "count  774706.000000  774706.000000  774706.000000  774706.000000   \n",
       "mean        2.801858       1.595426       0.699166       1.943913   \n",
       "std         0.920309       0.986736       0.727137       1.459654   \n",
       "min         0.000000       0.000000       0.000000       1.000000   \n",
       "25%         2.000000       1.000000       0.000000       1.000000   \n",
       "50%         3.000000       2.000000       1.000000       1.000000   \n",
       "75%         3.000000       2.000000       1.000000       3.000000   \n",
       "max         4.000000       3.000000       2.000000       5.000000   \n",
       "\n",
       "            PLZ8_HHZ       PLZ8_GBZ         ARBEIT    ORTSGR_KLS9  \\\n",
       "count  774706.000000  774706.000000  794005.000000  794005.000000   \n",
       "mean        3.612821       3.381087       3.167854       5.293002   \n",
       "std         0.973967       1.111598       1.002376       2.303739   \n",
       "min         1.000000       1.000000       1.000000       0.000000   \n",
       "25%         3.000000       3.000000       3.000000       4.000000   \n",
       "50%         4.000000       3.000000       3.000000       5.000000   \n",
       "75%         4.000000       4.000000       4.000000       7.000000   \n",
       "max         5.000000       5.000000       9.000000       9.000000   \n",
       "\n",
       "           RELAT_AB  \n",
       "count  794005.00000  \n",
       "mean        3.07222  \n",
       "std         1.36298  \n",
       "min         1.00000  \n",
       "25%         2.00000  \n",
       "50%         3.00000  \n",
       "75%         4.00000  \n",
       "max         9.00000  \n",
       "\n",
       "[8 rows x 81 columns]"
      ]
     },
     "execution_count": 6,
     "metadata": {},
     "output_type": "execute_result"
    }
   ],
   "source": [
    "azdias.describe()"
   ]
  },
  {
   "cell_type": "code",
   "execution_count": 7,
   "metadata": {},
   "outputs": [
    {
     "name": "stdout",
     "output_type": "stream",
     "text": [
      "<class 'pandas.core.frame.DataFrame'>\n",
      "RangeIndex: 891221 entries, 0 to 891220\n",
      "Data columns (total 85 columns):\n",
      " #   Column                 Non-Null Count   Dtype  \n",
      "---  ------                 --------------   -----  \n",
      " 0   AGER_TYP               891221 non-null  int64  \n",
      " 1   ALTERSKATEGORIE_GROB   891221 non-null  int64  \n",
      " 2   ANREDE_KZ              891221 non-null  int64  \n",
      " 3   CJT_GESAMTTYP          886367 non-null  float64\n",
      " 4   FINANZ_MINIMALIST      891221 non-null  int64  \n",
      " 5   FINANZ_SPARER          891221 non-null  int64  \n",
      " 6   FINANZ_VORSORGER       891221 non-null  int64  \n",
      " 7   FINANZ_ANLEGER         891221 non-null  int64  \n",
      " 8   FINANZ_UNAUFFAELLIGER  891221 non-null  int64  \n",
      " 9   FINANZ_HAUSBAUER       891221 non-null  int64  \n",
      " 10  FINANZTYP              891221 non-null  int64  \n",
      " 11  GEBURTSJAHR            891221 non-null  int64  \n",
      " 12  GFK_URLAUBERTYP        886367 non-null  float64\n",
      " 13  GREEN_AVANTGARDE       891221 non-null  int64  \n",
      " 14  HEALTH_TYP             891221 non-null  int64  \n",
      " 15  LP_LEBENSPHASE_FEIN    886367 non-null  float64\n",
      " 16  LP_LEBENSPHASE_GROB    886367 non-null  float64\n",
      " 17  LP_FAMILIE_FEIN        886367 non-null  float64\n",
      " 18  LP_FAMILIE_GROB        886367 non-null  float64\n",
      " 19  LP_STATUS_FEIN         886367 non-null  float64\n",
      " 20  LP_STATUS_GROB         886367 non-null  float64\n",
      " 21  NATIONALITAET_KZ       891221 non-null  int64  \n",
      " 22  PRAEGENDE_JUGENDJAHRE  891221 non-null  int64  \n",
      " 23  RETOURTYP_BK_S         886367 non-null  float64\n",
      " 24  SEMIO_SOZ              891221 non-null  int64  \n",
      " 25  SEMIO_FAM              891221 non-null  int64  \n",
      " 26  SEMIO_REL              891221 non-null  int64  \n",
      " 27  SEMIO_MAT              891221 non-null  int64  \n",
      " 28  SEMIO_VERT             891221 non-null  int64  \n",
      " 29  SEMIO_LUST             891221 non-null  int64  \n",
      " 30  SEMIO_ERL              891221 non-null  int64  \n",
      " 31  SEMIO_KULT             891221 non-null  int64  \n",
      " 32  SEMIO_RAT              891221 non-null  int64  \n",
      " 33  SEMIO_KRIT             891221 non-null  int64  \n",
      " 34  SEMIO_DOM              891221 non-null  int64  \n",
      " 35  SEMIO_KAEM             891221 non-null  int64  \n",
      " 36  SEMIO_PFLICHT          891221 non-null  int64  \n",
      " 37  SEMIO_TRADV            891221 non-null  int64  \n",
      " 38  SHOPPER_TYP            891221 non-null  int64  \n",
      " 39  SOHO_KZ                817722 non-null  float64\n",
      " 40  TITEL_KZ               817722 non-null  float64\n",
      " 41  VERS_TYP               891221 non-null  int64  \n",
      " 42  ZABEOTYP               891221 non-null  int64  \n",
      " 43  ALTER_HH               817722 non-null  float64\n",
      " 44  ANZ_PERSONEN           817722 non-null  float64\n",
      " 45  ANZ_TITEL              817722 non-null  float64\n",
      " 46  HH_EINKOMMEN_SCORE     872873 non-null  float64\n",
      " 47  KK_KUNDENTYP           306609 non-null  float64\n",
      " 48  W_KEIT_KIND_HH         783619 non-null  float64\n",
      " 49  WOHNDAUER_2008         817722 non-null  float64\n",
      " 50  ANZ_HAUSHALTE_AKTIV    798073 non-null  float64\n",
      " 51  ANZ_HH_TITEL           794213 non-null  float64\n",
      " 52  GEBAEUDETYP            798073 non-null  float64\n",
      " 53  KONSUMNAEHE            817252 non-null  float64\n",
      " 54  MIN_GEBAEUDEJAHR       798073 non-null  float64\n",
      " 55  OST_WEST_KZ            798073 non-null  object \n",
      " 56  WOHNLAGE               798073 non-null  float64\n",
      " 57  CAMEO_DEUG_2015        792242 non-null  object \n",
      " 58  CAMEO_DEU_2015         792242 non-null  object \n",
      " 59  CAMEO_INTL_2015        792242 non-null  object \n",
      " 60  KBA05_ANTG1            757897 non-null  float64\n",
      " 61  KBA05_ANTG2            757897 non-null  float64\n",
      " 62  KBA05_ANTG3            757897 non-null  float64\n",
      " 63  KBA05_ANTG4            757897 non-null  float64\n",
      " 64  KBA05_BAUMAX           757897 non-null  float64\n",
      " 65  KBA05_GBZ              757897 non-null  float64\n",
      " 66  BALLRAUM               797481 non-null  float64\n",
      " 67  EWDICHTE               797481 non-null  float64\n",
      " 68  INNENSTADT             797481 non-null  float64\n",
      " 69  GEBAEUDETYP_RASTER     798066 non-null  float64\n",
      " 70  KKK                    770025 non-null  float64\n",
      " 71  MOBI_REGIO             757897 non-null  float64\n",
      " 72  ONLINE_AFFINITAET      886367 non-null  float64\n",
      " 73  REGIOTYP               770025 non-null  float64\n",
      " 74  KBA13_ANZAHL_PKW       785421 non-null  float64\n",
      " 75  PLZ8_ANTG1             774706 non-null  float64\n",
      " 76  PLZ8_ANTG2             774706 non-null  float64\n",
      " 77  PLZ8_ANTG3             774706 non-null  float64\n",
      " 78  PLZ8_ANTG4             774706 non-null  float64\n",
      " 79  PLZ8_BAUMAX            774706 non-null  float64\n",
      " 80  PLZ8_HHZ               774706 non-null  float64\n",
      " 81  PLZ8_GBZ               774706 non-null  float64\n",
      " 82  ARBEIT                 794005 non-null  float64\n",
      " 83  ORTSGR_KLS9            794005 non-null  float64\n",
      " 84  RELAT_AB               794005 non-null  float64\n",
      "dtypes: float64(49), int64(32), object(4)\n",
      "memory usage: 578.0+ MB\n"
     ]
    }
   ],
   "source": [
    "azdias.info()"
   ]
  },
  {
   "cell_type": "code",
   "execution_count": 8,
   "metadata": {},
   "outputs": [
    {
     "data": {
      "text/html": [
       "<div>\n",
       "<style scoped>\n",
       "    .dataframe tbody tr th:only-of-type {\n",
       "        vertical-align: middle;\n",
       "    }\n",
       "\n",
       "    .dataframe tbody tr th {\n",
       "        vertical-align: top;\n",
       "    }\n",
       "\n",
       "    .dataframe thead th {\n",
       "        text-align: right;\n",
       "    }\n",
       "</style>\n",
       "<table border=\"1\" class=\"dataframe\">\n",
       "  <thead>\n",
       "    <tr style=\"text-align: right;\">\n",
       "      <th></th>\n",
       "      <th>attribute</th>\n",
       "      <th>information_level</th>\n",
       "      <th>type</th>\n",
       "      <th>missing_or_unknown</th>\n",
       "    </tr>\n",
       "  </thead>\n",
       "  <tbody>\n",
       "    <tr>\n",
       "      <th>0</th>\n",
       "      <td>AGER_TYP</td>\n",
       "      <td>person</td>\n",
       "      <td>categorical</td>\n",
       "      <td>[-1,0]</td>\n",
       "    </tr>\n",
       "    <tr>\n",
       "      <th>1</th>\n",
       "      <td>ALTERSKATEGORIE_GROB</td>\n",
       "      <td>person</td>\n",
       "      <td>ordinal</td>\n",
       "      <td>[-1,0,9]</td>\n",
       "    </tr>\n",
       "    <tr>\n",
       "      <th>2</th>\n",
       "      <td>ANREDE_KZ</td>\n",
       "      <td>person</td>\n",
       "      <td>categorical</td>\n",
       "      <td>[-1,0]</td>\n",
       "    </tr>\n",
       "    <tr>\n",
       "      <th>3</th>\n",
       "      <td>CJT_GESAMTTYP</td>\n",
       "      <td>person</td>\n",
       "      <td>categorical</td>\n",
       "      <td>[0]</td>\n",
       "    </tr>\n",
       "    <tr>\n",
       "      <th>4</th>\n",
       "      <td>FINANZ_MINIMALIST</td>\n",
       "      <td>person</td>\n",
       "      <td>ordinal</td>\n",
       "      <td>[-1]</td>\n",
       "    </tr>\n",
       "  </tbody>\n",
       "</table>\n",
       "</div>"
      ],
      "text/plain": [
       "              attribute information_level         type missing_or_unknown\n",
       "0              AGER_TYP            person  categorical             [-1,0]\n",
       "1  ALTERSKATEGORIE_GROB            person      ordinal           [-1,0,9]\n",
       "2             ANREDE_KZ            person  categorical             [-1,0]\n",
       "3         CJT_GESAMTTYP            person  categorical                [0]\n",
       "4     FINANZ_MINIMALIST            person      ordinal               [-1]"
      ]
     },
     "execution_count": 8,
     "metadata": {},
     "output_type": "execute_result"
    }
   ],
   "source": [
    "feat_info.head()"
   ]
  },
  {
   "cell_type": "code",
   "execution_count": 9,
   "metadata": {},
   "outputs": [
    {
     "data": {
      "text/html": [
       "<div>\n",
       "<style scoped>\n",
       "    .dataframe tbody tr th:only-of-type {\n",
       "        vertical-align: middle;\n",
       "    }\n",
       "\n",
       "    .dataframe tbody tr th {\n",
       "        vertical-align: top;\n",
       "    }\n",
       "\n",
       "    .dataframe thead th {\n",
       "        text-align: right;\n",
       "    }\n",
       "</style>\n",
       "<table border=\"1\" class=\"dataframe\">\n",
       "  <thead>\n",
       "    <tr style=\"text-align: right;\">\n",
       "      <th></th>\n",
       "      <th>attribute</th>\n",
       "      <th>information_level</th>\n",
       "      <th>type</th>\n",
       "      <th>missing_or_unknown</th>\n",
       "    </tr>\n",
       "  </thead>\n",
       "  <tbody>\n",
       "    <tr>\n",
       "      <th>80</th>\n",
       "      <td>PLZ8_HHZ</td>\n",
       "      <td>macrocell_plz8</td>\n",
       "      <td>ordinal</td>\n",
       "      <td>[-1]</td>\n",
       "    </tr>\n",
       "    <tr>\n",
       "      <th>81</th>\n",
       "      <td>PLZ8_GBZ</td>\n",
       "      <td>macrocell_plz8</td>\n",
       "      <td>ordinal</td>\n",
       "      <td>[-1]</td>\n",
       "    </tr>\n",
       "    <tr>\n",
       "      <th>82</th>\n",
       "      <td>ARBEIT</td>\n",
       "      <td>community</td>\n",
       "      <td>ordinal</td>\n",
       "      <td>[-1,9]</td>\n",
       "    </tr>\n",
       "    <tr>\n",
       "      <th>83</th>\n",
       "      <td>ORTSGR_KLS9</td>\n",
       "      <td>community</td>\n",
       "      <td>ordinal</td>\n",
       "      <td>[-1,0]</td>\n",
       "    </tr>\n",
       "    <tr>\n",
       "      <th>84</th>\n",
       "      <td>RELAT_AB</td>\n",
       "      <td>community</td>\n",
       "      <td>ordinal</td>\n",
       "      <td>[-1,9]</td>\n",
       "    </tr>\n",
       "  </tbody>\n",
       "</table>\n",
       "</div>"
      ],
      "text/plain": [
       "      attribute information_level     type missing_or_unknown\n",
       "80     PLZ8_HHZ    macrocell_plz8  ordinal               [-1]\n",
       "81     PLZ8_GBZ    macrocell_plz8  ordinal               [-1]\n",
       "82       ARBEIT         community  ordinal             [-1,9]\n",
       "83  ORTSGR_KLS9         community  ordinal             [-1,0]\n",
       "84     RELAT_AB         community  ordinal             [-1,9]"
      ]
     },
     "execution_count": 9,
     "metadata": {},
     "output_type": "execute_result"
    }
   ],
   "source": [
    "feat_info.tail()"
   ]
  },
  {
   "cell_type": "code",
   "execution_count": 10,
   "metadata": {},
   "outputs": [
    {
     "data": {
      "text/html": [
       "<div>\n",
       "<style scoped>\n",
       "    .dataframe tbody tr th:only-of-type {\n",
       "        vertical-align: middle;\n",
       "    }\n",
       "\n",
       "    .dataframe tbody tr th {\n",
       "        vertical-align: top;\n",
       "    }\n",
       "\n",
       "    .dataframe thead th {\n",
       "        text-align: right;\n",
       "    }\n",
       "</style>\n",
       "<table border=\"1\" class=\"dataframe\">\n",
       "  <thead>\n",
       "    <tr style=\"text-align: right;\">\n",
       "      <th></th>\n",
       "      <th>attribute</th>\n",
       "      <th>information_level</th>\n",
       "      <th>type</th>\n",
       "      <th>missing_or_unknown</th>\n",
       "    </tr>\n",
       "  </thead>\n",
       "  <tbody>\n",
       "    <tr>\n",
       "      <th>count</th>\n",
       "      <td>85</td>\n",
       "      <td>85</td>\n",
       "      <td>85</td>\n",
       "      <td>85</td>\n",
       "    </tr>\n",
       "    <tr>\n",
       "      <th>unique</th>\n",
       "      <td>85</td>\n",
       "      <td>9</td>\n",
       "      <td>5</td>\n",
       "      <td>9</td>\n",
       "    </tr>\n",
       "    <tr>\n",
       "      <th>top</th>\n",
       "      <td>ANZ_HH_TITEL</td>\n",
       "      <td>person</td>\n",
       "      <td>ordinal</td>\n",
       "      <td>[-1]</td>\n",
       "    </tr>\n",
       "    <tr>\n",
       "      <th>freq</th>\n",
       "      <td>1</td>\n",
       "      <td>43</td>\n",
       "      <td>49</td>\n",
       "      <td>26</td>\n",
       "    </tr>\n",
       "  </tbody>\n",
       "</table>\n",
       "</div>"
      ],
      "text/plain": [
       "           attribute information_level     type missing_or_unknown\n",
       "count             85                85       85                 85\n",
       "unique            85                 9        5                  9\n",
       "top     ANZ_HH_TITEL            person  ordinal               [-1]\n",
       "freq               1                43       49                 26"
      ]
     },
     "execution_count": 10,
     "metadata": {},
     "output_type": "execute_result"
    }
   ],
   "source": [
    "feat_info.describe()"
   ]
  },
  {
   "cell_type": "code",
   "execution_count": 11,
   "metadata": {},
   "outputs": [
    {
     "name": "stdout",
     "output_type": "stream",
     "text": [
      "<class 'pandas.core.frame.DataFrame'>\n",
      "RangeIndex: 85 entries, 0 to 84\n",
      "Data columns (total 4 columns):\n",
      " #   Column              Non-Null Count  Dtype \n",
      "---  ------              --------------  ----- \n",
      " 0   attribute           85 non-null     object\n",
      " 1   information_level   85 non-null     object\n",
      " 2   type                85 non-null     object\n",
      " 3   missing_or_unknown  85 non-null     object\n",
      "dtypes: object(4)\n",
      "memory usage: 2.8+ KB\n"
     ]
    }
   ],
   "source": [
    "feat_info.info()"
   ]
  },
  {
   "cell_type": "markdown",
   "metadata": {},
   "source": [
    "> **Tip**: Add additional cells to keep everything in reasonably-sized chunks! Keyboard shortcut `esc --> a` (press escape to enter command mode, then press the 'A' key) adds a new cell before the active cell, and `esc --> b` adds a new cell after the active cell. If you need to convert an active cell to a markdown cell, use `esc --> m` and to convert to a code cell, use `esc --> y`. \n",
    "\n",
    "## Step 1: Preprocessing\n",
    "\n",
    "### Step 1.1: Assess Missing Data\n",
    "\n",
    "The feature summary file contains a summary of properties for each demographics data column. You will use this file to help you make cleaning decisions during this stage of the project. First of all, you should assess the demographics data in terms of missing data. Pay attention to the following points as you perform your analysis, and take notes on what you observe. Make sure that you fill in the **Discussion** cell with your findings and decisions at the end of each step that has one!\n",
    "\n",
    "#### Step 1.1.1: Convert Missing Value Codes to NaNs\n",
    "The fourth column of the feature attributes summary (loaded in above as `feat_info`) documents the codes from the data dictionary that indicate missing or unknown data. While the file encodes this as a list (e.g. `[-1,0]`), this will get read in as a string object. You'll need to do a little bit of parsing to make use of it to identify and clean the data. Convert data that matches a 'missing' or 'unknown' value code into a numpy NaN value. You might want to see how much data takes on a 'missing' or 'unknown' code, and how much data is naturally missing, as a point of interest.\n",
    "\n",
    "**As one more reminder, you are encouraged to add additional cells to break up your analysis into manageable chunks.**"
   ]
  },
  {
   "cell_type": "code",
   "execution_count": 12,
   "metadata": {},
   "outputs": [],
   "source": [
    "# Identify missing or unknown data values and convert them to NaNs."
   ]
  },
  {
   "cell_type": "code",
   "execution_count": 13,
   "metadata": {},
   "outputs": [
    {
     "data": {
      "text/plain": [
       "4896838"
      ]
     },
     "execution_count": 13,
     "metadata": {},
     "output_type": "execute_result"
    }
   ],
   "source": [
    "already_nan = azdias.isna().sum().sum()\n",
    "already_nan"
   ]
  },
  {
   "cell_type": "code",
   "execution_count": 14,
   "metadata": {},
   "outputs": [
    {
     "data": {
      "text/plain": [
       "75753785"
      ]
     },
     "execution_count": 14,
     "metadata": {},
     "output_type": "execute_result"
    }
   ],
   "source": [
    "total_entries = 891221*85\n",
    "total_entries"
   ]
  },
  {
   "cell_type": "code",
   "execution_count": 15,
   "metadata": {},
   "outputs": [
    {
     "data": {
      "text/plain": [
       "6.464149613118342"
      ]
     },
     "execution_count": 15,
     "metadata": {},
     "output_type": "execute_result"
    }
   ],
   "source": [
    "percentage_nans_already = already_nan/total_entries * 100\n",
    "percentage_nans_already"
   ]
  },
  {
   "cell_type": "code",
   "execution_count": 16,
   "metadata": {},
   "outputs": [
    {
     "data": {
      "text/plain": [
       "0"
      ]
     },
     "execution_count": 16,
     "metadata": {},
     "output_type": "execute_result"
    }
   ],
   "source": [
    "# checking if feature matrix contains any NaN value\n",
    "feat_info['missing_or_unknown'].isna().sum()"
   ]
  },
  {
   "cell_type": "code",
   "execution_count": 17,
   "metadata": {},
   "outputs": [
    {
     "data": {
      "text/html": [
       "<div>\n",
       "<style scoped>\n",
       "    .dataframe tbody tr th:only-of-type {\n",
       "        vertical-align: middle;\n",
       "    }\n",
       "\n",
       "    .dataframe tbody tr th {\n",
       "        vertical-align: top;\n",
       "    }\n",
       "\n",
       "    .dataframe thead th {\n",
       "        text-align: right;\n",
       "    }\n",
       "</style>\n",
       "<table border=\"1\" class=\"dataframe\">\n",
       "  <thead>\n",
       "    <tr style=\"text-align: right;\">\n",
       "      <th></th>\n",
       "      <th>self</th>\n",
       "      <th>other</th>\n",
       "    </tr>\n",
       "  </thead>\n",
       "  <tbody>\n",
       "  </tbody>\n",
       "</table>\n",
       "</div>"
      ],
      "text/plain": [
       "Empty DataFrame\n",
       "Columns: [self, other]\n",
       "Index: []"
      ]
     },
     "execution_count": 17,
     "metadata": {},
     "output_type": "execute_result"
    }
   ],
   "source": [
    "#checking if the ordering of columns in azdias is same as rows in feat_info\n",
    "col_names = pd.Series(azdias.columns.values)\n",
    "col_names.compare(feat_info['attribute'])"
   ]
  },
  {
   "cell_type": "code",
   "execution_count": 18,
   "metadata": {},
   "outputs": [],
   "source": [
    "feat_info['missing_or_unknown'] = feat_info.missing_or_unknown.apply(lambda x: x[1:-1].split(','))"
   ]
  },
  {
   "cell_type": "code",
   "execution_count": 19,
   "metadata": {},
   "outputs": [
    {
     "name": "stdout",
     "output_type": "stream",
     "text": [
      "[['-1', '0'], ['-1', '0', '9'], ['-1', '0'], ['0'], ['-1'], ['-1'], ['-1'], ['-1'], ['-1'], ['-1'], ['-1'], ['0'], [''], [''], ['-1', '0'], ['0'], ['0'], ['0'], ['0'], ['0'], ['0'], ['-1', '0'], ['-1', '0'], ['0'], ['-1', '9'], ['-1', '9'], ['-1', '9'], ['-1', '9'], ['-1', '9'], ['-1', '9'], ['-1', '9'], ['-1', '9'], ['-1', '9'], ['-1', '9'], ['-1', '9'], ['-1', '9'], ['-1', '9'], ['-1', '9'], ['-1'], ['-1'], ['-1', '0'], ['-1'], ['-1', '9'], ['0'], [''], [''], ['-1', '0'], ['-1'], ['-1', '0'], ['-1', '0'], ['0'], [''], ['-1', '0'], [''], ['0'], ['-1'], ['-1'], ['-1', 'X'], ['XX'], ['-1', 'XX'], ['-1'], ['-1'], ['-1'], ['-1'], ['-1', '0'], ['-1', '0'], ['-1'], ['-1'], ['-1'], [''], ['-1', '0'], [''], [''], ['-1', '0'], [''], ['-1'], ['-1'], ['-1'], ['-1'], ['-1', '0'], ['-1'], ['-1'], ['-1', '9'], ['-1', '0'], ['-1', '9']]\n"
     ]
    }
   ],
   "source": [
    "print(list(feat_info['missing_or_unknown']))"
   ]
  },
  {
   "cell_type": "code",
   "execution_count": 20,
   "metadata": {},
   "outputs": [],
   "source": [
    "for i in feat_info['missing_or_unknown']:\n",
    "    if(len(i)!=0 and i[0]!=''):\n",
    "        for j in range(len(i)):\n",
    "            if(i[j]!='X' and i[j]!= 'XX'):\n",
    "                i[j] = int(i[j])"
   ]
  },
  {
   "cell_type": "code",
   "execution_count": 21,
   "metadata": {},
   "outputs": [
    {
     "data": {
      "text/plain": [
       "0        [-1, 0]\n",
       "1     [-1, 0, 9]\n",
       "2        [-1, 0]\n",
       "3            [0]\n",
       "4           [-1]\n",
       "         ...    \n",
       "80          [-1]\n",
       "81          [-1]\n",
       "82       [-1, 9]\n",
       "83       [-1, 0]\n",
       "84       [-1, 9]\n",
       "Name: missing_or_unknown, Length: 85, dtype: object"
      ]
     },
     "execution_count": 21,
     "metadata": {},
     "output_type": "execute_result"
    }
   ],
   "source": [
    "feat_info['missing_or_unknown']"
   ]
  },
  {
   "cell_type": "code",
   "execution_count": 22,
   "metadata": {},
   "outputs": [
    {
     "data": {
      "text/html": [
       "<div>\n",
       "<style scoped>\n",
       "    .dataframe tbody tr th:only-of-type {\n",
       "        vertical-align: middle;\n",
       "    }\n",
       "\n",
       "    .dataframe tbody tr th {\n",
       "        vertical-align: top;\n",
       "    }\n",
       "\n",
       "    .dataframe thead th {\n",
       "        text-align: right;\n",
       "    }\n",
       "</style>\n",
       "<table border=\"1\" class=\"dataframe\">\n",
       "  <thead>\n",
       "    <tr style=\"text-align: right;\">\n",
       "      <th></th>\n",
       "      <th>attribute</th>\n",
       "      <th>information_level</th>\n",
       "      <th>type</th>\n",
       "      <th>missing_or_unknown</th>\n",
       "    </tr>\n",
       "  </thead>\n",
       "  <tbody>\n",
       "    <tr>\n",
       "      <th>0</th>\n",
       "      <td>AGER_TYP</td>\n",
       "      <td>person</td>\n",
       "      <td>categorical</td>\n",
       "      <td>[-1, 0]</td>\n",
       "    </tr>\n",
       "    <tr>\n",
       "      <th>1</th>\n",
       "      <td>ALTERSKATEGORIE_GROB</td>\n",
       "      <td>person</td>\n",
       "      <td>ordinal</td>\n",
       "      <td>[-1, 0, 9]</td>\n",
       "    </tr>\n",
       "    <tr>\n",
       "      <th>2</th>\n",
       "      <td>ANREDE_KZ</td>\n",
       "      <td>person</td>\n",
       "      <td>categorical</td>\n",
       "      <td>[-1, 0]</td>\n",
       "    </tr>\n",
       "    <tr>\n",
       "      <th>3</th>\n",
       "      <td>CJT_GESAMTTYP</td>\n",
       "      <td>person</td>\n",
       "      <td>categorical</td>\n",
       "      <td>[0]</td>\n",
       "    </tr>\n",
       "    <tr>\n",
       "      <th>4</th>\n",
       "      <td>FINANZ_MINIMALIST</td>\n",
       "      <td>person</td>\n",
       "      <td>ordinal</td>\n",
       "      <td>[-1]</td>\n",
       "    </tr>\n",
       "  </tbody>\n",
       "</table>\n",
       "</div>"
      ],
      "text/plain": [
       "              attribute information_level         type missing_or_unknown\n",
       "0              AGER_TYP            person  categorical            [-1, 0]\n",
       "1  ALTERSKATEGORIE_GROB            person      ordinal         [-1, 0, 9]\n",
       "2             ANREDE_KZ            person  categorical            [-1, 0]\n",
       "3         CJT_GESAMTTYP            person  categorical                [0]\n",
       "4     FINANZ_MINIMALIST            person      ordinal               [-1]"
      ]
     },
     "execution_count": 22,
     "metadata": {},
     "output_type": "execute_result"
    }
   ],
   "source": [
    "feat_info.head()"
   ]
  },
  {
   "cell_type": "code",
   "execution_count": 23,
   "metadata": {},
   "outputs": [],
   "source": [
    "for i,columns in enumerate(col_names):\n",
    "    azdias[columns] = azdias[columns].replace(feat_info.iloc[i,3],np.nan)"
   ]
  },
  {
   "cell_type": "code",
   "execution_count": 24,
   "metadata": {},
   "outputs": [
    {
     "data": {
      "text/html": [
       "<div>\n",
       "<style scoped>\n",
       "    .dataframe tbody tr th:only-of-type {\n",
       "        vertical-align: middle;\n",
       "    }\n",
       "\n",
       "    .dataframe tbody tr th {\n",
       "        vertical-align: top;\n",
       "    }\n",
       "\n",
       "    .dataframe thead th {\n",
       "        text-align: right;\n",
       "    }\n",
       "</style>\n",
       "<table border=\"1\" class=\"dataframe\">\n",
       "  <thead>\n",
       "    <tr style=\"text-align: right;\">\n",
       "      <th></th>\n",
       "      <th>AGER_TYP</th>\n",
       "      <th>ALTERSKATEGORIE_GROB</th>\n",
       "      <th>ANREDE_KZ</th>\n",
       "      <th>CJT_GESAMTTYP</th>\n",
       "      <th>FINANZ_MINIMALIST</th>\n",
       "      <th>FINANZ_SPARER</th>\n",
       "      <th>FINANZ_VORSORGER</th>\n",
       "      <th>FINANZ_ANLEGER</th>\n",
       "      <th>FINANZ_UNAUFFAELLIGER</th>\n",
       "      <th>FINANZ_HAUSBAUER</th>\n",
       "      <th>...</th>\n",
       "      <th>PLZ8_ANTG1</th>\n",
       "      <th>PLZ8_ANTG2</th>\n",
       "      <th>PLZ8_ANTG3</th>\n",
       "      <th>PLZ8_ANTG4</th>\n",
       "      <th>PLZ8_BAUMAX</th>\n",
       "      <th>PLZ8_HHZ</th>\n",
       "      <th>PLZ8_GBZ</th>\n",
       "      <th>ARBEIT</th>\n",
       "      <th>ORTSGR_KLS9</th>\n",
       "      <th>RELAT_AB</th>\n",
       "    </tr>\n",
       "  </thead>\n",
       "  <tbody>\n",
       "    <tr>\n",
       "      <th>0</th>\n",
       "      <td>NaN</td>\n",
       "      <td>2.0</td>\n",
       "      <td>1</td>\n",
       "      <td>2.0</td>\n",
       "      <td>3</td>\n",
       "      <td>4</td>\n",
       "      <td>3</td>\n",
       "      <td>5</td>\n",
       "      <td>5</td>\n",
       "      <td>3</td>\n",
       "      <td>...</td>\n",
       "      <td>NaN</td>\n",
       "      <td>NaN</td>\n",
       "      <td>NaN</td>\n",
       "      <td>NaN</td>\n",
       "      <td>NaN</td>\n",
       "      <td>NaN</td>\n",
       "      <td>NaN</td>\n",
       "      <td>NaN</td>\n",
       "      <td>NaN</td>\n",
       "      <td>NaN</td>\n",
       "    </tr>\n",
       "    <tr>\n",
       "      <th>1</th>\n",
       "      <td>NaN</td>\n",
       "      <td>1.0</td>\n",
       "      <td>2</td>\n",
       "      <td>5.0</td>\n",
       "      <td>1</td>\n",
       "      <td>5</td>\n",
       "      <td>2</td>\n",
       "      <td>5</td>\n",
       "      <td>4</td>\n",
       "      <td>5</td>\n",
       "      <td>...</td>\n",
       "      <td>2.0</td>\n",
       "      <td>3.0</td>\n",
       "      <td>2.0</td>\n",
       "      <td>1.0</td>\n",
       "      <td>1.0</td>\n",
       "      <td>5.0</td>\n",
       "      <td>4.0</td>\n",
       "      <td>3.0</td>\n",
       "      <td>5.0</td>\n",
       "      <td>4.0</td>\n",
       "    </tr>\n",
       "    <tr>\n",
       "      <th>2</th>\n",
       "      <td>NaN</td>\n",
       "      <td>3.0</td>\n",
       "      <td>2</td>\n",
       "      <td>3.0</td>\n",
       "      <td>1</td>\n",
       "      <td>4</td>\n",
       "      <td>1</td>\n",
       "      <td>2</td>\n",
       "      <td>3</td>\n",
       "      <td>5</td>\n",
       "      <td>...</td>\n",
       "      <td>3.0</td>\n",
       "      <td>3.0</td>\n",
       "      <td>1.0</td>\n",
       "      <td>0.0</td>\n",
       "      <td>1.0</td>\n",
       "      <td>4.0</td>\n",
       "      <td>4.0</td>\n",
       "      <td>3.0</td>\n",
       "      <td>5.0</td>\n",
       "      <td>2.0</td>\n",
       "    </tr>\n",
       "    <tr>\n",
       "      <th>3</th>\n",
       "      <td>2.0</td>\n",
       "      <td>4.0</td>\n",
       "      <td>2</td>\n",
       "      <td>2.0</td>\n",
       "      <td>4</td>\n",
       "      <td>2</td>\n",
       "      <td>5</td>\n",
       "      <td>2</td>\n",
       "      <td>1</td>\n",
       "      <td>2</td>\n",
       "      <td>...</td>\n",
       "      <td>2.0</td>\n",
       "      <td>2.0</td>\n",
       "      <td>2.0</td>\n",
       "      <td>0.0</td>\n",
       "      <td>1.0</td>\n",
       "      <td>3.0</td>\n",
       "      <td>4.0</td>\n",
       "      <td>2.0</td>\n",
       "      <td>3.0</td>\n",
       "      <td>3.0</td>\n",
       "    </tr>\n",
       "    <tr>\n",
       "      <th>4</th>\n",
       "      <td>NaN</td>\n",
       "      <td>3.0</td>\n",
       "      <td>1</td>\n",
       "      <td>5.0</td>\n",
       "      <td>4</td>\n",
       "      <td>3</td>\n",
       "      <td>4</td>\n",
       "      <td>1</td>\n",
       "      <td>3</td>\n",
       "      <td>2</td>\n",
       "      <td>...</td>\n",
       "      <td>2.0</td>\n",
       "      <td>4.0</td>\n",
       "      <td>2.0</td>\n",
       "      <td>1.0</td>\n",
       "      <td>2.0</td>\n",
       "      <td>3.0</td>\n",
       "      <td>3.0</td>\n",
       "      <td>4.0</td>\n",
       "      <td>6.0</td>\n",
       "      <td>5.0</td>\n",
       "    </tr>\n",
       "    <tr>\n",
       "      <th>...</th>\n",
       "      <td>...</td>\n",
       "      <td>...</td>\n",
       "      <td>...</td>\n",
       "      <td>...</td>\n",
       "      <td>...</td>\n",
       "      <td>...</td>\n",
       "      <td>...</td>\n",
       "      <td>...</td>\n",
       "      <td>...</td>\n",
       "      <td>...</td>\n",
       "      <td>...</td>\n",
       "      <td>...</td>\n",
       "      <td>...</td>\n",
       "      <td>...</td>\n",
       "      <td>...</td>\n",
       "      <td>...</td>\n",
       "      <td>...</td>\n",
       "      <td>...</td>\n",
       "      <td>...</td>\n",
       "      <td>...</td>\n",
       "      <td>...</td>\n",
       "    </tr>\n",
       "    <tr>\n",
       "      <th>891216</th>\n",
       "      <td>NaN</td>\n",
       "      <td>3.0</td>\n",
       "      <td>2</td>\n",
       "      <td>5.0</td>\n",
       "      <td>1</td>\n",
       "      <td>4</td>\n",
       "      <td>2</td>\n",
       "      <td>5</td>\n",
       "      <td>4</td>\n",
       "      <td>4</td>\n",
       "      <td>...</td>\n",
       "      <td>3.0</td>\n",
       "      <td>2.0</td>\n",
       "      <td>0.0</td>\n",
       "      <td>0.0</td>\n",
       "      <td>1.0</td>\n",
       "      <td>2.0</td>\n",
       "      <td>3.0</td>\n",
       "      <td>NaN</td>\n",
       "      <td>NaN</td>\n",
       "      <td>NaN</td>\n",
       "    </tr>\n",
       "    <tr>\n",
       "      <th>891217</th>\n",
       "      <td>NaN</td>\n",
       "      <td>2.0</td>\n",
       "      <td>1</td>\n",
       "      <td>4.0</td>\n",
       "      <td>3</td>\n",
       "      <td>3</td>\n",
       "      <td>3</td>\n",
       "      <td>2</td>\n",
       "      <td>2</td>\n",
       "      <td>3</td>\n",
       "      <td>...</td>\n",
       "      <td>1.0</td>\n",
       "      <td>3.0</td>\n",
       "      <td>3.0</td>\n",
       "      <td>2.0</td>\n",
       "      <td>4.0</td>\n",
       "      <td>5.0</td>\n",
       "      <td>3.0</td>\n",
       "      <td>4.0</td>\n",
       "      <td>6.0</td>\n",
       "      <td>5.0</td>\n",
       "    </tr>\n",
       "    <tr>\n",
       "      <th>891218</th>\n",
       "      <td>NaN</td>\n",
       "      <td>2.0</td>\n",
       "      <td>2</td>\n",
       "      <td>4.0</td>\n",
       "      <td>2</td>\n",
       "      <td>4</td>\n",
       "      <td>2</td>\n",
       "      <td>5</td>\n",
       "      <td>4</td>\n",
       "      <td>3</td>\n",
       "      <td>...</td>\n",
       "      <td>4.0</td>\n",
       "      <td>2.0</td>\n",
       "      <td>0.0</td>\n",
       "      <td>0.0</td>\n",
       "      <td>1.0</td>\n",
       "      <td>3.0</td>\n",
       "      <td>4.0</td>\n",
       "      <td>2.0</td>\n",
       "      <td>2.0</td>\n",
       "      <td>3.0</td>\n",
       "    </tr>\n",
       "    <tr>\n",
       "      <th>891219</th>\n",
       "      <td>NaN</td>\n",
       "      <td>1.0</td>\n",
       "      <td>1</td>\n",
       "      <td>3.0</td>\n",
       "      <td>1</td>\n",
       "      <td>5</td>\n",
       "      <td>3</td>\n",
       "      <td>5</td>\n",
       "      <td>5</td>\n",
       "      <td>5</td>\n",
       "      <td>...</td>\n",
       "      <td>1.0</td>\n",
       "      <td>4.0</td>\n",
       "      <td>3.0</td>\n",
       "      <td>1.0</td>\n",
       "      <td>5.0</td>\n",
       "      <td>1.0</td>\n",
       "      <td>1.0</td>\n",
       "      <td>4.0</td>\n",
       "      <td>7.0</td>\n",
       "      <td>5.0</td>\n",
       "    </tr>\n",
       "    <tr>\n",
       "      <th>891220</th>\n",
       "      <td>NaN</td>\n",
       "      <td>4.0</td>\n",
       "      <td>1</td>\n",
       "      <td>1.0</td>\n",
       "      <td>4</td>\n",
       "      <td>2</td>\n",
       "      <td>5</td>\n",
       "      <td>2</td>\n",
       "      <td>1</td>\n",
       "      <td>5</td>\n",
       "      <td>...</td>\n",
       "      <td>3.0</td>\n",
       "      <td>3.0</td>\n",
       "      <td>1.0</td>\n",
       "      <td>0.0</td>\n",
       "      <td>1.0</td>\n",
       "      <td>4.0</td>\n",
       "      <td>4.0</td>\n",
       "      <td>3.0</td>\n",
       "      <td>4.0</td>\n",
       "      <td>5.0</td>\n",
       "    </tr>\n",
       "  </tbody>\n",
       "</table>\n",
       "<p>891221 rows × 85 columns</p>\n",
       "</div>"
      ],
      "text/plain": [
       "        AGER_TYP  ALTERSKATEGORIE_GROB  ANREDE_KZ  CJT_GESAMTTYP  \\\n",
       "0            NaN                   2.0          1            2.0   \n",
       "1            NaN                   1.0          2            5.0   \n",
       "2            NaN                   3.0          2            3.0   \n",
       "3            2.0                   4.0          2            2.0   \n",
       "4            NaN                   3.0          1            5.0   \n",
       "...          ...                   ...        ...            ...   \n",
       "891216       NaN                   3.0          2            5.0   \n",
       "891217       NaN                   2.0          1            4.0   \n",
       "891218       NaN                   2.0          2            4.0   \n",
       "891219       NaN                   1.0          1            3.0   \n",
       "891220       NaN                   4.0          1            1.0   \n",
       "\n",
       "        FINANZ_MINIMALIST  FINANZ_SPARER  FINANZ_VORSORGER  FINANZ_ANLEGER  \\\n",
       "0                       3              4                 3               5   \n",
       "1                       1              5                 2               5   \n",
       "2                       1              4                 1               2   \n",
       "3                       4              2                 5               2   \n",
       "4                       4              3                 4               1   \n",
       "...                   ...            ...               ...             ...   \n",
       "891216                  1              4                 2               5   \n",
       "891217                  3              3                 3               2   \n",
       "891218                  2              4                 2               5   \n",
       "891219                  1              5                 3               5   \n",
       "891220                  4              2                 5               2   \n",
       "\n",
       "        FINANZ_UNAUFFAELLIGER  FINANZ_HAUSBAUER  ...  PLZ8_ANTG1  PLZ8_ANTG2  \\\n",
       "0                           5                 3  ...         NaN         NaN   \n",
       "1                           4                 5  ...         2.0         3.0   \n",
       "2                           3                 5  ...         3.0         3.0   \n",
       "3                           1                 2  ...         2.0         2.0   \n",
       "4                           3                 2  ...         2.0         4.0   \n",
       "...                       ...               ...  ...         ...         ...   \n",
       "891216                      4                 4  ...         3.0         2.0   \n",
       "891217                      2                 3  ...         1.0         3.0   \n",
       "891218                      4                 3  ...         4.0         2.0   \n",
       "891219                      5                 5  ...         1.0         4.0   \n",
       "891220                      1                 5  ...         3.0         3.0   \n",
       "\n",
       "        PLZ8_ANTG3  PLZ8_ANTG4  PLZ8_BAUMAX  PLZ8_HHZ  PLZ8_GBZ  ARBEIT  \\\n",
       "0              NaN         NaN          NaN       NaN       NaN     NaN   \n",
       "1              2.0         1.0          1.0       5.0       4.0     3.0   \n",
       "2              1.0         0.0          1.0       4.0       4.0     3.0   \n",
       "3              2.0         0.0          1.0       3.0       4.0     2.0   \n",
       "4              2.0         1.0          2.0       3.0       3.0     4.0   \n",
       "...            ...         ...          ...       ...       ...     ...   \n",
       "891216         0.0         0.0          1.0       2.0       3.0     NaN   \n",
       "891217         3.0         2.0          4.0       5.0       3.0     4.0   \n",
       "891218         0.0         0.0          1.0       3.0       4.0     2.0   \n",
       "891219         3.0         1.0          5.0       1.0       1.0     4.0   \n",
       "891220         1.0         0.0          1.0       4.0       4.0     3.0   \n",
       "\n",
       "        ORTSGR_KLS9  RELAT_AB  \n",
       "0               NaN       NaN  \n",
       "1               5.0       4.0  \n",
       "2               5.0       2.0  \n",
       "3               3.0       3.0  \n",
       "4               6.0       5.0  \n",
       "...             ...       ...  \n",
       "891216          NaN       NaN  \n",
       "891217          6.0       5.0  \n",
       "891218          2.0       3.0  \n",
       "891219          7.0       5.0  \n",
       "891220          4.0       5.0  \n",
       "\n",
       "[891221 rows x 85 columns]"
      ]
     },
     "execution_count": 24,
     "metadata": {},
     "output_type": "execute_result"
    }
   ],
   "source": [
    "azdias"
   ]
  },
  {
   "cell_type": "markdown",
   "metadata": {},
   "source": [
    "#### Step 1.1.2: Assess Missing Data in Each Column\n",
    "\n",
    "How much missing data is present in each column? There are a few columns that are outliers in terms of the proportion of values that are missing. You will want to use matplotlib's [`hist()`](https://matplotlib.org/api/_as_gen/matplotlib.pyplot.hist.html) function to visualize the distribution of missing value counts to find these columns. Identify and document these columns. While some of these columns might have justifications for keeping or re-encoding the data, for this project you should just remove them from the dataframe. (Feel free to make remarks about these outlier columns in the discussion, however!)\n",
    "\n",
    "For the remaining features, are there any patterns in which columns have, or share, missing data?"
   ]
  },
  {
   "cell_type": "code",
   "execution_count": 25,
   "metadata": {},
   "outputs": [],
   "source": [
    "# Perform an assessment of how much missing data there is in each column of the\n",
    "# dataset.\n",
    "nan_col_count = []\n",
    "for column in col_names:\n",
    "    nan_col_count.append(azdias[column].isna().sum())"
   ]
  },
  {
   "cell_type": "code",
   "execution_count": 26,
   "metadata": {},
   "outputs": [
    {
     "data": {
      "image/png": "[encoded data removed]",
      "text/plain": [
       "<Figure size 432x288 with 1 Axes>"
      ]
     },
     "metadata": {
      "needs_background": "light"
     },
     "output_type": "display_data"
    }
   ],
   "source": [
    "fig,ax = plt.subplots(1,1)\n",
    "ax.hist(nan_col_count)\n",
    "ax.set_xlabel('Count of Missing Values')\n",
    "ax.set_ylabel('Number of columns having same missing values')\n",
    "plt.show()"
   ]
  },
  {
   "cell_type": "code",
   "execution_count": 27,
   "metadata": {},
   "outputs": [],
   "source": [
    "column_indices = list(range(85))"
   ]
  },
  {
   "cell_type": "code",
   "execution_count": 28,
   "metadata": {},
   "outputs": [
    {
     "data": {
      "image/png": "[encoded data removed]",
      "text/plain": [
       "<Figure size 432x288 with 1 Axes>"
      ]
     },
     "metadata": {
      "needs_background": "light"
     },
     "output_type": "display_data"
    }
   ],
   "source": [
    "fig = plt.figure()\n",
    "ax = fig.add_axes([0,0,1,1])\n",
    "ax.bar(column_indices,nan_col_count)\n",
    "plt.show()"
   ]
  },
  {
   "cell_type": "code",
   "execution_count": 29,
   "metadata": {},
   "outputs": [],
   "source": [
    "too_many_missing_col = []\n",
    "for i in range(85):\n",
    "    if(nan_col_count[i] > 300000):\n",
    "        too_many_missing_col.append(i)"
   ]
  },
  {
   "cell_type": "code",
   "execution_count": 30,
   "metadata": {},
   "outputs": [
    {
     "data": {
      "text/plain": [
       "[0, 11, 40, 43, 47, 64]"
      ]
     },
     "execution_count": 30,
     "metadata": {},
     "output_type": "execute_result"
    }
   ],
   "source": [
    "too_many_missing_col"
   ]
  },
  {
   "cell_type": "markdown",
   "metadata": {},
   "source": [
    "# Investigate patterns in the amount of missing data in each column.\n",
    "The pattern I observe in the histogram is most of the columns which have less missing data, occur in groups except few columns"
   ]
  },
  {
   "cell_type": "code",
   "execution_count": 31,
   "metadata": {},
   "outputs": [],
   "source": [
    "# Remove the outlier columns from the dataset. (You'll perform other data\n",
    "# engineering tasks such as re-encoding and imputation later.)\n",
    "azdias1 = azdias.drop(azdias.columns[too_many_missing_col],axis = 1)\n",
    "feat_info1 = feat_info.drop(feat_info.index[too_many_missing_col],axis = 0)"
   ]
  },
  {
   "cell_type": "code",
   "execution_count": 32,
   "metadata": {},
   "outputs": [
    {
     "data": {
      "text/plain": [
       "(891221, 79)"
      ]
     },
     "execution_count": 32,
     "metadata": {},
     "output_type": "execute_result"
    }
   ],
   "source": [
    "azdias1.shape"
   ]
  },
  {
   "cell_type": "code",
   "execution_count": 33,
   "metadata": {},
   "outputs": [
    {
     "data": {
      "text/plain": [
       "(79, 4)"
      ]
     },
     "execution_count": 33,
     "metadata": {},
     "output_type": "execute_result"
    }
   ],
   "source": [
    "feat_info1.shape"
   ]
  },
  {
   "cell_type": "code",
   "execution_count": 34,
   "metadata": {},
   "outputs": [
    {
     "name": "stdout",
     "output_type": "stream",
     "text": [
      "0         AGER_TYP\n",
      "11     GEBURTSJAHR\n",
      "40        TITEL_KZ\n",
      "43        ALTER_HH\n",
      "47    KK_KUNDENTYP\n",
      "64    KBA05_BAUMAX\n",
      "dtype: object\n"
     ]
    }
   ],
   "source": [
    "print(col_names[too_many_missing_col])"
   ]
  },
  {
   "cell_type": "markdown",
   "metadata": {},
   "source": [
    "#### Discussion 1.1.2: Assess Missing Data in Each Column\n",
    "* From the histogram I observe most columns have missing values less than 200,000. The bar graph plotted later gives me an estimate that 6 columns have more than 300,000 missing values which is more than about 33%(300,000/891,221 * 100) of the 891,221 entries for each column.\n",
    "<br>\n",
    "* Regarding pattern in the amount of missing values , I observe atleast 2 columns(in general) have same missing values(number of columns having same amount of missing values occur in groups)\n",
    "<br>\n",
    "* The columns which were removed have indices and their names as:\n",
    "<br>\n",
    "    * 0    :        AGER_TYP<br>\n",
    "    * 11   :  GEBURTSJAHR<br>\n",
    "    * 40   :     TITEL_KZ<br>\n",
    "    * 43   :     ALTER_HH<br>\n",
    "    * 47   : KK_KUNDENTYP<br>\n",
    "    * 64   : KBA05_BAUMAX<br>"
   ]
  },
  {
   "cell_type": "markdown",
   "metadata": {},
   "source": [
    "#### Step 1.1.3: Assess Missing Data in Each Row\n",
    "\n",
    "Now, you'll perform a similar assessment for the rows of the dataset. How much data is missing in each row? As with the columns, you should see some groups of points that have a very different numbers of missing values. Divide the data into two subsets: one for data points that are above some threshold for missing values, and a second subset for points below that threshold.\n",
    "\n",
    "In order to know what to do with the outlier rows, we should see if the distribution of data values on columns that are not missing data (or are missing very little data) are similar or different between the two groups. Select at least five of these columns and compare the distribution of values.\n",
    "- You can use seaborn's [`countplot()`](https://seaborn.pydata.org/generated/seaborn.countplot.html) function to create a bar chart of code frequencies and matplotlib's [`subplot()`](https://matplotlib.org/api/_as_gen/matplotlib.pyplot.subplot.html) function to put bar charts for the two subplots side by side.\n",
    "- To reduce repeated code, you might want to write a function that can perform this comparison, taking as one of its arguments a column to be compared.\n",
    "\n",
    "Depending on what you observe in your comparison, this will have implications on how you approach your conclusions later in the analysis. If the distributions of non-missing features look similar between the data with many missing values and the data with few or no missing values, then we could argue that simply dropping those points from the analysis won't present a major issue. On the other hand, if the data with many missing values looks very different from the data with few or no missing values, then we should make a note on those data as special. We'll revisit these data later on. **Either way, you should continue your analysis for now using just the subset of the data with few or no missing values.**"
   ]
  },
  {
   "cell_type": "code",
   "execution_count": 35,
   "metadata": {},
   "outputs": [],
   "source": [
    "# How much data is missing in each row of the dataset?\n",
    "nan_row_count = list(azdias1.isnull().sum(axis=1))"
   ]
  },
  {
   "cell_type": "code",
   "execution_count": 36,
   "metadata": {},
   "outputs": [
    {
     "name": "stdout",
     "output_type": "stream",
     "text": [
      "0         43\n",
      "1          0\n",
      "2          0\n",
      "3          7\n",
      "4          0\n",
      "          ..\n",
      "891216     3\n",
      "891217     4\n",
      "891218     5\n",
      "891219     0\n",
      "891220     0\n",
      "Length: 891221, dtype: int64\n"
     ]
    }
   ],
   "source": [
    "print(pd.Series(nan_row_count))"
   ]
  },
  {
   "cell_type": "code",
   "execution_count": 37,
   "metadata": {},
   "outputs": [
    {
     "data": {
      "image/png": "[encoded data removed]",
      "text/plain": [
       "<Figure size 432x288 with 1 Axes>"
      ]
     },
     "metadata": {
      "needs_background": "light"
     },
     "output_type": "display_data"
    }
   ],
   "source": [
    "# Write code to divide the data into two subsets based on the number of missing\n",
    "# values in each row.\n",
    "fig,ax = plt.subplots(1,1)\n",
    "ax.hist(nan_row_count)\n",
    "ax.set_xlabel('Count of Missing Values')\n",
    "ax.set_ylabel('Number of rows having same missing values')\n",
    "plt.show()"
   ]
  },
  {
   "cell_type": "code",
   "execution_count": 38,
   "metadata": {},
   "outputs": [],
   "source": [
    "too_many_missing_row = []\n",
    "for i in range(len(nan_row_count)):\n",
    "    if(nan_row_count[i] >= 29):\n",
    "        too_many_missing_row.append(i)"
   ]
  },
  {
   "cell_type": "code",
   "execution_count": 39,
   "metadata": {},
   "outputs": [
    {
     "name": "stdout",
     "output_type": "stream",
     "text": [
      "93172\n"
     ]
    }
   ],
   "source": [
    "print(len(too_many_missing_row))"
   ]
  },
  {
   "cell_type": "code",
   "execution_count": 40,
   "metadata": {},
   "outputs": [],
   "source": [
    "azdias2 = azdias1.drop(azdias1.index[too_many_missing_row],axis = 0)"
   ]
  },
  {
   "cell_type": "code",
   "execution_count": 41,
   "metadata": {},
   "outputs": [
    {
     "data": {
      "text/plain": [
       "(798049, 79)"
      ]
     },
     "execution_count": 41,
     "metadata": {},
     "output_type": "execute_result"
    }
   ],
   "source": [
    "azdias2.shape"
   ]
  },
  {
   "cell_type": "code",
   "execution_count": 42,
   "metadata": {},
   "outputs": [
    {
     "data": {
      "text/plain": [
       "798049"
      ]
     },
     "execution_count": 42,
     "metadata": {},
     "output_type": "execute_result"
    }
   ],
   "source": [
    "azdias1.shape[0] - 93172"
   ]
  },
  {
   "cell_type": "code",
   "execution_count": 43,
   "metadata": {},
   "outputs": [],
   "source": [
    "azdias_dropped_rows = azdias1.loc[too_many_missing_row]"
   ]
  },
  {
   "cell_type": "code",
   "execution_count": 44,
   "metadata": {},
   "outputs": [
    {
     "data": {
      "text/plain": [
       "(93172, 79)"
      ]
     },
     "execution_count": 44,
     "metadata": {},
     "output_type": "execute_result"
    }
   ],
   "source": [
    "azdias_dropped_rows.shape"
   ]
  },
  {
   "cell_type": "code",
   "execution_count": 45,
   "metadata": {},
   "outputs": [
    {
     "data": {
      "text/plain": [
       "[0, 11, 40, 43, 47, 64]"
      ]
     },
     "execution_count": 45,
     "metadata": {},
     "output_type": "execute_result"
    }
   ],
   "source": [
    "too_many_missing_col"
   ]
  },
  {
   "cell_type": "code",
   "execution_count": 46,
   "metadata": {},
   "outputs": [],
   "source": [
    "# column indices which weren't dropped from azdias in azdias1\n",
    "less_missing = []\n",
    "for i in range(85):\n",
    "    if i not in too_many_missing_col:\n",
    "        less_missing.append(i)"
   ]
  },
  {
   "cell_type": "code",
   "execution_count": 47,
   "metadata": {},
   "outputs": [
    {
     "name": "stdout",
     "output_type": "stream",
     "text": [
      "[1, 2, 3, 4, 5, 6, 7, 8, 9, 10, 12, 13, 14, 15, 16, 17, 18, 19, 20, 21, 22, 23, 24, 25, 26, 27, 28, 29, 30, 31, 32, 33, 34, 35, 36, 37, 38, 39, 41, 42, 44, 45, 46, 48, 49, 50, 51, 52, 53, 54, 55, 56, 57, 58, 59, 60, 61, 62, 63, 65, 66, 67, 68, 69, 70, 71, 72, 73, 74, 75, 76, 77, 78, 79, 80, 81, 82, 83, 84]\n"
     ]
    }
   ],
   "source": [
    "print(less_missing)"
   ]
  },
  {
   "cell_type": "code",
   "execution_count": 48,
   "metadata": {},
   "outputs": [],
   "source": [
    "# storing nan_counts of undropped columns and sorting them to get the columns with least missing values\n",
    "less_nan_col_count = []\n",
    "for i in range(len(less_missing)):\n",
    "    less_nan_col_count.append((nan_col_count[less_missing[i]],less_missing[i]))"
   ]
  },
  {
   "cell_type": "code",
   "execution_count": 49,
   "metadata": {},
   "outputs": [],
   "source": [
    "less_nan_col_count.sort()"
   ]
  },
  {
   "cell_type": "code",
   "execution_count": 50,
   "metadata": {},
   "outputs": [
    {
     "name": "stdout",
     "output_type": "stream",
     "text": [
      "[(0, 2), (0, 4), (0, 5), (0, 6), (0, 7), (0, 8), (0, 9), (0, 10), (0, 13), (0, 24), (0, 25), (0, 26), (0, 27), (0, 28), (0, 29), (0, 30), (0, 31), (0, 32), (0, 33), (0, 34), (0, 35), (0, 36), (0, 37), (0, 42), (2881, 1), (4854, 3), (4854, 12), (4854, 19), (4854, 20), (4854, 23), (4854, 72), (18348, 46), (73499, 39), (73499, 44), (73499, 45), (73499, 49), (73969, 53), (77792, 17), (77792, 18), (93148, 52), (93148, 54), (93148, 55), (93148, 56), (93155, 69), (93740, 66), (93740, 67), (93740, 68), (94572, 16), (97008, 51), (97274, 83), (97375, 82), (97375, 84), (97632, 15), (99352, 57), (99352, 58), (99352, 59), (99611, 50), (105800, 74), (108164, 22), (108315, 21), (111196, 14), (111196, 38), (111196, 41), (116515, 75), (116515, 76), (116515, 77), (116515, 78), (116515, 79), (116515, 80), (116515, 81), (133324, 60), (133324, 61), (133324, 62), (133324, 63), (133324, 65), (133324, 71), (147988, 48), (158064, 70), (158064, 73)]\n"
     ]
    }
   ],
   "source": [
    "print(less_nan_col_count)"
   ]
  },
  {
   "cell_type": "code",
   "execution_count": 51,
   "metadata": {},
   "outputs": [],
   "source": [
    "def plotter(column_name):\n",
    "    plt.subplot(1,2,1)\n",
    "    sns.countplot(x=azdias_dropped_rows.index, data=azdias_dropped_rows.loc[:,column_name])\n",
    "    plt.title('Rows with many NaNs')\n",
    "    plt.subplot(1,2,2)\n",
    "    sns.countplot(x=azdias2.index, data=azdias2.loc[:,column_name])\n",
    "    plt.title('Rows with less NaNs')\n",
    "    plt.suptitle('Comparison for column named:{} having {} missing values in this column'.format(column_name,azdias1[column_name].isna().sum()))\n",
    "    plt.tight_layout()\n",
    "    plt.show()"
   ]
  },
  {
   "cell_type": "code",
   "execution_count": 52,
   "metadata": {},
   "outputs": [
    {
     "name": "stdout",
     "output_type": "stream",
     "text": [
      "ANREDE_KZ\n",
      "FINANZ_MINIMALIST\n",
      "FINANZ_SPARER\n",
      "FINANZ_VORSORGER\n",
      "FINANZ_ANLEGER\n",
      "FINANZ_UNAUFFAELLIGER\n",
      "FINANZ_HAUSBAUER\n",
      "FINANZTYP\n",
      "GREEN_AVANTGARDE\n",
      "SEMIO_SOZ\n"
     ]
    }
   ],
   "source": [
    "for i in range(10):\n",
    "    print(azdias.columns[less_nan_col_count[i][1]])"
   ]
  },
  {
   "cell_type": "code",
   "execution_count": 53,
   "metadata": {},
   "outputs": [],
   "source": [
    "# Compare the distribution of values for at least five columns where there are\n",
    "# no or few missing values, between the two subsets."
   ]
  },
  {
   "cell_type": "code",
   "execution_count": 54,
   "metadata": {},
   "outputs": [
    {
     "data": {
      "image/png": "[encoded data removed]",
      "text/plain": [
       "<Figure size 432x288 with 2 Axes>"
      ]
     },
     "metadata": {
      "needs_background": "light"
     },
     "output_type": "display_data"
    },
    {
     "data": {
      "image/png": "[encoded data removed]",
      "text/plain": [
       "<Figure size 432x288 with 2 Axes>"
      ]
     },
     "metadata": {
      "needs_background": "light"
     },
     "output_type": "display_data"
    },
    {
     "data": {
      "image/png": "[encoded data removed]",
      "text/plain": [
       "<Figure size 432x288 with 2 Axes>"
      ]
     },
     "metadata": {
      "needs_background": "light"
     },
     "output_type": "display_data"
    },
    {
     "data": {
      "image/png": "[encoded data removed]",
      "text/plain": [
       "<Figure size 432x288 with 2 Axes>"
      ]
     },
     "metadata": {
      "needs_background": "light"
     },
     "output_type": "display_data"
    },
    {
     "data": {
      "image/png": "[encoded data removed]",
      "text/plain": [
       "<Figure size 432x288 with 2 Axes>"
      ]
     },
     "metadata": {
      "needs_background": "light"
     },
     "output_type": "display_data"
    },
    {
     "data": {
      "image/png": "[encoded data removed]",
      "text/plain": [
       "<Figure size 432x288 with 2 Axes>"
      ]
     },
     "metadata": {
      "needs_background": "light"
     },
     "output_type": "display_data"
    },
    {
     "data": {
      "image/png": "[encoded data removed]",
      "text/plain": [
       "<Figure size 432x288 with 2 Axes>"
      ]
     },
     "metadata": {
      "needs_background": "light"
     },
     "output_type": "display_data"
    },
    {
     "data": {
      "image/png": "[encoded data removed]",
      "text/plain": [
       "<Figure size 432x288 with 2 Axes>"
      ]
     },
     "metadata": {
      "needs_background": "light"
     },
     "output_type": "display_data"
    },
    {
     "data": {
      "image/png": "[encoded data removed]",
      "text/plain": [
       "<Figure size 432x288 with 2 Axes>"
      ]
     },
     "metadata": {
      "needs_background": "light"
     },
     "output_type": "display_data"
    },
    {
     "data": {
      "image/png": "[encoded data removed]",
      "text/plain": [
       "<Figure size 432x288 with 2 Axes>"
      ]
     },
     "metadata": {
      "needs_background": "light"
     },
     "output_type": "display_data"
    }
   ],
   "source": [
    "for i in range(10):\n",
    "    plotter(azdias.columns[less_nan_col_count[i][1]])"
   ]
  },
  {
   "cell_type": "markdown",
   "metadata": {},
   "source": [
    "#### Discussion 1.1.3: Assess Missing Data in Each Row\n",
    "The distributions of values in the columns with less NaN values for rows with many and less NaN values:<br>\n",
    "* In some case as in the column named: ANREDE_KZ is somewhat same ,\n",
    "<br>\n",
    "* For columns named: FINANZ_MINIMALIST and GREEN_AVANTGARDE have the same value occuring with maximum frequency\n",
    "<br>\n",
    "* And in **most other columns** the distribution **vary significantly** for many and less missing datas\n",
    "<br>"
   ]
  },
  {
   "cell_type": "markdown",
   "metadata": {},
   "source": [
    "### Step 1.2: Select and Re-Encode Features\n",
    "\n",
    "Checking for missing data isn't the only way in which you can prepare a dataset for analysis. Since the unsupervised learning techniques to be used will only work on data that is encoded numerically, you need to make a few encoding changes or additional assumptions to be able to make progress. In addition, while almost all of the values in the dataset are encoded using numbers, not all of them represent numeric values. Check the third column of the feature summary (`feat_info`) for a summary of types of measurement.\n",
    "- For numeric and interval data, these features can be kept without changes.\n",
    "- Most of the variables in the dataset are ordinal in nature. While ordinal values may technically be non-linear in spacing, make the simplifying assumption that the ordinal variables can be treated as being interval in nature (that is, kept without any changes).\n",
    "- Special handling may be necessary for the remaining two variable types: categorical, and 'mixed'.\n",
    "\n",
    "In the first two parts of this sub-step, you will perform an investigation of the categorical and mixed-type features and make a decision on each of them, whether you will keep, drop, or re-encode each. Then, in the last part, you will create a new data frame with only the selected and engineered columns.\n",
    "\n",
    "Data wrangling is often the trickiest part of the data analysis process, and there's a lot of it to be done here. But stick with it: once you're done with this step, you'll be ready to get to the machine learning parts of the project!"
   ]
  },
  {
   "cell_type": "code",
   "execution_count": 55,
   "metadata": {},
   "outputs": [],
   "source": [
    "dataTypes = feat_info.iloc[:,2].unique()"
   ]
  },
  {
   "cell_type": "code",
   "execution_count": 56,
   "metadata": {},
   "outputs": [
    {
     "name": "stdout",
     "output_type": "stream",
     "text": [
      "['categorical', 'ordinal', 'numeric', 'mixed', 'interval']\n"
     ]
    }
   ],
   "source": [
    "dataTypes = list(dataTypes)\n",
    "print(dataTypes)"
   ]
  },
  {
   "cell_type": "code",
   "execution_count": 57,
   "metadata": {},
   "outputs": [],
   "source": [
    "freq = [0,0,0,0,0]\n",
    "for i in range(85):\n",
    "    if feat_info.iloc[i,2] == dataTypes[0]:\n",
    "        freq[0] = freq[0] + 1\n",
    "    elif feat_info.iloc[i,2] == dataTypes[1]:\n",
    "        freq[1] = freq[1] + 1\n",
    "    elif feat_info.iloc[i,2] == dataTypes[2]:\n",
    "        freq[2] = freq[2] + 1\n",
    "    elif feat_info.iloc[i,2] == dataTypes[3]:\n",
    "        freq[3] = freq[3] + 1\n",
    "    elif feat_info.iloc[i,2] == dataTypes[4]:\n",
    "        freq[4] = freq[4] + 1"
   ]
  },
  {
   "cell_type": "code",
   "execution_count": 58,
   "metadata": {},
   "outputs": [
    {
     "name": "stdout",
     "output_type": "stream",
     "text": [
      "categorical data type occurs 21 times\n",
      "ordinal     data type occurs 49 times\n",
      "numeric     data type occurs  7 times\n",
      "mixed       data type occurs  7 times\n",
      "interval    data type occurs  1 times\n"
     ]
    }
   ],
   "source": [
    "# How many features are there of each data type?\n",
    "#These are the feature counts in the original dataset and not in the modified data set\n",
    "for t,f in zip(dataTypes,freq):\n",
    "    print('{:11s} data type occurs {:2d} times'.format(t,f))"
   ]
  },
  {
   "cell_type": "markdown",
   "metadata": {},
   "source": [
    "#### Step 1.2.1: Re-Encode Categorical Features\n",
    "\n",
    "For categorical data, you would ordinarily need to encode the levels as dummy variables. Depending on the number of categories, perform one of the following:\n",
    "- For binary (two-level) categoricals that take numeric values, you can keep them without needing to do anything.\n",
    "- There is one binary variable that takes on non-numeric values. For this one, you need to re-encode the values as numbers or create a dummy variable.\n",
    "- For multi-level categoricals (three or more values), you can choose to encode the values using multiple dummy variables (e.g. via [OneHotEncoder](http://scikit-learn.org/stable/modules/generated/sklearn.preprocessing.OneHotEncoder.html)), or (to keep things straightforward) just drop them from the analysis. As always, document your choices in the Discussion section."
   ]
  },
  {
   "cell_type": "code",
   "execution_count": 59,
   "metadata": {},
   "outputs": [],
   "source": [
    "# Assess categorical variables: which are binary, which are multi-level, and\n",
    "# which one needs to be re-encoded?"
   ]
  },
  {
   "cell_type": "code",
   "execution_count": 60,
   "metadata": {},
   "outputs": [
    {
     "data": {
      "text/html": [
       "<div>\n",
       "<style scoped>\n",
       "    .dataframe tbody tr th:only-of-type {\n",
       "        vertical-align: middle;\n",
       "    }\n",
       "\n",
       "    .dataframe tbody tr th {\n",
       "        vertical-align: top;\n",
       "    }\n",
       "\n",
       "    .dataframe thead th {\n",
       "        text-align: right;\n",
       "    }\n",
       "</style>\n",
       "<table border=\"1\" class=\"dataframe\">\n",
       "  <thead>\n",
       "    <tr style=\"text-align: right;\">\n",
       "      <th></th>\n",
       "      <th>attribute</th>\n",
       "      <th>information_level</th>\n",
       "      <th>type</th>\n",
       "      <th>missing_or_unknown</th>\n",
       "    </tr>\n",
       "  </thead>\n",
       "  <tbody>\n",
       "    <tr>\n",
       "      <th>0</th>\n",
       "      <td>AGER_TYP</td>\n",
       "      <td>person</td>\n",
       "      <td>categorical</td>\n",
       "      <td>[-1, 0]</td>\n",
       "    </tr>\n",
       "    <tr>\n",
       "      <th>1</th>\n",
       "      <td>ALTERSKATEGORIE_GROB</td>\n",
       "      <td>person</td>\n",
       "      <td>ordinal</td>\n",
       "      <td>[-1, 0, 9]</td>\n",
       "    </tr>\n",
       "    <tr>\n",
       "      <th>2</th>\n",
       "      <td>ANREDE_KZ</td>\n",
       "      <td>person</td>\n",
       "      <td>categorical</td>\n",
       "      <td>[-1, 0]</td>\n",
       "    </tr>\n",
       "    <tr>\n",
       "      <th>3</th>\n",
       "      <td>CJT_GESAMTTYP</td>\n",
       "      <td>person</td>\n",
       "      <td>categorical</td>\n",
       "      <td>[0]</td>\n",
       "    </tr>\n",
       "    <tr>\n",
       "      <th>4</th>\n",
       "      <td>FINANZ_MINIMALIST</td>\n",
       "      <td>person</td>\n",
       "      <td>ordinal</td>\n",
       "      <td>[-1]</td>\n",
       "    </tr>\n",
       "    <tr>\n",
       "      <th>...</th>\n",
       "      <td>...</td>\n",
       "      <td>...</td>\n",
       "      <td>...</td>\n",
       "      <td>...</td>\n",
       "    </tr>\n",
       "    <tr>\n",
       "      <th>80</th>\n",
       "      <td>PLZ8_HHZ</td>\n",
       "      <td>macrocell_plz8</td>\n",
       "      <td>ordinal</td>\n",
       "      <td>[-1]</td>\n",
       "    </tr>\n",
       "    <tr>\n",
       "      <th>81</th>\n",
       "      <td>PLZ8_GBZ</td>\n",
       "      <td>macrocell_plz8</td>\n",
       "      <td>ordinal</td>\n",
       "      <td>[-1]</td>\n",
       "    </tr>\n",
       "    <tr>\n",
       "      <th>82</th>\n",
       "      <td>ARBEIT</td>\n",
       "      <td>community</td>\n",
       "      <td>ordinal</td>\n",
       "      <td>[-1, 9]</td>\n",
       "    </tr>\n",
       "    <tr>\n",
       "      <th>83</th>\n",
       "      <td>ORTSGR_KLS9</td>\n",
       "      <td>community</td>\n",
       "      <td>ordinal</td>\n",
       "      <td>[-1, 0]</td>\n",
       "    </tr>\n",
       "    <tr>\n",
       "      <th>84</th>\n",
       "      <td>RELAT_AB</td>\n",
       "      <td>community</td>\n",
       "      <td>ordinal</td>\n",
       "      <td>[-1, 9]</td>\n",
       "    </tr>\n",
       "  </tbody>\n",
       "</table>\n",
       "<p>85 rows × 4 columns</p>\n",
       "</div>"
      ],
      "text/plain": [
       "               attribute information_level         type missing_or_unknown\n",
       "0               AGER_TYP            person  categorical            [-1, 0]\n",
       "1   ALTERSKATEGORIE_GROB            person      ordinal         [-1, 0, 9]\n",
       "2              ANREDE_KZ            person  categorical            [-1, 0]\n",
       "3          CJT_GESAMTTYP            person  categorical                [0]\n",
       "4      FINANZ_MINIMALIST            person      ordinal               [-1]\n",
       "..                   ...               ...          ...                ...\n",
       "80              PLZ8_HHZ    macrocell_plz8      ordinal               [-1]\n",
       "81              PLZ8_GBZ    macrocell_plz8      ordinal               [-1]\n",
       "82                ARBEIT         community      ordinal            [-1, 9]\n",
       "83           ORTSGR_KLS9         community      ordinal            [-1, 0]\n",
       "84              RELAT_AB         community      ordinal            [-1, 9]\n",
       "\n",
       "[85 rows x 4 columns]"
      ]
     },
     "execution_count": 60,
     "metadata": {},
     "output_type": "execute_result"
    }
   ],
   "source": [
    "feat_info"
   ]
  },
  {
   "cell_type": "code",
   "execution_count": 61,
   "metadata": {},
   "outputs": [],
   "source": [
    "#cat_feat stands for categorical features and stores all categorical features in the ORIGINAL UNMODIFIED DATASET\n",
    "cat_feat = []\n",
    "for i in range(85):\n",
    "    if feat_info['type'][i] == 'categorical':\n",
    "        cat_feat.append(i)"
   ]
  },
  {
   "cell_type": "code",
   "execution_count": 62,
   "metadata": {},
   "outputs": [
    {
     "data": {
      "text/plain": [
       "0             AGER_TYP\n",
       "2            ANREDE_KZ\n",
       "3        CJT_GESAMTTYP\n",
       "10           FINANZTYP\n",
       "12     GFK_URLAUBERTYP\n",
       "13    GREEN_AVANTGARDE\n",
       "17     LP_FAMILIE_FEIN\n",
       "18     LP_FAMILIE_GROB\n",
       "19      LP_STATUS_FEIN\n",
       "20      LP_STATUS_GROB\n",
       "21    NATIONALITAET_KZ\n",
       "38         SHOPPER_TYP\n",
       "39             SOHO_KZ\n",
       "40            TITEL_KZ\n",
       "41            VERS_TYP\n",
       "42            ZABEOTYP\n",
       "47        KK_KUNDENTYP\n",
       "52         GEBAEUDETYP\n",
       "55         OST_WEST_KZ\n",
       "57     CAMEO_DEUG_2015\n",
       "58      CAMEO_DEU_2015\n",
       "dtype: object"
      ]
     },
     "execution_count": 62,
     "metadata": {},
     "output_type": "execute_result"
    }
   ],
   "source": [
    "col_names[cat_feat] #the column indices stored are based on the original dataframe"
   ]
  },
  {
   "cell_type": "code",
   "execution_count": 63,
   "metadata": {},
   "outputs": [
    {
     "name": "stdout",
     "output_type": "stream",
     "text": [
      "0    categorical\n",
      "Name: type, dtype: object\n",
      "2    categorical\n",
      "Name: type, dtype: object\n",
      "3    categorical\n",
      "Name: type, dtype: object\n",
      "10    categorical\n",
      "Name: type, dtype: object\n",
      "12    categorical\n",
      "Name: type, dtype: object\n",
      "13    categorical\n",
      "Name: type, dtype: object\n",
      "17    categorical\n",
      "Name: type, dtype: object\n",
      "18    categorical\n",
      "Name: type, dtype: object\n",
      "19    categorical\n",
      "Name: type, dtype: object\n",
      "20    categorical\n",
      "Name: type, dtype: object\n",
      "21    categorical\n",
      "Name: type, dtype: object\n",
      "38    categorical\n",
      "Name: type, dtype: object\n",
      "39    categorical\n",
      "Name: type, dtype: object\n",
      "40    categorical\n",
      "Name: type, dtype: object\n",
      "41    categorical\n",
      "Name: type, dtype: object\n",
      "42    categorical\n",
      "Name: type, dtype: object\n",
      "47    categorical\n",
      "Name: type, dtype: object\n",
      "52    categorical\n",
      "Name: type, dtype: object\n",
      "55    categorical\n",
      "Name: type, dtype: object\n",
      "57    categorical\n",
      "Name: type, dtype: object\n",
      "58    categorical\n",
      "Name: type, dtype: object\n"
     ]
    }
   ],
   "source": [
    "for col in col_names[cat_feat]:\n",
    "    print(feat_info.loc[feat_info['attribute'] == col,'type'])"
   ]
  },
  {
   "cell_type": "code",
   "execution_count": 64,
   "metadata": {},
   "outputs": [
    {
     "data": {
      "text/plain": [
       "[2, 2, 2, 2, 2, 3, 4, 5, 5, 6, 6, 6, 7, 9, 10, 11, 12, 44]"
      ]
     },
     "execution_count": 64,
     "metadata": {},
     "output_type": "execute_result"
    }
   ],
   "source": [
    "num_cat = []\n",
    "for i in cat_feat:\n",
    "    if i not in too_many_missing_col:\n",
    "        arr = azdias.iloc[:,i].unique()\n",
    "        arr = [x for x in arr if str(x) != 'nan']\n",
    "        num_cat.append(len(arr))\n",
    "        num_cat.sort()\n",
    "num_cat"
   ]
  },
  {
   "cell_type": "code",
   "execution_count": 65,
   "metadata": {},
   "outputs": [],
   "source": [
    "# binary stores binary categorical feature details \n",
    "# cat_feat_col_wise stands for categorical features column wise stores details regarding categorical features\n",
    "# which have less than 7 categories\n",
    "binary = []\n",
    "cat_feat_col_wise = []\n",
    "many_cats = []\n",
    "for i in cat_feat:\n",
    "    arr = azdias.iloc[:,i].unique()\n",
    "    arr = [x for x in arr if str(x) != 'nan']\n",
    "    arr.sort()\n",
    "    if(len(arr) == 2):\n",
    "        binary.append([i,arr])\n",
    "    elif(len(arr)<=6):\n",
    "        cat_feat_col_wise.append([i,arr,len(arr)])\n",
    "    elif(len(arr)>6):\n",
    "        many_cats.append(i)"
   ]
  },
  {
   "cell_type": "code",
   "execution_count": 66,
   "metadata": {},
   "outputs": [
    {
     "data": {
      "text/plain": [
       "12    GFK_URLAUBERTYP\n",
       "17    LP_FAMILIE_FEIN\n",
       "19     LP_STATUS_FEIN\n",
       "52        GEBAEUDETYP\n",
       "57    CAMEO_DEUG_2015\n",
       "58     CAMEO_DEU_2015\n",
       "dtype: object"
      ]
     },
     "execution_count": 66,
     "metadata": {},
     "output_type": "execute_result"
    }
   ],
   "source": [
    "col_names[many_cats]"
   ]
  },
  {
   "cell_type": "code",
   "execution_count": 67,
   "metadata": {},
   "outputs": [
    {
     "data": {
      "text/plain": [
       "[[0, [1.0, 2.0, 3.0], 3],\n",
       " [3, [1.0, 2.0, 3.0, 4.0, 5.0, 6.0], 6],\n",
       " [10, [1, 2, 3, 4, 5, 6], 6],\n",
       " [18, [1.0, 2.0, 3.0, 4.0, 5.0], 5],\n",
       " [20, [1.0, 2.0, 3.0, 4.0, 5.0], 5],\n",
       " [21, [1.0, 2.0, 3.0], 3],\n",
       " [38, [0.0, 1.0, 2.0, 3.0], 4],\n",
       " [40, [1.0, 2.0, 3.0, 4.0, 5.0], 5],\n",
       " [42, [1, 2, 3, 4, 5, 6], 6],\n",
       " [47, [1.0, 2.0, 3.0, 4.0, 5.0, 6.0], 6]]"
      ]
     },
     "execution_count": 67,
     "metadata": {},
     "output_type": "execute_result"
    }
   ],
   "source": [
    "cat_feat_col_wise"
   ]
  },
  {
   "cell_type": "code",
   "execution_count": 68,
   "metadata": {},
   "outputs": [
    {
     "data": {
      "text/plain": [
       "[[2, [1, 2]],\n",
       " [13, [0, 1]],\n",
       " [39, [0.0, 1.0]],\n",
       " [41, [1.0, 2.0]],\n",
       " [55, ['O', 'W']]]"
      ]
     },
     "execution_count": 68,
     "metadata": {},
     "output_type": "execute_result"
    }
   ],
   "source": [
    "binary"
   ]
  },
  {
   "cell_type": "code",
   "execution_count": 69,
   "metadata": {},
   "outputs": [],
   "source": [
    "azdias_encoded = azdias2 #doing further changes in new dataframe"
   ]
  },
  {
   "cell_type": "code",
   "execution_count": 70,
   "metadata": {},
   "outputs": [],
   "source": [
    "for bin_feat in binary:\n",
    "    if bin_feat[0] not in too_many_missing_col:\n",
    "        azdias_encoded[col_names[bin_feat[0]]].replace({bin_feat[1][0]:0,bin_feat[1][1]:1},inplace = True)"
   ]
  },
  {
   "cell_type": "code",
   "execution_count": 71,
   "metadata": {},
   "outputs": [],
   "source": [
    "# col_cats stores categorical column names from cat_feat_col_wise which have less than 7 categories\n",
    "col_cats = []\n",
    "for i in range(len(cat_feat_col_wise)):\n",
    "    col_cats.append(col_names[cat_feat_col_wise[i][0]])"
   ]
  },
  {
   "cell_type": "code",
   "execution_count": 72,
   "metadata": {},
   "outputs": [
    {
     "data": {
      "text/plain": [
       "['AGER_TYP',\n",
       " 'CJT_GESAMTTYP',\n",
       " 'FINANZTYP',\n",
       " 'LP_FAMILIE_GROB',\n",
       " 'LP_STATUS_GROB',\n",
       " 'NATIONALITAET_KZ',\n",
       " 'SHOPPER_TYP',\n",
       " 'TITEL_KZ',\n",
       " 'ZABEOTYP',\n",
       " 'KK_KUNDENTYP']"
      ]
     },
     "execution_count": 72,
     "metadata": {},
     "output_type": "execute_result"
    }
   ],
   "source": [
    "col_cats"
   ]
  },
  {
   "cell_type": "code",
   "execution_count": 73,
   "metadata": {},
   "outputs": [
    {
     "data": {
      "text/plain": [
       "['AGER_TYP',\n",
       " 'GEBURTSJAHR',\n",
       " 'TITEL_KZ',\n",
       " 'ALTER_HH',\n",
       " 'KK_KUNDENTYP',\n",
       " 'KBA05_BAUMAX']"
      ]
     },
     "execution_count": 73,
     "metadata": {},
     "output_type": "execute_result"
    }
   ],
   "source": [
    "list(col_names[too_many_missing_col])"
   ]
  },
  {
   "cell_type": "code",
   "execution_count": 74,
   "metadata": {},
   "outputs": [],
   "source": [
    "# showing no column having many categories was dropped earlier\n",
    "already_dropped_many_cats = set.intersection(set(col_names[many_cats]),set(col_names[too_many_missing_col]))"
   ]
  },
  {
   "cell_type": "code",
   "execution_count": 75,
   "metadata": {},
   "outputs": [],
   "source": [
    "# but some columns with less categories dropped earlier\n",
    "already_dropped_col_cats = set.intersection(set(col_cats),set(col_names[too_many_missing_col]))"
   ]
  },
  {
   "cell_type": "code",
   "execution_count": 76,
   "metadata": {},
   "outputs": [
    {
     "name": "stdout",
     "output_type": "stream",
     "text": [
      "['AGER_TYP', 'CJT_GESAMTTYP', 'FINANZTYP', 'LP_FAMILIE_GROB', 'LP_STATUS_GROB', 'NATIONALITAET_KZ', 'SHOPPER_TYP', 'TITEL_KZ', 'ZABEOTYP', 'KK_KUNDENTYP']\n",
      "['CJT_GESAMTTYP', 'FINANZTYP', 'LP_FAMILIE_GROB', 'LP_STATUS_GROB', 'NATIONALITAET_KZ', 'SHOPPER_TYP', 'ZABEOTYP']\n"
     ]
    }
   ],
   "source": [
    "print(col_cats)\n",
    "for category in already_dropped_col_cats:\n",
    "    col_cats.remove(category)\n",
    "print(col_cats)"
   ]
  },
  {
   "cell_type": "code",
   "execution_count": 77,
   "metadata": {},
   "outputs": [
    {
     "name": "stdout",
     "output_type": "stream",
     "text": [
      "[12, 17, 19, 52, 57, 58]\n",
      "[12, 17, 19, 52, 57, 58]\n"
     ]
    }
   ],
   "source": [
    "print(many_cats)\n",
    "for category in already_dropped_many_cats:\n",
    "    many_cats.remove(category)\n",
    "print(many_cats)"
   ]
  },
  {
   "cell_type": "markdown",
   "metadata": {},
   "source": [
    "# Kindly Note some categorical columns already dropped as they had many NaN values which I remove above from the col_cats which contain column names which are to be ONE_HOT_ENCODED by me <br>\n",
    "# Similarly for many_cats"
   ]
  },
  {
   "cell_type": "code",
   "execution_count": 78,
   "metadata": {},
   "outputs": [],
   "source": [
    "azdias_encoded = azdias_encoded.drop(col_names[many_cats],axis = 1)"
   ]
  },
  {
   "cell_type": "code",
   "execution_count": 79,
   "metadata": {},
   "outputs": [],
   "source": [
    "# Re-encode categorical variable(s) to be kept in the analysis."
   ]
  },
  {
   "cell_type": "code",
   "execution_count": 80,
   "metadata": {},
   "outputs": [],
   "source": [
    "azdias_encoded = pd.get_dummies(azdias_encoded,columns = col_cats)"
   ]
  },
  {
   "cell_type": "code",
   "execution_count": 81,
   "metadata": {},
   "outputs": [
    {
     "data": {
      "text/html": [
       "<div>\n",
       "<style scoped>\n",
       "    .dataframe tbody tr th:only-of-type {\n",
       "        vertical-align: middle;\n",
       "    }\n",
       "\n",
       "    .dataframe tbody tr th {\n",
       "        vertical-align: top;\n",
       "    }\n",
       "\n",
       "    .dataframe thead th {\n",
       "        text-align: right;\n",
       "    }\n",
       "</style>\n",
       "<table border=\"1\" class=\"dataframe\">\n",
       "  <thead>\n",
       "    <tr style=\"text-align: right;\">\n",
       "      <th></th>\n",
       "      <th>ALTERSKATEGORIE_GROB</th>\n",
       "      <th>ANREDE_KZ</th>\n",
       "      <th>FINANZ_MINIMALIST</th>\n",
       "      <th>FINANZ_SPARER</th>\n",
       "      <th>FINANZ_VORSORGER</th>\n",
       "      <th>FINANZ_ANLEGER</th>\n",
       "      <th>FINANZ_UNAUFFAELLIGER</th>\n",
       "      <th>FINANZ_HAUSBAUER</th>\n",
       "      <th>GREEN_AVANTGARDE</th>\n",
       "      <th>HEALTH_TYP</th>\n",
       "      <th>...</th>\n",
       "      <th>SHOPPER_TYP_0.0</th>\n",
       "      <th>SHOPPER_TYP_1.0</th>\n",
       "      <th>SHOPPER_TYP_2.0</th>\n",
       "      <th>SHOPPER_TYP_3.0</th>\n",
       "      <th>ZABEOTYP_1</th>\n",
       "      <th>ZABEOTYP_2</th>\n",
       "      <th>ZABEOTYP_3</th>\n",
       "      <th>ZABEOTYP_4</th>\n",
       "      <th>ZABEOTYP_5</th>\n",
       "      <th>ZABEOTYP_6</th>\n",
       "    </tr>\n",
       "  </thead>\n",
       "  <tbody>\n",
       "    <tr>\n",
       "      <th>1</th>\n",
       "      <td>1.0</td>\n",
       "      <td>1</td>\n",
       "      <td>1</td>\n",
       "      <td>5</td>\n",
       "      <td>2</td>\n",
       "      <td>5</td>\n",
       "      <td>4</td>\n",
       "      <td>5</td>\n",
       "      <td>0</td>\n",
       "      <td>3.0</td>\n",
       "      <td>...</td>\n",
       "      <td>0</td>\n",
       "      <td>0</td>\n",
       "      <td>0</td>\n",
       "      <td>1</td>\n",
       "      <td>0</td>\n",
       "      <td>0</td>\n",
       "      <td>0</td>\n",
       "      <td>0</td>\n",
       "      <td>1</td>\n",
       "      <td>0</td>\n",
       "    </tr>\n",
       "    <tr>\n",
       "      <th>2</th>\n",
       "      <td>3.0</td>\n",
       "      <td>1</td>\n",
       "      <td>1</td>\n",
       "      <td>4</td>\n",
       "      <td>1</td>\n",
       "      <td>2</td>\n",
       "      <td>3</td>\n",
       "      <td>5</td>\n",
       "      <td>1</td>\n",
       "      <td>3.0</td>\n",
       "      <td>...</td>\n",
       "      <td>0</td>\n",
       "      <td>0</td>\n",
       "      <td>1</td>\n",
       "      <td>0</td>\n",
       "      <td>0</td>\n",
       "      <td>0</td>\n",
       "      <td>0</td>\n",
       "      <td>0</td>\n",
       "      <td>1</td>\n",
       "      <td>0</td>\n",
       "    </tr>\n",
       "    <tr>\n",
       "      <th>3</th>\n",
       "      <td>4.0</td>\n",
       "      <td>1</td>\n",
       "      <td>4</td>\n",
       "      <td>2</td>\n",
       "      <td>5</td>\n",
       "      <td>2</td>\n",
       "      <td>1</td>\n",
       "      <td>2</td>\n",
       "      <td>0</td>\n",
       "      <td>2.0</td>\n",
       "      <td>...</td>\n",
       "      <td>0</td>\n",
       "      <td>1</td>\n",
       "      <td>0</td>\n",
       "      <td>0</td>\n",
       "      <td>0</td>\n",
       "      <td>0</td>\n",
       "      <td>1</td>\n",
       "      <td>0</td>\n",
       "      <td>0</td>\n",
       "      <td>0</td>\n",
       "    </tr>\n",
       "    <tr>\n",
       "      <th>4</th>\n",
       "      <td>3.0</td>\n",
       "      <td>0</td>\n",
       "      <td>4</td>\n",
       "      <td>3</td>\n",
       "      <td>4</td>\n",
       "      <td>1</td>\n",
       "      <td>3</td>\n",
       "      <td>2</td>\n",
       "      <td>0</td>\n",
       "      <td>3.0</td>\n",
       "      <td>...</td>\n",
       "      <td>0</td>\n",
       "      <td>0</td>\n",
       "      <td>1</td>\n",
       "      <td>0</td>\n",
       "      <td>0</td>\n",
       "      <td>0</td>\n",
       "      <td>0</td>\n",
       "      <td>1</td>\n",
       "      <td>0</td>\n",
       "      <td>0</td>\n",
       "    </tr>\n",
       "    <tr>\n",
       "      <th>5</th>\n",
       "      <td>1.0</td>\n",
       "      <td>1</td>\n",
       "      <td>3</td>\n",
       "      <td>1</td>\n",
       "      <td>5</td>\n",
       "      <td>2</td>\n",
       "      <td>2</td>\n",
       "      <td>5</td>\n",
       "      <td>0</td>\n",
       "      <td>3.0</td>\n",
       "      <td>...</td>\n",
       "      <td>1</td>\n",
       "      <td>0</td>\n",
       "      <td>0</td>\n",
       "      <td>0</td>\n",
       "      <td>0</td>\n",
       "      <td>0</td>\n",
       "      <td>0</td>\n",
       "      <td>1</td>\n",
       "      <td>0</td>\n",
       "      <td>0</td>\n",
       "    </tr>\n",
       "    <tr>\n",
       "      <th>...</th>\n",
       "      <td>...</td>\n",
       "      <td>...</td>\n",
       "      <td>...</td>\n",
       "      <td>...</td>\n",
       "      <td>...</td>\n",
       "      <td>...</td>\n",
       "      <td>...</td>\n",
       "      <td>...</td>\n",
       "      <td>...</td>\n",
       "      <td>...</td>\n",
       "      <td>...</td>\n",
       "      <td>...</td>\n",
       "      <td>...</td>\n",
       "      <td>...</td>\n",
       "      <td>...</td>\n",
       "      <td>...</td>\n",
       "      <td>...</td>\n",
       "      <td>...</td>\n",
       "      <td>...</td>\n",
       "      <td>...</td>\n",
       "      <td>...</td>\n",
       "    </tr>\n",
       "    <tr>\n",
       "      <th>891216</th>\n",
       "      <td>3.0</td>\n",
       "      <td>1</td>\n",
       "      <td>1</td>\n",
       "      <td>4</td>\n",
       "      <td>2</td>\n",
       "      <td>5</td>\n",
       "      <td>4</td>\n",
       "      <td>4</td>\n",
       "      <td>0</td>\n",
       "      <td>3.0</td>\n",
       "      <td>...</td>\n",
       "      <td>0</td>\n",
       "      <td>0</td>\n",
       "      <td>0</td>\n",
       "      <td>1</td>\n",
       "      <td>0</td>\n",
       "      <td>0</td>\n",
       "      <td>0</td>\n",
       "      <td>1</td>\n",
       "      <td>0</td>\n",
       "      <td>0</td>\n",
       "    </tr>\n",
       "    <tr>\n",
       "      <th>891217</th>\n",
       "      <td>2.0</td>\n",
       "      <td>0</td>\n",
       "      <td>3</td>\n",
       "      <td>3</td>\n",
       "      <td>3</td>\n",
       "      <td>2</td>\n",
       "      <td>2</td>\n",
       "      <td>3</td>\n",
       "      <td>0</td>\n",
       "      <td>NaN</td>\n",
       "      <td>...</td>\n",
       "      <td>0</td>\n",
       "      <td>0</td>\n",
       "      <td>0</td>\n",
       "      <td>0</td>\n",
       "      <td>0</td>\n",
       "      <td>0</td>\n",
       "      <td>0</td>\n",
       "      <td>0</td>\n",
       "      <td>0</td>\n",
       "      <td>1</td>\n",
       "    </tr>\n",
       "    <tr>\n",
       "      <th>891218</th>\n",
       "      <td>2.0</td>\n",
       "      <td>1</td>\n",
       "      <td>2</td>\n",
       "      <td>4</td>\n",
       "      <td>2</td>\n",
       "      <td>5</td>\n",
       "      <td>4</td>\n",
       "      <td>3</td>\n",
       "      <td>0</td>\n",
       "      <td>1.0</td>\n",
       "      <td>...</td>\n",
       "      <td>0</td>\n",
       "      <td>0</td>\n",
       "      <td>1</td>\n",
       "      <td>0</td>\n",
       "      <td>0</td>\n",
       "      <td>0</td>\n",
       "      <td>0</td>\n",
       "      <td>1</td>\n",
       "      <td>0</td>\n",
       "      <td>0</td>\n",
       "    </tr>\n",
       "    <tr>\n",
       "      <th>891219</th>\n",
       "      <td>1.0</td>\n",
       "      <td>0</td>\n",
       "      <td>1</td>\n",
       "      <td>5</td>\n",
       "      <td>3</td>\n",
       "      <td>5</td>\n",
       "      <td>5</td>\n",
       "      <td>5</td>\n",
       "      <td>0</td>\n",
       "      <td>1.0</td>\n",
       "      <td>...</td>\n",
       "      <td>1</td>\n",
       "      <td>0</td>\n",
       "      <td>0</td>\n",
       "      <td>0</td>\n",
       "      <td>0</td>\n",
       "      <td>0</td>\n",
       "      <td>0</td>\n",
       "      <td>0</td>\n",
       "      <td>1</td>\n",
       "      <td>0</td>\n",
       "    </tr>\n",
       "    <tr>\n",
       "      <th>891220</th>\n",
       "      <td>4.0</td>\n",
       "      <td>0</td>\n",
       "      <td>4</td>\n",
       "      <td>2</td>\n",
       "      <td>5</td>\n",
       "      <td>2</td>\n",
       "      <td>1</td>\n",
       "      <td>5</td>\n",
       "      <td>0</td>\n",
       "      <td>2.0</td>\n",
       "      <td>...</td>\n",
       "      <td>0</td>\n",
       "      <td>0</td>\n",
       "      <td>1</td>\n",
       "      <td>0</td>\n",
       "      <td>0</td>\n",
       "      <td>0</td>\n",
       "      <td>1</td>\n",
       "      <td>0</td>\n",
       "      <td>0</td>\n",
       "      <td>0</td>\n",
       "    </tr>\n",
       "  </tbody>\n",
       "</table>\n",
       "<p>798049 rows × 101 columns</p>\n",
       "</div>"
      ],
      "text/plain": [
       "        ALTERSKATEGORIE_GROB  ANREDE_KZ  FINANZ_MINIMALIST  FINANZ_SPARER  \\\n",
       "1                        1.0          1                  1              5   \n",
       "2                        3.0          1                  1              4   \n",
       "3                        4.0          1                  4              2   \n",
       "4                        3.0          0                  4              3   \n",
       "5                        1.0          1                  3              1   \n",
       "...                      ...        ...                ...            ...   \n",
       "891216                   3.0          1                  1              4   \n",
       "891217                   2.0          0                  3              3   \n",
       "891218                   2.0          1                  2              4   \n",
       "891219                   1.0          0                  1              5   \n",
       "891220                   4.0          0                  4              2   \n",
       "\n",
       "        FINANZ_VORSORGER  FINANZ_ANLEGER  FINANZ_UNAUFFAELLIGER  \\\n",
       "1                      2               5                      4   \n",
       "2                      1               2                      3   \n",
       "3                      5               2                      1   \n",
       "4                      4               1                      3   \n",
       "5                      5               2                      2   \n",
       "...                  ...             ...                    ...   \n",
       "891216                 2               5                      4   \n",
       "891217                 3               2                      2   \n",
       "891218                 2               5                      4   \n",
       "891219                 3               5                      5   \n",
       "891220                 5               2                      1   \n",
       "\n",
       "        FINANZ_HAUSBAUER  GREEN_AVANTGARDE  HEALTH_TYP  ...  SHOPPER_TYP_0.0  \\\n",
       "1                      5                 0         3.0  ...                0   \n",
       "2                      5                 1         3.0  ...                0   \n",
       "3                      2                 0         2.0  ...                0   \n",
       "4                      2                 0         3.0  ...                0   \n",
       "5                      5                 0         3.0  ...                1   \n",
       "...                  ...               ...         ...  ...              ...   \n",
       "891216                 4                 0         3.0  ...                0   \n",
       "891217                 3                 0         NaN  ...                0   \n",
       "891218                 3                 0         1.0  ...                0   \n",
       "891219                 5                 0         1.0  ...                1   \n",
       "891220                 5                 0         2.0  ...                0   \n",
       "\n",
       "        SHOPPER_TYP_1.0  SHOPPER_TYP_2.0  SHOPPER_TYP_3.0  ZABEOTYP_1  \\\n",
       "1                     0                0                1           0   \n",
       "2                     0                1                0           0   \n",
       "3                     1                0                0           0   \n",
       "4                     0                1                0           0   \n",
       "5                     0                0                0           0   \n",
       "...                 ...              ...              ...         ...   \n",
       "891216                0                0                1           0   \n",
       "891217                0                0                0           0   \n",
       "891218                0                1                0           0   \n",
       "891219                0                0                0           0   \n",
       "891220                0                1                0           0   \n",
       "\n",
       "        ZABEOTYP_2  ZABEOTYP_3  ZABEOTYP_4  ZABEOTYP_5  ZABEOTYP_6  \n",
       "1                0           0           0           1           0  \n",
       "2                0           0           0           1           0  \n",
       "3                0           1           0           0           0  \n",
       "4                0           0           1           0           0  \n",
       "5                0           0           1           0           0  \n",
       "...            ...         ...         ...         ...         ...  \n",
       "891216           0           0           1           0           0  \n",
       "891217           0           0           0           0           1  \n",
       "891218           0           0           1           0           0  \n",
       "891219           0           0           0           1           0  \n",
       "891220           0           1           0           0           0  \n",
       "\n",
       "[798049 rows x 101 columns]"
      ]
     },
     "execution_count": 81,
     "metadata": {},
     "output_type": "execute_result"
    }
   ],
   "source": [
    "azdias_encoded"
   ]
  },
  {
   "cell_type": "code",
   "execution_count": 82,
   "metadata": {},
   "outputs": [
    {
     "data": {
      "text/plain": [
       "[2, 2, 2, 2, 2, 3, 4, 5, 5, 6, 6, 6, 7, 9, 10, 11, 12, 44]"
      ]
     },
     "execution_count": 82,
     "metadata": {},
     "output_type": "execute_result"
    }
   ],
   "source": [
    "num_cat"
   ]
  },
  {
   "cell_type": "code",
   "execution_count": 83,
   "metadata": {},
   "outputs": [
    {
     "data": {
      "text/plain": [
       "(798049, 101)"
      ]
     },
     "execution_count": 83,
     "metadata": {},
     "output_type": "execute_result"
    }
   ],
   "source": [
    "azdias_encoded.shape"
   ]
  },
  {
   "cell_type": "code",
   "execution_count": 84,
   "metadata": {},
   "outputs": [
    {
     "data": {
      "text/plain": [
       "18"
      ]
     },
     "execution_count": 84,
     "metadata": {},
     "output_type": "execute_result"
    }
   ],
   "source": [
    "len(num_cat)"
   ]
  },
  {
   "cell_type": "markdown",
   "metadata": {},
   "source": [
    "#### Discussion 1.2.1: Re-Encode Categorical Features\n",
    "* There were a total of 21 categorical features in original dataset, **after dropping columns with many NaN 18 were left**<br>\n",
    "* 12 of them having categories less than or equal to 6, 5 of them being binary.<br>\n",
    "* The binary features were re-encoded to 0/1 format(**ASSUMING** original numeric encoding meant they may have some ordering according to numbers).<br>\n",
    "* Other categorical features with less than or equal to 6 categories were one-hot encoded.<br>\n",
    "* One-hot encoding adds up new columns equal to number of categories each categorical feature can take, for this reason to avoid too many columns other categorical features were not one-hot encoded but dropped.\n",
    "<br>\n",
    "* The final number of columns in the azdias_encoded dataframe is 101"
   ]
  },
  {
   "cell_type": "markdown",
   "metadata": {},
   "source": [
    "#### Step 1.2.2: Engineer Mixed-Type Features\n",
    "\n",
    "There are a handful of features that are marked as \"mixed\" in the feature summary that require special treatment in order to be included in the analysis. There are two in particular that deserve attention; the handling of the rest are up to your own choices:\n",
    "- \"PRAEGENDE_JUGENDJAHRE\" combines information on three dimensions: generation by decade, movement (mainstream vs. avantgarde), and nation (east vs. west). While there aren't enough levels to disentangle east from west, you should create two new variables to capture the other two dimensions: an interval-type variable for decade, and a binary variable for movement.\n",
    "- \"CAMEO_INTL_2015\" combines information on two axes: wealth and life stage. Break up the two-digit codes by their 'tens'-place and 'ones'-place digits into two new ordinal variables (which, for the purposes of this project, is equivalent to just treating them as their raw numeric values).\n",
    "- If you decide to keep or engineer new features around the other mixed-type features, make sure you note your steps in the Discussion section.\n",
    "\n",
    "Be sure to check `Data_Dictionary.md` for the details needed to finish these tasks."
   ]
  },
  {
   "cell_type": "code",
   "execution_count": 85,
   "metadata": {},
   "outputs": [],
   "source": [
    "# Investigate \"PRAEGENDE_JUGENDJAHRE\" and engineer two new variables."
   ]
  },
  {
   "cell_type": "markdown",
   "metadata": {},
   "source": [
    "### 1.18. PRAEGENDE_JUGENDJAHRE\n",
    "Dominating movement of person's youth (avantgarde vs. mainstream; east vs. west)\n",
    "- -1: unknown\n",
    "-  0: unknown\n",
    "-  1: 40s - war years (Mainstream, E+W)\n",
    "-  2: 40s - reconstruction years (Avantgarde, E+W)\n",
    "-  3: 50s - economic miracle (Mainstream, E+W)\n",
    "-  4: 50s - milk bar / Individualisation (Avantgarde, E+W)\n",
    "-  5: 60s - economic miracle (Mainstream, E+W)\n",
    "-  6: 60s - generation 68 / student protestors (Avantgarde, W)\n",
    "-  7: 60s - opponents to the building of the Wall (Avantgarde, E)\n",
    "-  8: 70s - family orientation (Mainstream, E+W)\n",
    "-  9: 70s - peace movement (Avantgarde, E+W)\n",
    "- 10: 80s - Generation Golf (Mainstream, W)\n",
    "- 11: 80s - ecological awareness (Avantgarde, W)\n",
    "- 12: 80s - FDJ / communist party youth organisation (Mainstream, E)\n",
    "- 13: 80s - Swords into ploughshares (Avantgarde, E)\n",
    "- 14: 90s - digital media kids (Mainstream, E+W)\n",
    "- 15: 90s - ecological awareness (Avantgarde, E+W)"
   ]
  },
  {
   "cell_type": "code",
   "execution_count": 86,
   "metadata": {},
   "outputs": [
    {
     "data": {
      "text/plain": [
       "array([14., 15.,  8.,  3., 10., 11.,  5.,  9.,  6.,  4., nan,  2.,  1.,\n",
       "       12., 13.,  7.])"
      ]
     },
     "execution_count": 86,
     "metadata": {},
     "output_type": "execute_result"
    }
   ],
   "source": [
    "azdias_encoded['PRAEGENDE_JUGENDJAHRE'].unique()"
   ]
  },
  {
   "cell_type": "code",
   "execution_count": 87,
   "metadata": {},
   "outputs": [],
   "source": [
    "def encode_gen(num):\n",
    "    if num == 1 or num == 2:\n",
    "        return 0\n",
    "    elif num==3 or num==4:\n",
    "        return 1\n",
    "    elif num== 5 or num==6 or num==7:\n",
    "        return 2\n",
    "    elif num==8 or num==9:\n",
    "        return 3\n",
    "    elif num in [10,11,12,13]:\n",
    "        return 4\n",
    "    elif num==14 or num==15:\n",
    "        return 5"
   ]
  },
  {
   "cell_type": "code",
   "execution_count": 88,
   "metadata": {},
   "outputs": [],
   "source": [
    "azdias_encoded['generation'] = azdias_encoded['PRAEGENDE_JUGENDJAHRE'].apply(encode_gen)"
   ]
  },
  {
   "cell_type": "code",
   "execution_count": 89,
   "metadata": {},
   "outputs": [
    {
     "data": {
      "text/plain": [
       "array([ 5.,  3.,  1.,  4.,  2., nan,  0.])"
      ]
     },
     "execution_count": 89,
     "metadata": {},
     "output_type": "execute_result"
    }
   ],
   "source": [
    "azdias_encoded['generation'].unique()"
   ]
  },
  {
   "cell_type": "code",
   "execution_count": 90,
   "metadata": {},
   "outputs": [],
   "source": [
    "def encode_move(num):\n",
    "    if num in [1,3,5,8,10,12,14]:\n",
    "        return 0\n",
    "    elif num in [2,4,6,7,9,11,13,15]:\n",
    "        return 1"
   ]
  },
  {
   "cell_type": "code",
   "execution_count": 91,
   "metadata": {},
   "outputs": [],
   "source": [
    "azdias_encoded['movement'] = azdias_encoded['PRAEGENDE_JUGENDJAHRE'].apply(encode_move)"
   ]
  },
  {
   "cell_type": "code",
   "execution_count": 92,
   "metadata": {},
   "outputs": [
    {
     "data": {
      "text/plain": [
       "True"
      ]
     },
     "execution_count": 92,
     "metadata": {},
     "output_type": "execute_result"
    }
   ],
   "source": [
    "'PRAEGENDE_JUGENDJAHRE' in azdias_encoded.columns"
   ]
  },
  {
   "cell_type": "code",
   "execution_count": 93,
   "metadata": {},
   "outputs": [],
   "source": [
    "azdias_encoded = azdias_encoded.drop(['PRAEGENDE_JUGENDJAHRE'],axis = 1)"
   ]
  },
  {
   "cell_type": "code",
   "execution_count": 94,
   "metadata": {},
   "outputs": [
    {
     "data": {
      "text/plain": [
       "False"
      ]
     },
     "execution_count": 94,
     "metadata": {},
     "output_type": "execute_result"
    }
   ],
   "source": [
    "'PRAEGENDE_JUGENDJAHRE' in azdias_encoded.columns"
   ]
  },
  {
   "cell_type": "code",
   "execution_count": 95,
   "metadata": {},
   "outputs": [],
   "source": [
    "# Investigate \"CAMEO_INTL_2015\" and engineer two new variables."
   ]
  },
  {
   "cell_type": "markdown",
   "metadata": {},
   "source": [
    "### 4.3. CAMEO_INTL_2015\n",
    "German CAMEO: Wealth / Life Stage Typology, mapped to international code\n",
    "- -1: unknown\n",
    "- 11: Wealthy Households - Pre-Family Couples & Singles\n",
    "- 12: Wealthy Households - Young Couples With Children\n",
    "- 13: Wealthy Households - Families With School Age Children\n",
    "- 14: Wealthy Households - Older Families &  Mature Couples\n",
    "- 15: Wealthy Households - Elders In Retirement\n",
    "- 21: Prosperous Households - Pre-Family Couples & Singles\n",
    "- 22: Prosperous Households - Young Couples With Children\n",
    "- 23: Prosperous Households - Families With School Age Children\n",
    "- 24: Prosperous Households - Older Families & Mature Couples\n",
    "- 25: Prosperous Households - Elders In Retirement\n",
    "- 31: Comfortable Households - Pre-Family Couples & Singles\n",
    "- 32: Comfortable Households - Young Couples With Children\n",
    "- 33: Comfortable Households - Families With School Age Children\n",
    "- 34: Comfortable Households - Older Families & Mature Couples\n",
    "- 35: Comfortable Households - Elders In Retirement\n",
    "- 41: Less Affluent Households - Pre-Family Couples & Singles\n",
    "- 42: Less Affluent Households - Young Couples With Children\n",
    "- 43: Less Affluent Households - Families With School Age Children\n",
    "- 44: Less Affluent Households - Older Families & Mature Couples\n",
    "- 45: Less Affluent Households - Elders In Retirement\n",
    "- 51: Poorer Households - Pre-Family Couples & Singles\n",
    "- 52: Poorer Households - Young Couples With Children\n",
    "- 53: Poorer Households - Families With School Age Children\n",
    "- 54: Poorer Households - Older Families & Mature Couples\n",
    "- 55: Poorer Households - Elders In Retirement\n",
    "- XX: unknown"
   ]
  },
  {
   "cell_type": "code",
   "execution_count": 96,
   "metadata": {},
   "outputs": [
    {
     "name": "stdout",
     "output_type": "stream",
     "text": [
      "51 <class 'str'>\n",
      "24 <class 'str'>\n",
      "12 <class 'str'>\n",
      "43 <class 'str'>\n",
      "54 <class 'str'>\n",
      "22 <class 'str'>\n",
      "14 <class 'str'>\n",
      "13 <class 'str'>\n",
      "15 <class 'str'>\n",
      "33 <class 'str'>\n",
      "41 <class 'str'>\n",
      "34 <class 'str'>\n",
      "55 <class 'str'>\n",
      "nan <class 'float'>\n",
      "25 <class 'str'>\n",
      "23 <class 'str'>\n",
      "31 <class 'str'>\n",
      "52 <class 'str'>\n",
      "35 <class 'str'>\n",
      "45 <class 'str'>\n",
      "44 <class 'str'>\n",
      "32 <class 'str'>\n"
     ]
    }
   ],
   "source": [
    "for i in azdias_encoded['CAMEO_INTL_2015'].unique():\n",
    "    print (i,type(i))"
   ]
  },
  {
   "cell_type": "code",
   "execution_count": 97,
   "metadata": {},
   "outputs": [],
   "source": [
    "def encode_wealth(num):\n",
    "    if(type(num) == str):\n",
    "        num = int(num)\n",
    "        return num//10"
   ]
  },
  {
   "cell_type": "code",
   "execution_count": 98,
   "metadata": {},
   "outputs": [],
   "source": [
    "azdias_encoded['wealth'] = azdias_encoded['CAMEO_INTL_2015'].apply(encode_wealth)"
   ]
  },
  {
   "cell_type": "code",
   "execution_count": 99,
   "metadata": {},
   "outputs": [
    {
     "data": {
      "text/plain": [
       "array([ 5.,  2.,  1.,  4.,  3., nan])"
      ]
     },
     "execution_count": 99,
     "metadata": {},
     "output_type": "execute_result"
    }
   ],
   "source": [
    "azdias_encoded['wealth'].unique()"
   ]
  },
  {
   "cell_type": "code",
   "execution_count": 100,
   "metadata": {},
   "outputs": [],
   "source": [
    "def encode_life(num):\n",
    "    if(type(num) == str):\n",
    "        num = int(num)\n",
    "        return num%10"
   ]
  },
  {
   "cell_type": "code",
   "execution_count": 101,
   "metadata": {},
   "outputs": [],
   "source": [
    "azdias_encoded['life_stage'] = azdias_encoded['CAMEO_INTL_2015'].apply(encode_life)"
   ]
  },
  {
   "cell_type": "code",
   "execution_count": 102,
   "metadata": {},
   "outputs": [
    {
     "data": {
      "text/plain": [
       "array([ 1.,  4.,  2.,  3.,  5., nan])"
      ]
     },
     "execution_count": 102,
     "metadata": {},
     "output_type": "execute_result"
    }
   ],
   "source": [
    "azdias_encoded['life_stage'].unique()"
   ]
  },
  {
   "cell_type": "code",
   "execution_count": 103,
   "metadata": {},
   "outputs": [],
   "source": [
    "azdias_encoded = azdias_encoded.drop(['CAMEO_INTL_2015'],axis = 1)"
   ]
  },
  {
   "cell_type": "code",
   "execution_count": 104,
   "metadata": {},
   "outputs": [
    {
     "data": {
      "text/html": [
       "<div>\n",
       "<style scoped>\n",
       "    .dataframe tbody tr th:only-of-type {\n",
       "        vertical-align: middle;\n",
       "    }\n",
       "\n",
       "    .dataframe tbody tr th {\n",
       "        vertical-align: top;\n",
       "    }\n",
       "\n",
       "    .dataframe thead th {\n",
       "        text-align: right;\n",
       "    }\n",
       "</style>\n",
       "<table border=\"1\" class=\"dataframe\">\n",
       "  <thead>\n",
       "    <tr style=\"text-align: right;\">\n",
       "      <th></th>\n",
       "      <th>attribute</th>\n",
       "      <th>information_level</th>\n",
       "      <th>type</th>\n",
       "      <th>missing_or_unknown</th>\n",
       "    </tr>\n",
       "  </thead>\n",
       "  <tbody>\n",
       "    <tr>\n",
       "      <th>15</th>\n",
       "      <td>LP_LEBENSPHASE_FEIN</td>\n",
       "      <td>person</td>\n",
       "      <td>mixed</td>\n",
       "      <td>[0]</td>\n",
       "    </tr>\n",
       "    <tr>\n",
       "      <th>16</th>\n",
       "      <td>LP_LEBENSPHASE_GROB</td>\n",
       "      <td>person</td>\n",
       "      <td>mixed</td>\n",
       "      <td>[0]</td>\n",
       "    </tr>\n",
       "    <tr>\n",
       "      <th>22</th>\n",
       "      <td>PRAEGENDE_JUGENDJAHRE</td>\n",
       "      <td>person</td>\n",
       "      <td>mixed</td>\n",
       "      <td>[-1, 0]</td>\n",
       "    </tr>\n",
       "    <tr>\n",
       "      <th>56</th>\n",
       "      <td>WOHNLAGE</td>\n",
       "      <td>building</td>\n",
       "      <td>mixed</td>\n",
       "      <td>[-1]</td>\n",
       "    </tr>\n",
       "    <tr>\n",
       "      <th>59</th>\n",
       "      <td>CAMEO_INTL_2015</td>\n",
       "      <td>microcell_rr4</td>\n",
       "      <td>mixed</td>\n",
       "      <td>[-1, XX]</td>\n",
       "    </tr>\n",
       "    <tr>\n",
       "      <th>79</th>\n",
       "      <td>PLZ8_BAUMAX</td>\n",
       "      <td>macrocell_plz8</td>\n",
       "      <td>mixed</td>\n",
       "      <td>[-1, 0]</td>\n",
       "    </tr>\n",
       "  </tbody>\n",
       "</table>\n",
       "</div>"
      ],
      "text/plain": [
       "                attribute information_level   type missing_or_unknown\n",
       "15    LP_LEBENSPHASE_FEIN            person  mixed                [0]\n",
       "16    LP_LEBENSPHASE_GROB            person  mixed                [0]\n",
       "22  PRAEGENDE_JUGENDJAHRE            person  mixed            [-1, 0]\n",
       "56               WOHNLAGE          building  mixed               [-1]\n",
       "59        CAMEO_INTL_2015     microcell_rr4  mixed           [-1, XX]\n",
       "79            PLZ8_BAUMAX    macrocell_plz8  mixed            [-1, 0]"
      ]
     },
     "execution_count": 104,
     "metadata": {},
     "output_type": "execute_result"
    }
   ],
   "source": [
    "feat_info1[feat_info1['type'] == 'mixed']"
   ]
  },
  {
   "cell_type": "code",
   "execution_count": 105,
   "metadata": {},
   "outputs": [
    {
     "name": "stdout",
     "output_type": "stream",
     "text": [
      "LP_LEBENSPHASE_FEIN\n",
      "[21.  3. nan 32.  8.  2.  5. 10.  4.  6. 23. 12. 20.  1. 11. 25. 13. 18.\n",
      " 31. 38. 35. 30.  7. 22. 14. 29. 24. 28. 37. 26. 39. 27. 36.  9. 34. 33.\n",
      " 15. 40. 16. 19. 17.]\n",
      "LP_LEBENSPHASE_GROB\n",
      "[ 6.  1. nan 10.  2.  3.  5.  7. 12. 11.  9.  4.  8.]\n",
      "WOHNLAGE\n",
      "[4. 2. 7. 3. 5. 1. 8. 0.]\n",
      "PLZ8_BAUMAX\n",
      "[ 1.  2. nan  4.  5.  3.]\n"
     ]
    }
   ],
   "source": [
    "other_mixed = []\n",
    "for feat in feat_info1.index:\n",
    "    if(col_names[feat] in azdias_encoded.columns and feat_info1.loc[feat,'type'] == 'mixed'):\n",
    "        print(col_names[feat])\n",
    "        other_mixed.append(col_names[feat])\n",
    "        print(azdias_encoded[col_names[feat]].unique())"
   ]
  },
  {
   "cell_type": "code",
   "execution_count": 106,
   "metadata": {},
   "outputs": [
    {
     "data": {
      "text/plain": [
       "['LP_LEBENSPHASE_FEIN', 'LP_LEBENSPHASE_GROB', 'WOHNLAGE', 'PLZ8_BAUMAX']"
      ]
     },
     "execution_count": 106,
     "metadata": {},
     "output_type": "execute_result"
    }
   ],
   "source": [
    "other_mixed"
   ]
  },
  {
   "cell_type": "code",
   "execution_count": 107,
   "metadata": {},
   "outputs": [],
   "source": [
    "azdias_encoded = azdias_encoded.drop(other_mixed,axis = 1)"
   ]
  },
  {
   "cell_type": "markdown",
   "metadata": {},
   "source": [
    "#### Discussion 1.2.2: Engineer Mixed-Type Features\n",
    "* The mixed feature PRAEGENDE_JUGENDJAHRE was re-encoded into two sets of new features\n",
    "<br>\n",
    "* A unique number was assigned to each unique value in range of 0 to 5 for 'generation' feature\n",
    "<br>\n",
    "* and a unique number was assigned to each unique value in range of 0 to 1 for 'movement' feature.\n",
    "<br>\n",
    "* finally the original PRAEGENDE_JUGENDJAHRE column was dropped\n",
    "<br>\n",
    "* Similarly for CAMEO_INTL_2015 was re-encoded into two sets of new features\n",
    "<br>\n",
    "* A unique number was assigned to each unique value equal to the tens digit for 'wealth' feature\n",
    "<br>\n",
    "* and a unique number was assigned to each value equal to ones digit for 'life_stage' feature\n",
    "<br>\n",
    "* finally the original CAMEO_INTL_2015 column was dropped\n",
    "<br>\n",
    "* There were 4 other features with mixed values(in the modified datset) which were dropped for simplicity in the above cell\n",
    "<br>\n",
    "    The 4 dropped features were namely:'LP_LEBENSPHASE_FEIN','LP_LEBENSPHASE_GROB','WOHNLAGE','PLZ8_BAUMAX'"
   ]
  },
  {
   "cell_type": "markdown",
   "metadata": {},
   "source": [
    "#### Step 1.2.3: Complete Feature Selection\n",
    "\n",
    "In order to finish this step up, you need to make sure that your data frame now only has the columns that you want to keep. To summarize, the dataframe should consist of the following:\n",
    "- All numeric, interval, and ordinal type columns from the original dataset.\n",
    "- Binary categorical features (all numerically-encoded).\n",
    "- Engineered features from other multi-level categorical features and mixed features.\n",
    "\n",
    "Make sure that for any new columns that you have engineered, that you've excluded the original columns from the final dataset. Otherwise, their values will interfere with the analysis later on the project. For example, you should not keep \"PRAEGENDE_JUGENDJAHRE\", since its values won't be useful for the algorithm: only the values derived from it in the engineered features you created should be retained. As a reminder, your data should only be from **the subset with few or no missing values**."
   ]
  },
  {
   "cell_type": "code",
   "execution_count": 108,
   "metadata": {},
   "outputs": [
    {
     "data": {
      "text/plain": [
       "(798049, 99)"
      ]
     },
     "execution_count": 108,
     "metadata": {},
     "output_type": "execute_result"
    }
   ],
   "source": [
    "# If there are other re-engineering tasks you need to perform, make sure you\n",
    "# take care of them here. (Dealing with missing data will come in step 2.1.)\n",
    "azdias_encoded.shape\n"
   ]
  },
  {
   "cell_type": "markdown",
   "metadata": {},
   "source": [
    "### Do whatever you need to in order to ensure that the dataframe only contains\n",
    "### the columns that should be passed to the algorithm functions.\n",
    "### The other mixed features were dropped earlier and the re-encoded mixed features were dropped as well in the previous section\n",
    "### I Think I have cleaned everything"
   ]
  },
  {
   "cell_type": "markdown",
   "metadata": {},
   "source": [
    "### Step 1.3: Create a Cleaning Function\n",
    "\n",
    "Even though you've finished cleaning up the general population demographics data, it's important to look ahead to the future and realize that you'll need to perform the same cleaning steps on the customer demographics data. In this substep, complete the function below to execute the main feature selection, encoding, and re-engineering steps you performed above. Then, when it comes to looking at the customer data in Step 3, you can just run this function on that DataFrame to get the trimmed dataset in a single step."
   ]
  },
  {
   "cell_type": "markdown",
   "metadata": {},
   "source": [
    "## The cleaning function removes exactly those columns in input dataframe as in azdias dataframe so that same models can be used later without fitting again"
   ]
  },
  {
   "cell_type": "code",
   "execution_count": 110,
   "metadata": {},
   "outputs": [],
   "source": [
    "def clean_data(df):\n",
    "    \"\"\"\n",
    "    Perform feature trimming, re-encoding, and engineering for demographics\n",
    "    data\n",
    "    \n",
    "    INPUT: Demographics DataFrame\n",
    "    OUTPUT: Trimmed and cleaned demographics DataFrame\n",
    "    \"\"\"\n",
    "    \n",
    "    # Put in code here to execute all main cleaning steps:\n",
    "    # convert missing value codes into NaNs, ...\n",
    "    \n",
    "    for i,columns in enumerate(col_names):\n",
    "        df[columns] = df[columns].replace(feat_info.iloc[i,3],np.nan)\n",
    "        \n",
    "        \n",
    "    # remove selected columns and rows, ...\n",
    "    df1 = df.drop(df.columns[too_many_missing_col],axis = 1)\n",
    "    feat_info1 = feat_info.drop(feat_info.index[too_many_missing_col],axis = 0)\n",
    "    \n",
    "    nan_row_count = list(df1.isnull().sum(axis=1))\n",
    "    too_many_missing_row = []\n",
    "    for i in range(len(nan_row_count)):\n",
    "        if(nan_row_count[i] >= 29):\n",
    "            too_many_missing_row.append(i)\n",
    "    df2 = df1.drop(df1.index[too_many_missing_row],axis = 0)\n",
    "    df_dropped_rows = df1.loc[too_many_missing_row]\n",
    "    \n",
    "    \n",
    "    # select, re-encode, and engineer column values.\n",
    "    \n",
    "    df_encoded = df2\n",
    "    \n",
    "    for bin_feat in binary:\n",
    "        if bin_feat[0] not in too_many_missing_col:\n",
    "            df_encoded[col_names[bin_feat[0]]].replace({bin_feat[1][0]:0,bin_feat[1][1]:1},inplace = True)\n",
    "            \n",
    "    df_encoded = df_encoded.drop(col_names[many_cats],axis = 1)\n",
    "    df_encoded = pd.get_dummies(df_encoded,columns = col_cats)\n",
    "    df_encoded['generation'] = df_encoded['PRAEGENDE_JUGENDJAHRE'].apply(encode_gen)\n",
    "    df_encoded['movement'] = df_encoded['PRAEGENDE_JUGENDJAHRE'].apply(encode_move)\n",
    "    df_encoded = df_encoded.drop(['PRAEGENDE_JUGENDJAHRE'],axis = 1)\n",
    "    df_encoded['wealth'] = df_encoded['CAMEO_INTL_2015'].apply(encode_wealth)\n",
    "    df_encoded['life_stage'] = df_encoded['CAMEO_INTL_2015'].apply(encode_life)\n",
    "    df_encoded = df_encoded.drop(['CAMEO_INTL_2015'],axis = 1)\n",
    "    df_encoded = df_encoded.drop(other_mixed,axis = 1)\n",
    "    \n",
    "    \n",
    "    # Return the cleaned dataframe.\n",
    "    \n",
    "    return df_encoded"
   ]
  },
  {
   "cell_type": "code",
   "execution_count": 111,
   "metadata": {},
   "outputs": [],
   "source": [
    "ndf = clean_data(azdias)"
   ]
  },
  {
   "cell_type": "code",
   "execution_count": 112,
   "metadata": {},
   "outputs": [
    {
     "data": {
      "text/html": [
       "<div>\n",
       "<style scoped>\n",
       "    .dataframe tbody tr th:only-of-type {\n",
       "        vertical-align: middle;\n",
       "    }\n",
       "\n",
       "    .dataframe tbody tr th {\n",
       "        vertical-align: top;\n",
       "    }\n",
       "\n",
       "    .dataframe thead tr th {\n",
       "        text-align: left;\n",
       "    }\n",
       "</style>\n",
       "<table border=\"1\" class=\"dataframe\">\n",
       "  <thead>\n",
       "  </thead>\n",
       "  <tbody>\n",
       "  </tbody>\n",
       "</table>\n",
       "</div>"
      ],
      "text/plain": [
       "Empty DataFrame\n",
       "Columns: []\n",
       "Index: []"
      ]
     },
     "execution_count": 112,
     "metadata": {},
     "output_type": "execute_result"
    }
   ],
   "source": [
    "ndf.compare(azdias_encoded)"
   ]
  },
  {
   "cell_type": "markdown",
   "metadata": {},
   "source": [
    "## Step 2: Feature Transformation\n",
    "\n",
    "### Step 2.1: Apply Feature Scaling\n",
    "\n",
    "Before we apply dimensionality reduction techniques to the data, we need to perform feature scaling so that the principal component vectors are not influenced by the natural differences in scale for features. Starting from this part of the project, you'll want to keep an eye on the [API reference page for sklearn](http://scikit-learn.org/stable/modules/classes.html) to help you navigate to all of the classes and functions that you'll need. In this substep, you'll need to check the following:\n",
    "\n",
    "- sklearn requires that data not have missing values in order for its estimators to work properly. So, before applying the scaler to your data, make sure that you've cleaned the DataFrame of the remaining missing values. This can be as simple as just removing all data points with missing data, or applying an [Imputer](http://scikit-learn.org/stable/modules/generated/sklearn.preprocessing.Imputer.html) to replace all missing values. You might also try a more complicated procedure where you temporarily remove missing values in order to compute the scaling parameters before re-introducing those missing values and applying imputation. Think about how much missing data you have and what possible effects each approach might have on your analysis, and justify your decision in the discussion section below.\n",
    "- For the actual scaling function, a [StandardScaler](http://scikit-learn.org/stable/modules/generated/sklearn.preprocessing.StandardScaler.html) instance is suggested, scaling each feature to mean 0 and standard deviation 1.\n",
    "- For these classes, you can make use of the `.fit_transform()` method to both fit a procedure to the data as well as apply the transformation to the data at the same time. Don't forget to keep the fit sklearn objects handy, since you'll be applying them to the customer demographics data towards the end of the project."
   ]
  },
  {
   "cell_type": "code",
   "execution_count": 113,
   "metadata": {},
   "outputs": [
    {
     "data": {
      "text/plain": [
       "(798049, 99)"
      ]
     },
     "execution_count": 113,
     "metadata": {},
     "output_type": "execute_result"
    }
   ],
   "source": [
    "azdias_encoded.shape"
   ]
  },
  {
   "cell_type": "code",
   "execution_count": 114,
   "metadata": {},
   "outputs": [
    {
     "data": {
      "text/plain": [
       "174838"
      ]
     },
     "execution_count": 114,
     "metadata": {},
     "output_type": "execute_result"
    }
   ],
   "source": [
    "count = azdias_encoded.shape[0] - azdias_encoded.dropna().shape[0]\n",
    "count"
   ]
  },
  {
   "cell_type": "code",
   "execution_count": 115,
   "metadata": {},
   "outputs": [
    {
     "data": {
      "text/plain": [
       "21.90817857048878"
      ]
     },
     "execution_count": 115,
     "metadata": {},
     "output_type": "execute_result"
    }
   ],
   "source": [
    "count/798049 * 100"
   ]
  },
  {
   "cell_type": "code",
   "execution_count": 116,
   "metadata": {},
   "outputs": [],
   "source": [
    "from sklearn.impute import SimpleImputer"
   ]
  },
  {
   "cell_type": "code",
   "execution_count": 117,
   "metadata": {},
   "outputs": [],
   "source": [
    "# If you've not yet cleaned the dataset of all NaN values, then investigate and\n",
    "# do that now.\n",
    "imputer = SimpleImputer(missing_values=np.nan,strategy='median')\n",
    "azdias_imputed = pd.DataFrame(imputer.fit_transform(azdias_encoded))\n",
    "azdias_imputed.index = azdias_encoded.index\n",
    "azdias_imputed.columns = azdias_encoded.columns"
   ]
  },
  {
   "cell_type": "code",
   "execution_count": 118,
   "metadata": {},
   "outputs": [],
   "source": [
    "from sklearn.preprocessing import StandardScaler"
   ]
  },
  {
   "cell_type": "code",
   "execution_count": 122,
   "metadata": {},
   "outputs": [],
   "source": [
    "# Apply feature scaling to the general population demographics data.\n",
    "scaler_azdias = StandardScaler().fit(azdias_imputed)\n",
    "azdias_scaled = scaler_azdias.transform(azdias_imputed)\n",
    "azdias_scaled = pd.DataFrame(azdias_scaled)\n",
    "azdias_scaled.columns = azdias_imputed.columns\n",
    "azdias_scaled.index = azdias_imputed.index"
   ]
  },
  {
   "cell_type": "code",
   "execution_count": 123,
   "metadata": {},
   "outputs": [
    {
     "data": {
      "text/html": [
       "<div>\n",
       "<style scoped>\n",
       "    .dataframe tbody tr th:only-of-type {\n",
       "        vertical-align: middle;\n",
       "    }\n",
       "\n",
       "    .dataframe tbody tr th {\n",
       "        vertical-align: top;\n",
       "    }\n",
       "\n",
       "    .dataframe thead th {\n",
       "        text-align: right;\n",
       "    }\n",
       "</style>\n",
       "<table border=\"1\" class=\"dataframe\">\n",
       "  <thead>\n",
       "    <tr style=\"text-align: right;\">\n",
       "      <th></th>\n",
       "      <th>ALTERSKATEGORIE_GROB</th>\n",
       "      <th>ANREDE_KZ</th>\n",
       "      <th>FINANZ_MINIMALIST</th>\n",
       "      <th>FINANZ_SPARER</th>\n",
       "      <th>FINANZ_VORSORGER</th>\n",
       "      <th>FINANZ_ANLEGER</th>\n",
       "      <th>FINANZ_UNAUFFAELLIGER</th>\n",
       "      <th>FINANZ_HAUSBAUER</th>\n",
       "      <th>GREEN_AVANTGARDE</th>\n",
       "      <th>HEALTH_TYP</th>\n",
       "      <th>...</th>\n",
       "      <th>ZABEOTYP_1</th>\n",
       "      <th>ZABEOTYP_2</th>\n",
       "      <th>ZABEOTYP_3</th>\n",
       "      <th>ZABEOTYP_4</th>\n",
       "      <th>ZABEOTYP_5</th>\n",
       "      <th>ZABEOTYP_6</th>\n",
       "      <th>generation</th>\n",
       "      <th>movement</th>\n",
       "      <th>wealth</th>\n",
       "      <th>life_stage</th>\n",
       "    </tr>\n",
       "  </thead>\n",
       "  <tbody>\n",
       "    <tr>\n",
       "      <th>1</th>\n",
       "      <td>-1.766640</td>\n",
       "      <td>0.957914</td>\n",
       "      <td>-1.494591</td>\n",
       "      <td>1.537922</td>\n",
       "      <td>-1.040689</td>\n",
       "      <td>1.465968</td>\n",
       "      <td>0.958660</td>\n",
       "      <td>1.339302</td>\n",
       "      <td>-0.530411</td>\n",
       "      <td>1.096608</td>\n",
       "      <td>...</td>\n",
       "      <td>-0.427788</td>\n",
       "      <td>-0.207695</td>\n",
       "      <td>-0.739710</td>\n",
       "      <td>-0.592823</td>\n",
       "      <td>2.976105</td>\n",
       "      <td>-0.312172</td>\n",
       "      <td>1.172947</td>\n",
       "      <td>-0.530411</td>\n",
       "      <td>1.186222</td>\n",
       "      <td>-1.267043</td>\n",
       "    </tr>\n",
       "    <tr>\n",
       "      <th>2</th>\n",
       "      <td>0.200521</td>\n",
       "      <td>0.957914</td>\n",
       "      <td>-1.494591</td>\n",
       "      <td>0.864564</td>\n",
       "      <td>-1.766975</td>\n",
       "      <td>-0.570997</td>\n",
       "      <td>0.244132</td>\n",
       "      <td>1.339302</td>\n",
       "      <td>1.885332</td>\n",
       "      <td>1.096608</td>\n",
       "      <td>...</td>\n",
       "      <td>-0.427788</td>\n",
       "      <td>-0.207695</td>\n",
       "      <td>-0.739710</td>\n",
       "      <td>-0.592823</td>\n",
       "      <td>2.976105</td>\n",
       "      <td>-0.312172</td>\n",
       "      <td>1.172947</td>\n",
       "      <td>1.885332</td>\n",
       "      <td>-0.868233</td>\n",
       "      <td>0.761295</td>\n",
       "    </tr>\n",
       "    <tr>\n",
       "      <th>3</th>\n",
       "      <td>1.184101</td>\n",
       "      <td>0.957914</td>\n",
       "      <td>0.683148</td>\n",
       "      <td>-0.482153</td>\n",
       "      <td>1.138167</td>\n",
       "      <td>-0.570997</td>\n",
       "      <td>-1.184923</td>\n",
       "      <td>-0.791230</td>\n",
       "      <td>-0.530411</td>\n",
       "      <td>-0.256998</td>\n",
       "      <td>...</td>\n",
       "      <td>-0.427788</td>\n",
       "      <td>-0.207695</td>\n",
       "      <td>1.351882</td>\n",
       "      <td>-0.592823</td>\n",
       "      <td>-0.336010</td>\n",
       "      <td>-0.312172</td>\n",
       "      <td>-0.223452</td>\n",
       "      <td>-0.530411</td>\n",
       "      <td>-1.553051</td>\n",
       "      <td>-0.590930</td>\n",
       "    </tr>\n",
       "    <tr>\n",
       "      <th>4</th>\n",
       "      <td>0.200521</td>\n",
       "      <td>-1.043935</td>\n",
       "      <td>0.683148</td>\n",
       "      <td>0.191205</td>\n",
       "      <td>0.411881</td>\n",
       "      <td>-1.249985</td>\n",
       "      <td>0.244132</td>\n",
       "      <td>-0.791230</td>\n",
       "      <td>-0.530411</td>\n",
       "      <td>1.096608</td>\n",
       "      <td>...</td>\n",
       "      <td>-0.427788</td>\n",
       "      <td>-0.207695</td>\n",
       "      <td>-0.739710</td>\n",
       "      <td>1.686845</td>\n",
       "      <td>-0.336010</td>\n",
       "      <td>-0.312172</td>\n",
       "      <td>-0.223452</td>\n",
       "      <td>-0.530411</td>\n",
       "      <td>0.501404</td>\n",
       "      <td>0.085182</td>\n",
       "    </tr>\n",
       "    <tr>\n",
       "      <th>5</th>\n",
       "      <td>-1.766640</td>\n",
       "      <td>0.957914</td>\n",
       "      <td>-0.042765</td>\n",
       "      <td>-1.155512</td>\n",
       "      <td>1.138167</td>\n",
       "      <td>-0.570997</td>\n",
       "      <td>-0.470395</td>\n",
       "      <td>1.339302</td>\n",
       "      <td>-0.530411</td>\n",
       "      <td>1.096608</td>\n",
       "      <td>...</td>\n",
       "      <td>-0.427788</td>\n",
       "      <td>-0.207695</td>\n",
       "      <td>-0.739710</td>\n",
       "      <td>1.686845</td>\n",
       "      <td>-0.336010</td>\n",
       "      <td>-0.312172</td>\n",
       "      <td>-1.619852</td>\n",
       "      <td>-0.530411</td>\n",
       "      <td>1.186222</td>\n",
       "      <td>0.761295</td>\n",
       "    </tr>\n",
       "    <tr>\n",
       "      <th>...</th>\n",
       "      <td>...</td>\n",
       "      <td>...</td>\n",
       "      <td>...</td>\n",
       "      <td>...</td>\n",
       "      <td>...</td>\n",
       "      <td>...</td>\n",
       "      <td>...</td>\n",
       "      <td>...</td>\n",
       "      <td>...</td>\n",
       "      <td>...</td>\n",
       "      <td>...</td>\n",
       "      <td>...</td>\n",
       "      <td>...</td>\n",
       "      <td>...</td>\n",
       "      <td>...</td>\n",
       "      <td>...</td>\n",
       "      <td>...</td>\n",
       "      <td>...</td>\n",
       "      <td>...</td>\n",
       "      <td>...</td>\n",
       "      <td>...</td>\n",
       "    </tr>\n",
       "    <tr>\n",
       "      <th>891216</th>\n",
       "      <td>0.200521</td>\n",
       "      <td>0.957914</td>\n",
       "      <td>-1.494591</td>\n",
       "      <td>0.864564</td>\n",
       "      <td>-1.040689</td>\n",
       "      <td>1.465968</td>\n",
       "      <td>0.958660</td>\n",
       "      <td>0.629125</td>\n",
       "      <td>-0.530411</td>\n",
       "      <td>1.096608</td>\n",
       "      <td>...</td>\n",
       "      <td>-0.427788</td>\n",
       "      <td>-0.207695</td>\n",
       "      <td>-0.739710</td>\n",
       "      <td>1.686845</td>\n",
       "      <td>-0.336010</td>\n",
       "      <td>-0.312172</td>\n",
       "      <td>1.172947</td>\n",
       "      <td>-0.530411</td>\n",
       "      <td>0.501404</td>\n",
       "      <td>-1.267043</td>\n",
       "    </tr>\n",
       "    <tr>\n",
       "      <th>891217</th>\n",
       "      <td>-0.783059</td>\n",
       "      <td>-1.043935</td>\n",
       "      <td>-0.042765</td>\n",
       "      <td>0.191205</td>\n",
       "      <td>-0.314404</td>\n",
       "      <td>-0.570997</td>\n",
       "      <td>-0.470395</td>\n",
       "      <td>-0.081052</td>\n",
       "      <td>-0.530411</td>\n",
       "      <td>-0.256998</td>\n",
       "      <td>...</td>\n",
       "      <td>-0.427788</td>\n",
       "      <td>-0.207695</td>\n",
       "      <td>-0.739710</td>\n",
       "      <td>-0.592823</td>\n",
       "      <td>-0.336010</td>\n",
       "      <td>3.203364</td>\n",
       "      <td>0.474748</td>\n",
       "      <td>-0.530411</td>\n",
       "      <td>1.186222</td>\n",
       "      <td>-1.267043</td>\n",
       "    </tr>\n",
       "    <tr>\n",
       "      <th>891218</th>\n",
       "      <td>-0.783059</td>\n",
       "      <td>0.957914</td>\n",
       "      <td>-0.768678</td>\n",
       "      <td>0.864564</td>\n",
       "      <td>-1.040689</td>\n",
       "      <td>1.465968</td>\n",
       "      <td>0.958660</td>\n",
       "      <td>-0.081052</td>\n",
       "      <td>-0.530411</td>\n",
       "      <td>-1.610603</td>\n",
       "      <td>...</td>\n",
       "      <td>-0.427788</td>\n",
       "      <td>-0.207695</td>\n",
       "      <td>-0.739710</td>\n",
       "      <td>1.686845</td>\n",
       "      <td>-0.336010</td>\n",
       "      <td>-0.312172</td>\n",
       "      <td>1.172947</td>\n",
       "      <td>-0.530411</td>\n",
       "      <td>-0.868233</td>\n",
       "      <td>0.761295</td>\n",
       "    </tr>\n",
       "    <tr>\n",
       "      <th>891219</th>\n",
       "      <td>-1.766640</td>\n",
       "      <td>-1.043935</td>\n",
       "      <td>-1.494591</td>\n",
       "      <td>1.537922</td>\n",
       "      <td>-0.314404</td>\n",
       "      <td>1.465968</td>\n",
       "      <td>1.673188</td>\n",
       "      <td>1.339302</td>\n",
       "      <td>-0.530411</td>\n",
       "      <td>-1.610603</td>\n",
       "      <td>...</td>\n",
       "      <td>-0.427788</td>\n",
       "      <td>-0.207695</td>\n",
       "      <td>-0.739710</td>\n",
       "      <td>-0.592823</td>\n",
       "      <td>2.976105</td>\n",
       "      <td>-0.312172</td>\n",
       "      <td>1.172947</td>\n",
       "      <td>-0.530411</td>\n",
       "      <td>1.186222</td>\n",
       "      <td>-1.267043</td>\n",
       "    </tr>\n",
       "    <tr>\n",
       "      <th>891220</th>\n",
       "      <td>1.184101</td>\n",
       "      <td>-1.043935</td>\n",
       "      <td>0.683148</td>\n",
       "      <td>-0.482153</td>\n",
       "      <td>1.138167</td>\n",
       "      <td>-0.570997</td>\n",
       "      <td>-1.184923</td>\n",
       "      <td>1.339302</td>\n",
       "      <td>-0.530411</td>\n",
       "      <td>-0.256998</td>\n",
       "      <td>...</td>\n",
       "      <td>-0.427788</td>\n",
       "      <td>-0.207695</td>\n",
       "      <td>1.351882</td>\n",
       "      <td>-0.592823</td>\n",
       "      <td>-0.336010</td>\n",
       "      <td>-0.312172</td>\n",
       "      <td>-1.619852</td>\n",
       "      <td>-0.530411</td>\n",
       "      <td>0.501404</td>\n",
       "      <td>0.085182</td>\n",
       "    </tr>\n",
       "  </tbody>\n",
       "</table>\n",
       "<p>798049 rows × 99 columns</p>\n",
       "</div>"
      ],
      "text/plain": [
       "        ALTERSKATEGORIE_GROB  ANREDE_KZ  FINANZ_MINIMALIST  FINANZ_SPARER  \\\n",
       "1                  -1.766640   0.957914          -1.494591       1.537922   \n",
       "2                   0.200521   0.957914          -1.494591       0.864564   \n",
       "3                   1.184101   0.957914           0.683148      -0.482153   \n",
       "4                   0.200521  -1.043935           0.683148       0.191205   \n",
       "5                  -1.766640   0.957914          -0.042765      -1.155512   \n",
       "...                      ...        ...                ...            ...   \n",
       "891216              0.200521   0.957914          -1.494591       0.864564   \n",
       "891217             -0.783059  -1.043935          -0.042765       0.191205   \n",
       "891218             -0.783059   0.957914          -0.768678       0.864564   \n",
       "891219             -1.766640  -1.043935          -1.494591       1.537922   \n",
       "891220              1.184101  -1.043935           0.683148      -0.482153   \n",
       "\n",
       "        FINANZ_VORSORGER  FINANZ_ANLEGER  FINANZ_UNAUFFAELLIGER  \\\n",
       "1              -1.040689        1.465968               0.958660   \n",
       "2              -1.766975       -0.570997               0.244132   \n",
       "3               1.138167       -0.570997              -1.184923   \n",
       "4               0.411881       -1.249985               0.244132   \n",
       "5               1.138167       -0.570997              -0.470395   \n",
       "...                  ...             ...                    ...   \n",
       "891216         -1.040689        1.465968               0.958660   \n",
       "891217         -0.314404       -0.570997              -0.470395   \n",
       "891218         -1.040689        1.465968               0.958660   \n",
       "891219         -0.314404        1.465968               1.673188   \n",
       "891220          1.138167       -0.570997              -1.184923   \n",
       "\n",
       "        FINANZ_HAUSBAUER  GREEN_AVANTGARDE  HEALTH_TYP  ...  ZABEOTYP_1  \\\n",
       "1               1.339302         -0.530411    1.096608  ...   -0.427788   \n",
       "2               1.339302          1.885332    1.096608  ...   -0.427788   \n",
       "3              -0.791230         -0.530411   -0.256998  ...   -0.427788   \n",
       "4              -0.791230         -0.530411    1.096608  ...   -0.427788   \n",
       "5               1.339302         -0.530411    1.096608  ...   -0.427788   \n",
       "...                  ...               ...         ...  ...         ...   \n",
       "891216          0.629125         -0.530411    1.096608  ...   -0.427788   \n",
       "891217         -0.081052         -0.530411   -0.256998  ...   -0.427788   \n",
       "891218         -0.081052         -0.530411   -1.610603  ...   -0.427788   \n",
       "891219          1.339302         -0.530411   -1.610603  ...   -0.427788   \n",
       "891220          1.339302         -0.530411   -0.256998  ...   -0.427788   \n",
       "\n",
       "        ZABEOTYP_2  ZABEOTYP_3  ZABEOTYP_4  ZABEOTYP_5  ZABEOTYP_6  \\\n",
       "1        -0.207695   -0.739710   -0.592823    2.976105   -0.312172   \n",
       "2        -0.207695   -0.739710   -0.592823    2.976105   -0.312172   \n",
       "3        -0.207695    1.351882   -0.592823   -0.336010   -0.312172   \n",
       "4        -0.207695   -0.739710    1.686845   -0.336010   -0.312172   \n",
       "5        -0.207695   -0.739710    1.686845   -0.336010   -0.312172   \n",
       "...            ...         ...         ...         ...         ...   \n",
       "891216   -0.207695   -0.739710    1.686845   -0.336010   -0.312172   \n",
       "891217   -0.207695   -0.739710   -0.592823   -0.336010    3.203364   \n",
       "891218   -0.207695   -0.739710    1.686845   -0.336010   -0.312172   \n",
       "891219   -0.207695   -0.739710   -0.592823    2.976105   -0.312172   \n",
       "891220   -0.207695    1.351882   -0.592823   -0.336010   -0.312172   \n",
       "\n",
       "        generation  movement    wealth  life_stage  \n",
       "1         1.172947 -0.530411  1.186222   -1.267043  \n",
       "2         1.172947  1.885332 -0.868233    0.761295  \n",
       "3        -0.223452 -0.530411 -1.553051   -0.590930  \n",
       "4        -0.223452 -0.530411  0.501404    0.085182  \n",
       "5        -1.619852 -0.530411  1.186222    0.761295  \n",
       "...            ...       ...       ...         ...  \n",
       "891216    1.172947 -0.530411  0.501404   -1.267043  \n",
       "891217    0.474748 -0.530411  1.186222   -1.267043  \n",
       "891218    1.172947 -0.530411 -0.868233    0.761295  \n",
       "891219    1.172947 -0.530411  1.186222   -1.267043  \n",
       "891220   -1.619852 -0.530411  0.501404    0.085182  \n",
       "\n",
       "[798049 rows x 99 columns]"
      ]
     },
     "execution_count": 123,
     "metadata": {},
     "output_type": "execute_result"
    }
   ],
   "source": [
    "azdias_scaled"
   ]
  },
  {
   "cell_type": "markdown",
   "metadata": {},
   "source": [
    "### Discussion 2.1: Apply Feature Scaling\n",
    "The imputer was used to replace unknown NaN values with median values.<br>\n",
    "Nan Value rows weren't removed(but NaN values replaced) as about 21% of rows had some NaN value and removing them would lead to humongous loss of information<br>\n",
    "Median was chosen over mean and most_frequent as mean would cause some decimals being introduced and most_frequent may distort the original distribution too much\n",
    "<br>\n",
    "Feature scaling as usual is done to remove the effects of the units being used.<br>\n",
    "In particular Standard Scaler was used which made variance 1 and mean 0 for the columns<br>\n",
    "(Double-click this cell and replace this text with your own text, reporting your decisions regarding feature scaling.)"
   ]
  },
  {
   "cell_type": "markdown",
   "metadata": {},
   "source": [
    "### Step 2.2: Perform Dimensionality Reduction\n",
    "\n",
    "On your scaled data, you are now ready to apply dimensionality reduction techniques.\n",
    "\n",
    "- Use sklearn's [PCA](http://scikit-learn.org/stable/modules/generated/sklearn.decomposition.PCA.html) class to apply principal component analysis on the data, thus finding the vectors of maximal variance in the data. To start, you should not set any parameters (so all components are computed) or set a number of components that is at least half the number of features (so there's enough features to see the general trend in variability).\n",
    "- Check out the ratio of variance explained by each principal component as well as the cumulative variance explained. Try plotting the cumulative or sequential values using matplotlib's [`plot()`](https://matplotlib.org/api/_as_gen/matplotlib.pyplot.plot.html) function. Based on what you find, select a value for the number of transformed features you'll retain for the clustering part of the project.\n",
    "- Once you've made a choice for the number of components to keep, make sure you re-fit a PCA instance to perform the decided-on transformation."
   ]
  },
  {
   "cell_type": "code",
   "execution_count": 124,
   "metadata": {},
   "outputs": [],
   "source": [
    "from sklearn.decomposition import PCA"
   ]
  },
  {
   "cell_type": "code",
   "execution_count": 125,
   "metadata": {},
   "outputs": [],
   "source": [
    "# Apply PCA to the data.\n",
    "pca_model = PCA(50)\n",
    "azdias_PCA_50 = pca_model.fit_transform(azdias_scaled)"
   ]
  },
  {
   "cell_type": "code",
   "execution_count": 126,
   "metadata": {},
   "outputs": [],
   "source": [
    "# Investigate the variance accounted for by each principal component.\n",
    "# below function taken from Course provided helper module in PCA lesson\n",
    "def pca_results(full_dataset, pca):\n",
    "\t'''\n",
    "\tCreate a DataFrame of the PCA results\n",
    "\tIncludes dimension feature weights and explained variance\n",
    "\tVisualizes the PCA results\n",
    "\t'''\n",
    "\n",
    "\t# Dimension indexing\n",
    "\tdimensions = dimensions = ['Dimension {}'.format(i) for i in range(1,len(pca.components_)+1)]\n",
    "\n",
    "\t# PCA components\n",
    "\tcomponents = pd.DataFrame(np.round(pca.components_, 4), columns = full_dataset.keys())\n",
    "\tcomponents.index = dimensions\n",
    "\n",
    "\t# PCA explained variance\n",
    "\tratios = pca.explained_variance_ratio_.reshape(len(pca.components_), 1)\n",
    "\tvariance_ratios = pd.DataFrame(np.round(ratios, 4), columns = ['Explained Variance'])\n",
    "\tvariance_ratios.index = dimensions\n",
    "\n",
    "\t# Create a bar plot visualization\n",
    "\tfig, ax = plt.subplots(figsize = (14,8))\n",
    "\n",
    "\t# Plot the feature weights as a function of the components\n",
    "\tcomponents.plot(ax = ax, kind = 'bar');\n",
    "\tax.set_ylabel(\"Feature Weights\")\n",
    "\tax.set_xticklabels(dimensions, rotation=0)\n",
    "\n",
    "\n",
    "\t# Display the explained variance ratios\n",
    "\tfor i, ev in enumerate(pca.explained_variance_ratio_):\n",
    "\t\tax.text(i-0.40, ax.get_ylim()[1] + 0.05, \"Explained Variance\\n          %.4f\"%(ev))\n",
    "\n",
    "\t# Return a concatenated DataFrame\n",
    "\treturn pd.concat([variance_ratios, components], axis = 1)\n",
    "def pca_results_no_graph(full_dataset, pca):\n",
    "\t'''\n",
    "\tCreate a DataFrame of the PCA results\n",
    "\tIncludes dimension feature weights and explained variance\n",
    "\t'''\n",
    "\n",
    "\t# Dimension indexing\n",
    "\tdimensions = dimensions = ['Dimension {}'.format(i) for i in range(1,len(pca.components_)+1)]\n",
    "\n",
    "\t# PCA components\n",
    "\tcomponents = pd.DataFrame(np.round(pca.components_, 4), columns = full_dataset.keys())\n",
    "\tcomponents.index = dimensions\n",
    "\n",
    "\t# PCA explained variance\n",
    "\tratios = pca.explained_variance_ratio_.reshape(len(pca.components_), 1)\n",
    "\tvariance_ratios = pd.DataFrame(np.round(ratios, 4), columns = ['Explained Variance'])\n",
    "\tvariance_ratios.index = dimensions\n",
    "\n",
    "\t# Return a concatenated DataFrame\n",
    "\treturn pd.concat([variance_ratios, components], axis = 1)"
   ]
  },
  {
   "cell_type": "markdown",
   "metadata": {},
   "source": [
    "# Kindly note below column was not run again(to save time) while modifying code that's why cell execution number is different"
   ]
  },
  {
   "cell_type": "code",
   "execution_count": 173,
   "metadata": {},
   "outputs": [
    {
     "data": {
      "text/html": [
       "<div>\n",
       "<style scoped>\n",
       "    .dataframe tbody tr th:only-of-type {\n",
       "        vertical-align: middle;\n",
       "    }\n",
       "\n",
       "    .dataframe tbody tr th {\n",
       "        vertical-align: top;\n",
       "    }\n",
       "\n",
       "    .dataframe thead th {\n",
       "        text-align: right;\n",
       "    }\n",
       "</style>\n",
       "<table border=\"1\" class=\"dataframe\">\n",
       "  <thead>\n",
       "    <tr style=\"text-align: right;\">\n",
       "      <th></th>\n",
       "      <th>Explained Variance</th>\n",
       "      <th>ALTERSKATEGORIE_GROB</th>\n",
       "      <th>ANREDE_KZ</th>\n",
       "      <th>FINANZ_MINIMALIST</th>\n",
       "      <th>FINANZ_SPARER</th>\n",
       "      <th>FINANZ_VORSORGER</th>\n",
       "      <th>FINANZ_ANLEGER</th>\n",
       "      <th>FINANZ_UNAUFFAELLIGER</th>\n",
       "      <th>FINANZ_HAUSBAUER</th>\n",
       "      <th>GREEN_AVANTGARDE</th>\n",
       "      <th>...</th>\n",
       "      <th>ZABEOTYP_1</th>\n",
       "      <th>ZABEOTYP_2</th>\n",
       "      <th>ZABEOTYP_3</th>\n",
       "      <th>ZABEOTYP_4</th>\n",
       "      <th>ZABEOTYP_5</th>\n",
       "      <th>ZABEOTYP_6</th>\n",
       "      <th>generation</th>\n",
       "      <th>movement</th>\n",
       "      <th>wealth</th>\n",
       "      <th>life_stage</th>\n",
       "    </tr>\n",
       "  </thead>\n",
       "  <tbody>\n",
       "    <tr>\n",
       "      <th>Dimension 1</th>\n",
       "      <td>0.1282</td>\n",
       "      <td>-0.1366</td>\n",
       "      <td>0.0119</td>\n",
       "      <td>-0.2220</td>\n",
       "      <td>0.1667</td>\n",
       "      <td>-0.1322</td>\n",
       "      <td>0.0965</td>\n",
       "      <td>0.0980</td>\n",
       "      <td>0.1425</td>\n",
       "      <td>-0.1072</td>\n",
       "      <td>...</td>\n",
       "      <td>-0.0921</td>\n",
       "      <td>-0.0452</td>\n",
       "      <td>-0.0514</td>\n",
       "      <td>0.0607</td>\n",
       "      <td>0.0991</td>\n",
       "      <td>0.0363</td>\n",
       "      <td>0.1231</td>\n",
       "      <td>-0.1072</td>\n",
       "      <td>0.1779</td>\n",
       "      <td>-0.1132</td>\n",
       "    </tr>\n",
       "    <tr>\n",
       "      <th>Dimension 2</th>\n",
       "      <td>0.1037</td>\n",
       "      <td>0.2166</td>\n",
       "      <td>0.0662</td>\n",
       "      <td>0.0323</td>\n",
       "      <td>-0.1981</td>\n",
       "      <td>0.2015</td>\n",
       "      <td>-0.1810</td>\n",
       "      <td>-0.2038</td>\n",
       "      <td>0.1325</td>\n",
       "      <td>-0.0377</td>\n",
       "      <td>...</td>\n",
       "      <td>-0.0922</td>\n",
       "      <td>-0.0456</td>\n",
       "      <td>0.2037</td>\n",
       "      <td>-0.0923</td>\n",
       "      <td>-0.0741</td>\n",
       "      <td>0.0278</td>\n",
       "      <td>-0.2219</td>\n",
       "      <td>-0.0377</td>\n",
       "      <td>0.0989</td>\n",
       "      <td>-0.0166</td>\n",
       "    </tr>\n",
       "    <tr>\n",
       "      <th>Dimension 3</th>\n",
       "      <td>0.0670</td>\n",
       "      <td>0.0396</td>\n",
       "      <td>-0.3512</td>\n",
       "      <td>0.1290</td>\n",
       "      <td>-0.0750</td>\n",
       "      <td>0.0707</td>\n",
       "      <td>-0.1651</td>\n",
       "      <td>-0.0724</td>\n",
       "      <td>-0.0382</td>\n",
       "      <td>0.0483</td>\n",
       "      <td>...</td>\n",
       "      <td>0.1029</td>\n",
       "      <td>-0.0318</td>\n",
       "      <td>-0.0117</td>\n",
       "      <td>-0.0708</td>\n",
       "      <td>-0.0316</td>\n",
       "      <td>0.0537</td>\n",
       "      <td>-0.0750</td>\n",
       "      <td>0.0483</td>\n",
       "      <td>0.0341</td>\n",
       "      <td>-0.0173</td>\n",
       "    </tr>\n",
       "    <tr>\n",
       "      <th>Dimension 4</th>\n",
       "      <td>0.0419</td>\n",
       "      <td>-0.0233</td>\n",
       "      <td>0.0601</td>\n",
       "      <td>0.0365</td>\n",
       "      <td>-0.0041</td>\n",
       "      <td>-0.0115</td>\n",
       "      <td>-0.1036</td>\n",
       "      <td>0.0683</td>\n",
       "      <td>-0.0656</td>\n",
       "      <td>0.3532</td>\n",
       "      <td>...</td>\n",
       "      <td>0.1029</td>\n",
       "      <td>0.1102</td>\n",
       "      <td>-0.0745</td>\n",
       "      <td>-0.0168</td>\n",
       "      <td>-0.0251</td>\n",
       "      <td>-0.0303</td>\n",
       "      <td>0.0306</td>\n",
       "      <td>0.3532</td>\n",
       "      <td>-0.0751</td>\n",
       "      <td>0.0354</td>\n",
       "    </tr>\n",
       "    <tr>\n",
       "      <th>Dimension 5</th>\n",
       "      <td>0.0294</td>\n",
       "      <td>0.0399</td>\n",
       "      <td>-0.0230</td>\n",
       "      <td>0.0884</td>\n",
       "      <td>-0.0151</td>\n",
       "      <td>-0.0235</td>\n",
       "      <td>0.0557</td>\n",
       "      <td>-0.1142</td>\n",
       "      <td>-0.1034</td>\n",
       "      <td>-0.0731</td>\n",
       "      <td>...</td>\n",
       "      <td>-0.0133</td>\n",
       "      <td>0.0700</td>\n",
       "      <td>-0.0354</td>\n",
       "      <td>0.1208</td>\n",
       "      <td>-0.1056</td>\n",
       "      <td>-0.0469</td>\n",
       "      <td>0.0275</td>\n",
       "      <td>-0.0731</td>\n",
       "      <td>0.0653</td>\n",
       "      <td>-0.0348</td>\n",
       "    </tr>\n",
       "    <tr>\n",
       "      <th>Dimension 6</th>\n",
       "      <td>0.0236</td>\n",
       "      <td>0.0592</td>\n",
       "      <td>-0.0214</td>\n",
       "      <td>-0.1115</td>\n",
       "      <td>0.0284</td>\n",
       "      <td>0.0903</td>\n",
       "      <td>0.0316</td>\n",
       "      <td>0.0334</td>\n",
       "      <td>0.1289</td>\n",
       "      <td>-0.0725</td>\n",
       "      <td>...</td>\n",
       "      <td>0.0059</td>\n",
       "      <td>-0.0629</td>\n",
       "      <td>0.0324</td>\n",
       "      <td>0.1039</td>\n",
       "      <td>-0.0734</td>\n",
       "      <td>-0.1003</td>\n",
       "      <td>-0.0265</td>\n",
       "      <td>-0.0725</td>\n",
       "      <td>0.0379</td>\n",
       "      <td>-0.0304</td>\n",
       "    </tr>\n",
       "    <tr>\n",
       "      <th>Dimension 7</th>\n",
       "      <td>0.0216</td>\n",
       "      <td>0.0061</td>\n",
       "      <td>-0.0437</td>\n",
       "      <td>0.1639</td>\n",
       "      <td>-0.0641</td>\n",
       "      <td>0.0363</td>\n",
       "      <td>-0.0908</td>\n",
       "      <td>-0.0453</td>\n",
       "      <td>-0.2659</td>\n",
       "      <td>-0.1056</td>\n",
       "      <td>...</td>\n",
       "      <td>-0.0670</td>\n",
       "      <td>0.1021</td>\n",
       "      <td>-0.0370</td>\n",
       "      <td>0.0206</td>\n",
       "      <td>-0.1135</td>\n",
       "      <td>0.1646</td>\n",
       "      <td>0.0107</td>\n",
       "      <td>-0.1056</td>\n",
       "      <td>0.0166</td>\n",
       "      <td>-0.0891</td>\n",
       "    </tr>\n",
       "    <tr>\n",
       "      <th>Dimension 8</th>\n",
       "      <td>0.0211</td>\n",
       "      <td>0.0208</td>\n",
       "      <td>0.0163</td>\n",
       "      <td>-0.0160</td>\n",
       "      <td>0.0136</td>\n",
       "      <td>-0.0762</td>\n",
       "      <td>0.0243</td>\n",
       "      <td>0.0018</td>\n",
       "      <td>-0.0169</td>\n",
       "      <td>-0.0192</td>\n",
       "      <td>...</td>\n",
       "      <td>0.0319</td>\n",
       "      <td>0.0981</td>\n",
       "      <td>-0.0330</td>\n",
       "      <td>-0.0641</td>\n",
       "      <td>0.0400</td>\n",
       "      <td>0.0026</td>\n",
       "      <td>0.0415</td>\n",
       "      <td>-0.0192</td>\n",
       "      <td>-0.0504</td>\n",
       "      <td>0.0376</td>\n",
       "    </tr>\n",
       "    <tr>\n",
       "      <th>Dimension 9</th>\n",
       "      <td>0.0197</td>\n",
       "      <td>-0.1241</td>\n",
       "      <td>0.0478</td>\n",
       "      <td>0.0339</td>\n",
       "      <td>-0.1080</td>\n",
       "      <td>0.1309</td>\n",
       "      <td>-0.0487</td>\n",
       "      <td>-0.2395</td>\n",
       "      <td>0.0843</td>\n",
       "      <td>-0.0131</td>\n",
       "      <td>...</td>\n",
       "      <td>0.0642</td>\n",
       "      <td>-0.0306</td>\n",
       "      <td>-0.0371</td>\n",
       "      <td>-0.0926</td>\n",
       "      <td>-0.1072</td>\n",
       "      <td>0.2588</td>\n",
       "      <td>-0.1151</td>\n",
       "      <td>-0.0131</td>\n",
       "      <td>-0.0107</td>\n",
       "      <td>0.0345</td>\n",
       "    </tr>\n",
       "    <tr>\n",
       "      <th>Dimension 10</th>\n",
       "      <td>0.0188</td>\n",
       "      <td>-0.0436</td>\n",
       "      <td>0.0054</td>\n",
       "      <td>0.0351</td>\n",
       "      <td>-0.0060</td>\n",
       "      <td>0.0856</td>\n",
       "      <td>-0.0470</td>\n",
       "      <td>0.0797</td>\n",
       "      <td>-0.0500</td>\n",
       "      <td>-0.0013</td>\n",
       "      <td>...</td>\n",
       "      <td>0.0282</td>\n",
       "      <td>-0.0736</td>\n",
       "      <td>0.0233</td>\n",
       "      <td>0.0587</td>\n",
       "      <td>-0.0364</td>\n",
       "      <td>-0.0754</td>\n",
       "      <td>-0.0551</td>\n",
       "      <td>-0.0013</td>\n",
       "      <td>-0.0581</td>\n",
       "      <td>-0.0060</td>\n",
       "    </tr>\n",
       "    <tr>\n",
       "      <th>Dimension 11</th>\n",
       "      <td>0.0183</td>\n",
       "      <td>0.0246</td>\n",
       "      <td>0.0606</td>\n",
       "      <td>0.0241</td>\n",
       "      <td>-0.0724</td>\n",
       "      <td>0.0519</td>\n",
       "      <td>-0.1063</td>\n",
       "      <td>0.0908</td>\n",
       "      <td>0.0166</td>\n",
       "      <td>-0.1216</td>\n",
       "      <td>...</td>\n",
       "      <td>0.0217</td>\n",
       "      <td>0.0652</td>\n",
       "      <td>0.0120</td>\n",
       "      <td>-0.0683</td>\n",
       "      <td>-0.0258</td>\n",
       "      <td>0.0393</td>\n",
       "      <td>-0.0902</td>\n",
       "      <td>-0.1216</td>\n",
       "      <td>0.0215</td>\n",
       "      <td>-0.0252</td>\n",
       "    </tr>\n",
       "    <tr>\n",
       "      <th>Dimension 12</th>\n",
       "      <td>0.0166</td>\n",
       "      <td>0.1009</td>\n",
       "      <td>-0.0791</td>\n",
       "      <td>-0.0255</td>\n",
       "      <td>0.0550</td>\n",
       "      <td>-0.0381</td>\n",
       "      <td>-0.0208</td>\n",
       "      <td>0.0893</td>\n",
       "      <td>-0.0583</td>\n",
       "      <td>-0.0299</td>\n",
       "      <td>...</td>\n",
       "      <td>-0.1091</td>\n",
       "      <td>-0.0925</td>\n",
       "      <td>0.0145</td>\n",
       "      <td>0.1992</td>\n",
       "      <td>-0.1115</td>\n",
       "      <td>-0.0098</td>\n",
       "      <td>0.0679</td>\n",
       "      <td>-0.0299</td>\n",
       "      <td>-0.0268</td>\n",
       "      <td>-0.0274</td>\n",
       "    </tr>\n",
       "    <tr>\n",
       "      <th>Dimension 13</th>\n",
       "      <td>0.0155</td>\n",
       "      <td>-0.0588</td>\n",
       "      <td>-0.0020</td>\n",
       "      <td>-0.0043</td>\n",
       "      <td>-0.0591</td>\n",
       "      <td>0.1369</td>\n",
       "      <td>-0.0994</td>\n",
       "      <td>-0.0032</td>\n",
       "      <td>0.0050</td>\n",
       "      <td>-0.1102</td>\n",
       "      <td>...</td>\n",
       "      <td>0.0227</td>\n",
       "      <td>0.0154</td>\n",
       "      <td>-0.0883</td>\n",
       "      <td>0.0513</td>\n",
       "      <td>-0.0739</td>\n",
       "      <td>0.1082</td>\n",
       "      <td>-0.0158</td>\n",
       "      <td>-0.1102</td>\n",
       "      <td>-0.0357</td>\n",
       "      <td>-0.0182</td>\n",
       "    </tr>\n",
       "    <tr>\n",
       "      <th>Dimension 14</th>\n",
       "      <td>0.0149</td>\n",
       "      <td>0.0101</td>\n",
       "      <td>-0.0020</td>\n",
       "      <td>0.0250</td>\n",
       "      <td>0.0497</td>\n",
       "      <td>-0.0849</td>\n",
       "      <td>0.0375</td>\n",
       "      <td>0.0851</td>\n",
       "      <td>-0.0655</td>\n",
       "      <td>-0.0133</td>\n",
       "      <td>...</td>\n",
       "      <td>0.0564</td>\n",
       "      <td>0.0831</td>\n",
       "      <td>0.1000</td>\n",
       "      <td>-0.3095</td>\n",
       "      <td>0.2319</td>\n",
       "      <td>-0.0667</td>\n",
       "      <td>0.0461</td>\n",
       "      <td>-0.0133</td>\n",
       "      <td>0.0571</td>\n",
       "      <td>-0.1201</td>\n",
       "    </tr>\n",
       "    <tr>\n",
       "      <th>Dimension 15</th>\n",
       "      <td>0.0142</td>\n",
       "      <td>-0.0026</td>\n",
       "      <td>0.0197</td>\n",
       "      <td>-0.0038</td>\n",
       "      <td>-0.0416</td>\n",
       "      <td>-0.0346</td>\n",
       "      <td>-0.0035</td>\n",
       "      <td>-0.0095</td>\n",
       "      <td>0.0914</td>\n",
       "      <td>-0.0411</td>\n",
       "      <td>...</td>\n",
       "      <td>-0.1326</td>\n",
       "      <td>-0.0048</td>\n",
       "      <td>-0.0281</td>\n",
       "      <td>0.2466</td>\n",
       "      <td>-0.1150</td>\n",
       "      <td>-0.0391</td>\n",
       "      <td>-0.0404</td>\n",
       "      <td>-0.0411</td>\n",
       "      <td>-0.0446</td>\n",
       "      <td>0.1195</td>\n",
       "    </tr>\n",
       "    <tr>\n",
       "      <th>Dimension 16</th>\n",
       "      <td>0.0140</td>\n",
       "      <td>-0.0404</td>\n",
       "      <td>0.0137</td>\n",
       "      <td>0.0394</td>\n",
       "      <td>0.0008</td>\n",
       "      <td>-0.0080</td>\n",
       "      <td>0.0175</td>\n",
       "      <td>-0.0406</td>\n",
       "      <td>-0.0057</td>\n",
       "      <td>-0.1111</td>\n",
       "      <td>...</td>\n",
       "      <td>0.0364</td>\n",
       "      <td>-0.0161</td>\n",
       "      <td>0.0125</td>\n",
       "      <td>0.0618</td>\n",
       "      <td>-0.0069</td>\n",
       "      <td>-0.1440</td>\n",
       "      <td>-0.0245</td>\n",
       "      <td>-0.1111</td>\n",
       "      <td>-0.0317</td>\n",
       "      <td>0.0514</td>\n",
       "    </tr>\n",
       "    <tr>\n",
       "      <th>Dimension 17</th>\n",
       "      <td>0.0135</td>\n",
       "      <td>0.0119</td>\n",
       "      <td>-0.0145</td>\n",
       "      <td>-0.0239</td>\n",
       "      <td>0.0094</td>\n",
       "      <td>0.0588</td>\n",
       "      <td>0.0660</td>\n",
       "      <td>-0.0085</td>\n",
       "      <td>0.0333</td>\n",
       "      <td>0.2050</td>\n",
       "      <td>...</td>\n",
       "      <td>-0.0742</td>\n",
       "      <td>0.1601</td>\n",
       "      <td>0.0206</td>\n",
       "      <td>0.0197</td>\n",
       "      <td>-0.1127</td>\n",
       "      <td>0.0369</td>\n",
       "      <td>-0.0341</td>\n",
       "      <td>0.2050</td>\n",
       "      <td>0.0639</td>\n",
       "      <td>-0.0376</td>\n",
       "    </tr>\n",
       "    <tr>\n",
       "      <th>Dimension 18</th>\n",
       "      <td>0.0131</td>\n",
       "      <td>0.1037</td>\n",
       "      <td>-0.0040</td>\n",
       "      <td>0.0179</td>\n",
       "      <td>0.0444</td>\n",
       "      <td>-0.0647</td>\n",
       "      <td>0.0636</td>\n",
       "      <td>0.0260</td>\n",
       "      <td>-0.1093</td>\n",
       "      <td>0.0817</td>\n",
       "      <td>...</td>\n",
       "      <td>0.0444</td>\n",
       "      <td>-0.1652</td>\n",
       "      <td>-0.0263</td>\n",
       "      <td>0.0372</td>\n",
       "      <td>-0.0520</td>\n",
       "      <td>0.1013</td>\n",
       "      <td>0.0403</td>\n",
       "      <td>0.0817</td>\n",
       "      <td>0.0868</td>\n",
       "      <td>-0.1326</td>\n",
       "    </tr>\n",
       "    <tr>\n",
       "      <th>Dimension 19</th>\n",
       "      <td>0.0130</td>\n",
       "      <td>0.0151</td>\n",
       "      <td>-0.0275</td>\n",
       "      <td>-0.0568</td>\n",
       "      <td>0.0377</td>\n",
       "      <td>0.0124</td>\n",
       "      <td>0.0442</td>\n",
       "      <td>0.0036</td>\n",
       "      <td>0.0512</td>\n",
       "      <td>0.0022</td>\n",
       "      <td>...</td>\n",
       "      <td>-0.0265</td>\n",
       "      <td>0.1011</td>\n",
       "      <td>-0.0695</td>\n",
       "      <td>0.0501</td>\n",
       "      <td>-0.0391</td>\n",
       "      <td>0.0440</td>\n",
       "      <td>0.0196</td>\n",
       "      <td>0.0022</td>\n",
       "      <td>-0.0467</td>\n",
       "      <td>0.0577</td>\n",
       "    </tr>\n",
       "    <tr>\n",
       "      <th>Dimension 20</th>\n",
       "      <td>0.0128</td>\n",
       "      <td>0.0030</td>\n",
       "      <td>-0.0387</td>\n",
       "      <td>-0.0270</td>\n",
       "      <td>0.0235</td>\n",
       "      <td>-0.0599</td>\n",
       "      <td>0.0157</td>\n",
       "      <td>0.0600</td>\n",
       "      <td>-0.0161</td>\n",
       "      <td>0.0101</td>\n",
       "      <td>...</td>\n",
       "      <td>-0.1661</td>\n",
       "      <td>0.2305</td>\n",
       "      <td>0.1099</td>\n",
       "      <td>-0.1895</td>\n",
       "      <td>0.1464</td>\n",
       "      <td>0.0019</td>\n",
       "      <td>0.0349</td>\n",
       "      <td>0.0101</td>\n",
       "      <td>-0.0522</td>\n",
       "      <td>0.1176</td>\n",
       "    </tr>\n",
       "    <tr>\n",
       "      <th>Dimension 21</th>\n",
       "      <td>0.0124</td>\n",
       "      <td>-0.0697</td>\n",
       "      <td>0.0338</td>\n",
       "      <td>0.0030</td>\n",
       "      <td>-0.0418</td>\n",
       "      <td>0.0682</td>\n",
       "      <td>-0.0018</td>\n",
       "      <td>-0.0583</td>\n",
       "      <td>-0.0120</td>\n",
       "      <td>0.1139</td>\n",
       "      <td>...</td>\n",
       "      <td>-0.0238</td>\n",
       "      <td>-0.0702</td>\n",
       "      <td>-0.1218</td>\n",
       "      <td>0.1822</td>\n",
       "      <td>-0.1249</td>\n",
       "      <td>0.1357</td>\n",
       "      <td>-0.0021</td>\n",
       "      <td>0.1139</td>\n",
       "      <td>0.0424</td>\n",
       "      <td>-0.0702</td>\n",
       "    </tr>\n",
       "    <tr>\n",
       "      <th>Dimension 22</th>\n",
       "      <td>0.0122</td>\n",
       "      <td>-0.0303</td>\n",
       "      <td>0.0143</td>\n",
       "      <td>-0.0436</td>\n",
       "      <td>0.0186</td>\n",
       "      <td>0.0455</td>\n",
       "      <td>-0.0071</td>\n",
       "      <td>-0.0184</td>\n",
       "      <td>0.0095</td>\n",
       "      <td>-0.0647</td>\n",
       "      <td>...</td>\n",
       "      <td>-0.0265</td>\n",
       "      <td>0.0549</td>\n",
       "      <td>0.0110</td>\n",
       "      <td>-0.0256</td>\n",
       "      <td>-0.0402</td>\n",
       "      <td>0.0589</td>\n",
       "      <td>-0.0143</td>\n",
       "      <td>-0.0647</td>\n",
       "      <td>-0.0647</td>\n",
       "      <td>0.1512</td>\n",
       "    </tr>\n",
       "    <tr>\n",
       "      <th>Dimension 23</th>\n",
       "      <td>0.0120</td>\n",
       "      <td>0.1299</td>\n",
       "      <td>-0.0445</td>\n",
       "      <td>-0.0344</td>\n",
       "      <td>0.0279</td>\n",
       "      <td>-0.0191</td>\n",
       "      <td>-0.0311</td>\n",
       "      <td>-0.0366</td>\n",
       "      <td>-0.0009</td>\n",
       "      <td>0.0061</td>\n",
       "      <td>...</td>\n",
       "      <td>0.0148</td>\n",
       "      <td>-0.1029</td>\n",
       "      <td>-0.0316</td>\n",
       "      <td>0.0044</td>\n",
       "      <td>0.1511</td>\n",
       "      <td>-0.0608</td>\n",
       "      <td>0.0187</td>\n",
       "      <td>0.0061</td>\n",
       "      <td>-0.0111</td>\n",
       "      <td>0.0256</td>\n",
       "    </tr>\n",
       "    <tr>\n",
       "      <th>Dimension 24</th>\n",
       "      <td>0.0115</td>\n",
       "      <td>-0.0245</td>\n",
       "      <td>-0.0292</td>\n",
       "      <td>0.0292</td>\n",
       "      <td>-0.0062</td>\n",
       "      <td>-0.0307</td>\n",
       "      <td>-0.0454</td>\n",
       "      <td>0.0633</td>\n",
       "      <td>-0.0639</td>\n",
       "      <td>-0.0184</td>\n",
       "      <td>...</td>\n",
       "      <td>-0.1609</td>\n",
       "      <td>0.1242</td>\n",
       "      <td>-0.0428</td>\n",
       "      <td>0.0226</td>\n",
       "      <td>-0.0047</td>\n",
       "      <td>0.1598</td>\n",
       "      <td>0.0272</td>\n",
       "      <td>-0.0184</td>\n",
       "      <td>0.0447</td>\n",
       "      <td>0.0336</td>\n",
       "    </tr>\n",
       "    <tr>\n",
       "      <th>Dimension 25</th>\n",
       "      <td>0.0113</td>\n",
       "      <td>0.0286</td>\n",
       "      <td>-0.0178</td>\n",
       "      <td>-0.0061</td>\n",
       "      <td>0.0378</td>\n",
       "      <td>-0.0473</td>\n",
       "      <td>-0.0021</td>\n",
       "      <td>0.0106</td>\n",
       "      <td>-0.0073</td>\n",
       "      <td>-0.0113</td>\n",
       "      <td>...</td>\n",
       "      <td>-0.0672</td>\n",
       "      <td>-0.0030</td>\n",
       "      <td>0.1437</td>\n",
       "      <td>-0.0768</td>\n",
       "      <td>0.1295</td>\n",
       "      <td>-0.1730</td>\n",
       "      <td>0.0330</td>\n",
       "      <td>-0.0113</td>\n",
       "      <td>0.0135</td>\n",
       "      <td>-0.0056</td>\n",
       "    </tr>\n",
       "    <tr>\n",
       "      <th>Dimension 26</th>\n",
       "      <td>0.0111</td>\n",
       "      <td>-0.0081</td>\n",
       "      <td>-0.0051</td>\n",
       "      <td>0.0338</td>\n",
       "      <td>-0.0463</td>\n",
       "      <td>0.0245</td>\n",
       "      <td>-0.0520</td>\n",
       "      <td>0.0066</td>\n",
       "      <td>0.0141</td>\n",
       "      <td>0.0431</td>\n",
       "      <td>...</td>\n",
       "      <td>0.0866</td>\n",
       "      <td>-0.1900</td>\n",
       "      <td>0.0626</td>\n",
       "      <td>0.0516</td>\n",
       "      <td>0.0360</td>\n",
       "      <td>-0.2000</td>\n",
       "      <td>-0.0151</td>\n",
       "      <td>0.0431</td>\n",
       "      <td>0.0904</td>\n",
       "      <td>-0.0307</td>\n",
       "    </tr>\n",
       "    <tr>\n",
       "      <th>Dimension 27</th>\n",
       "      <td>0.0108</td>\n",
       "      <td>-0.0207</td>\n",
       "      <td>-0.0134</td>\n",
       "      <td>0.0575</td>\n",
       "      <td>-0.0413</td>\n",
       "      <td>-0.0117</td>\n",
       "      <td>-0.0760</td>\n",
       "      <td>-0.0006</td>\n",
       "      <td>-0.0199</td>\n",
       "      <td>-0.0135</td>\n",
       "      <td>...</td>\n",
       "      <td>-0.0256</td>\n",
       "      <td>0.0345</td>\n",
       "      <td>-0.1937</td>\n",
       "      <td>0.0507</td>\n",
       "      <td>0.1184</td>\n",
       "      <td>0.1301</td>\n",
       "      <td>0.0115</td>\n",
       "      <td>-0.0135</td>\n",
       "      <td>0.1149</td>\n",
       "      <td>-0.1162</td>\n",
       "    </tr>\n",
       "    <tr>\n",
       "      <th>Dimension 28</th>\n",
       "      <td>0.0106</td>\n",
       "      <td>0.0036</td>\n",
       "      <td>-0.0134</td>\n",
       "      <td>0.0086</td>\n",
       "      <td>-0.0097</td>\n",
       "      <td>-0.0150</td>\n",
       "      <td>0.0027</td>\n",
       "      <td>0.0201</td>\n",
       "      <td>-0.0439</td>\n",
       "      <td>0.0011</td>\n",
       "      <td>...</td>\n",
       "      <td>0.2146</td>\n",
       "      <td>-0.2780</td>\n",
       "      <td>-0.1109</td>\n",
       "      <td>-0.0898</td>\n",
       "      <td>0.0461</td>\n",
       "      <td>0.1977</td>\n",
       "      <td>0.0299</td>\n",
       "      <td>0.0011</td>\n",
       "      <td>-0.0626</td>\n",
       "      <td>0.1375</td>\n",
       "    </tr>\n",
       "    <tr>\n",
       "      <th>Dimension 29</th>\n",
       "      <td>0.0105</td>\n",
       "      <td>-0.0085</td>\n",
       "      <td>0.0417</td>\n",
       "      <td>-0.0189</td>\n",
       "      <td>0.0441</td>\n",
       "      <td>0.0175</td>\n",
       "      <td>0.0557</td>\n",
       "      <td>-0.0051</td>\n",
       "      <td>-0.0474</td>\n",
       "      <td>-0.0018</td>\n",
       "      <td>...</td>\n",
       "      <td>0.0996</td>\n",
       "      <td>-0.1397</td>\n",
       "      <td>0.0170</td>\n",
       "      <td>-0.0877</td>\n",
       "      <td>0.0418</td>\n",
       "      <td>0.0333</td>\n",
       "      <td>0.0338</td>\n",
       "      <td>-0.0018</td>\n",
       "      <td>0.0884</td>\n",
       "      <td>-0.1230</td>\n",
       "    </tr>\n",
       "    <tr>\n",
       "      <th>Dimension 30</th>\n",
       "      <td>0.0104</td>\n",
       "      <td>-0.0156</td>\n",
       "      <td>-0.0036</td>\n",
       "      <td>0.0299</td>\n",
       "      <td>-0.0640</td>\n",
       "      <td>-0.0115</td>\n",
       "      <td>-0.0851</td>\n",
       "      <td>0.0010</td>\n",
       "      <td>0.0535</td>\n",
       "      <td>-0.0324</td>\n",
       "      <td>...</td>\n",
       "      <td>0.0694</td>\n",
       "      <td>-0.0538</td>\n",
       "      <td>-0.0270</td>\n",
       "      <td>0.0907</td>\n",
       "      <td>-0.0049</td>\n",
       "      <td>-0.1398</td>\n",
       "      <td>-0.0476</td>\n",
       "      <td>-0.0324</td>\n",
       "      <td>-0.0789</td>\n",
       "      <td>0.1918</td>\n",
       "    </tr>\n",
       "    <tr>\n",
       "      <th>Dimension 31</th>\n",
       "      <td>0.0103</td>\n",
       "      <td>0.0659</td>\n",
       "      <td>-0.0062</td>\n",
       "      <td>0.0091</td>\n",
       "      <td>0.0018</td>\n",
       "      <td>0.0164</td>\n",
       "      <td>-0.0045</td>\n",
       "      <td>0.0011</td>\n",
       "      <td>-0.0299</td>\n",
       "      <td>-0.0023</td>\n",
       "      <td>...</td>\n",
       "      <td>-0.0151</td>\n",
       "      <td>0.0338</td>\n",
       "      <td>-0.1178</td>\n",
       "      <td>-0.0891</td>\n",
       "      <td>0.1118</td>\n",
       "      <td>0.2123</td>\n",
       "      <td>0.0469</td>\n",
       "      <td>-0.0023</td>\n",
       "      <td>0.1028</td>\n",
       "      <td>-0.1989</td>\n",
       "    </tr>\n",
       "    <tr>\n",
       "      <th>Dimension 32</th>\n",
       "      <td>0.0101</td>\n",
       "      <td>-0.0470</td>\n",
       "      <td>0.0468</td>\n",
       "      <td>0.0213</td>\n",
       "      <td>0.0502</td>\n",
       "      <td>-0.0869</td>\n",
       "      <td>0.0328</td>\n",
       "      <td>0.0595</td>\n",
       "      <td>-0.1102</td>\n",
       "      <td>-0.0100</td>\n",
       "      <td>...</td>\n",
       "      <td>-0.0100</td>\n",
       "      <td>0.0112</td>\n",
       "      <td>0.1345</td>\n",
       "      <td>-0.0740</td>\n",
       "      <td>-0.0068</td>\n",
       "      <td>-0.0998</td>\n",
       "      <td>0.0183</td>\n",
       "      <td>-0.0100</td>\n",
       "      <td>0.0051</td>\n",
       "      <td>0.0160</td>\n",
       "    </tr>\n",
       "    <tr>\n",
       "      <th>Dimension 33</th>\n",
       "      <td>0.0099</td>\n",
       "      <td>-0.0271</td>\n",
       "      <td>0.0088</td>\n",
       "      <td>0.0281</td>\n",
       "      <td>-0.0623</td>\n",
       "      <td>0.0835</td>\n",
       "      <td>-0.0454</td>\n",
       "      <td>-0.0922</td>\n",
       "      <td>0.0084</td>\n",
       "      <td>0.0093</td>\n",
       "      <td>...</td>\n",
       "      <td>0.0609</td>\n",
       "      <td>0.0137</td>\n",
       "      <td>-0.0225</td>\n",
       "      <td>-0.0977</td>\n",
       "      <td>0.1015</td>\n",
       "      <td>-0.0063</td>\n",
       "      <td>-0.0075</td>\n",
       "      <td>0.0093</td>\n",
       "      <td>-0.0061</td>\n",
       "      <td>0.1003</td>\n",
       "    </tr>\n",
       "    <tr>\n",
       "      <th>Dimension 34</th>\n",
       "      <td>0.0097</td>\n",
       "      <td>-0.0085</td>\n",
       "      <td>-0.0324</td>\n",
       "      <td>-0.0110</td>\n",
       "      <td>0.0568</td>\n",
       "      <td>-0.0707</td>\n",
       "      <td>0.0476</td>\n",
       "      <td>0.0487</td>\n",
       "      <td>-0.0057</td>\n",
       "      <td>0.0438</td>\n",
       "      <td>...</td>\n",
       "      <td>-0.1730</td>\n",
       "      <td>0.0750</td>\n",
       "      <td>0.0497</td>\n",
       "      <td>0.3856</td>\n",
       "      <td>-0.3220</td>\n",
       "      <td>-0.1690</td>\n",
       "      <td>-0.0363</td>\n",
       "      <td>0.0438</td>\n",
       "      <td>0.0141</td>\n",
       "      <td>0.0348</td>\n",
       "    </tr>\n",
       "    <tr>\n",
       "      <th>Dimension 35</th>\n",
       "      <td>0.0094</td>\n",
       "      <td>0.0851</td>\n",
       "      <td>0.0483</td>\n",
       "      <td>-0.0160</td>\n",
       "      <td>0.0443</td>\n",
       "      <td>-0.0719</td>\n",
       "      <td>0.0602</td>\n",
       "      <td>0.0743</td>\n",
       "      <td>-0.0386</td>\n",
       "      <td>-0.0054</td>\n",
       "      <td>...</td>\n",
       "      <td>0.3404</td>\n",
       "      <td>-0.2538</td>\n",
       "      <td>-0.2685</td>\n",
       "      <td>0.1159</td>\n",
       "      <td>-0.1609</td>\n",
       "      <td>0.1884</td>\n",
       "      <td>0.0318</td>\n",
       "      <td>-0.0054</td>\n",
       "      <td>-0.0230</td>\n",
       "      <td>0.1262</td>\n",
       "    </tr>\n",
       "    <tr>\n",
       "      <th>Dimension 36</th>\n",
       "      <td>0.0093</td>\n",
       "      <td>-0.0771</td>\n",
       "      <td>-0.0234</td>\n",
       "      <td>-0.0045</td>\n",
       "      <td>0.0170</td>\n",
       "      <td>0.0364</td>\n",
       "      <td>0.0301</td>\n",
       "      <td>0.0103</td>\n",
       "      <td>-0.0504</td>\n",
       "      <td>-0.0220</td>\n",
       "      <td>...</td>\n",
       "      <td>0.3200</td>\n",
       "      <td>-0.2734</td>\n",
       "      <td>0.1721</td>\n",
       "      <td>-0.0801</td>\n",
       "      <td>-0.0312</td>\n",
       "      <td>-0.3480</td>\n",
       "      <td>-0.0102</td>\n",
       "      <td>-0.0220</td>\n",
       "      <td>-0.0250</td>\n",
       "      <td>0.0669</td>\n",
       "    </tr>\n",
       "    <tr>\n",
       "      <th>Dimension 37</th>\n",
       "      <td>0.0090</td>\n",
       "      <td>0.0954</td>\n",
       "      <td>-0.0736</td>\n",
       "      <td>-0.0307</td>\n",
       "      <td>0.0940</td>\n",
       "      <td>-0.0961</td>\n",
       "      <td>0.0891</td>\n",
       "      <td>0.0785</td>\n",
       "      <td>0.0421</td>\n",
       "      <td>-0.0697</td>\n",
       "      <td>...</td>\n",
       "      <td>0.0120</td>\n",
       "      <td>0.0624</td>\n",
       "      <td>-0.1963</td>\n",
       "      <td>0.0336</td>\n",
       "      <td>0.0084</td>\n",
       "      <td>0.2102</td>\n",
       "      <td>0.0360</td>\n",
       "      <td>-0.0697</td>\n",
       "      <td>-0.0931</td>\n",
       "      <td>0.1635</td>\n",
       "    </tr>\n",
       "    <tr>\n",
       "      <th>Dimension 38</th>\n",
       "      <td>0.0086</td>\n",
       "      <td>0.0381</td>\n",
       "      <td>-0.0120</td>\n",
       "      <td>0.0287</td>\n",
       "      <td>-0.0185</td>\n",
       "      <td>0.0572</td>\n",
       "      <td>-0.0149</td>\n",
       "      <td>-0.0353</td>\n",
       "      <td>0.0010</td>\n",
       "      <td>-0.0032</td>\n",
       "      <td>...</td>\n",
       "      <td>-0.1107</td>\n",
       "      <td>0.2204</td>\n",
       "      <td>-0.1481</td>\n",
       "      <td>0.0883</td>\n",
       "      <td>0.1585</td>\n",
       "      <td>-0.0690</td>\n",
       "      <td>0.0063</td>\n",
       "      <td>-0.0032</td>\n",
       "      <td>0.0211</td>\n",
       "      <td>-0.1506</td>\n",
       "    </tr>\n",
       "    <tr>\n",
       "      <th>Dimension 39</th>\n",
       "      <td>0.0085</td>\n",
       "      <td>0.0003</td>\n",
       "      <td>0.0360</td>\n",
       "      <td>0.0109</td>\n",
       "      <td>0.0019</td>\n",
       "      <td>0.0234</td>\n",
       "      <td>0.0293</td>\n",
       "      <td>-0.0066</td>\n",
       "      <td>0.0234</td>\n",
       "      <td>-0.0153</td>\n",
       "      <td>...</td>\n",
       "      <td>0.0185</td>\n",
       "      <td>0.0912</td>\n",
       "      <td>0.1699</td>\n",
       "      <td>0.0252</td>\n",
       "      <td>-0.2424</td>\n",
       "      <td>-0.1546</td>\n",
       "      <td>-0.0709</td>\n",
       "      <td>-0.0153</td>\n",
       "      <td>0.0807</td>\n",
       "      <td>-0.1446</td>\n",
       "    </tr>\n",
       "    <tr>\n",
       "      <th>Dimension 40</th>\n",
       "      <td>0.0082</td>\n",
       "      <td>0.0208</td>\n",
       "      <td>-0.0224</td>\n",
       "      <td>-0.0591</td>\n",
       "      <td>0.0730</td>\n",
       "      <td>-0.0411</td>\n",
       "      <td>0.0422</td>\n",
       "      <td>0.0594</td>\n",
       "      <td>-0.0128</td>\n",
       "      <td>0.0144</td>\n",
       "      <td>...</td>\n",
       "      <td>0.0864</td>\n",
       "      <td>-0.1219</td>\n",
       "      <td>0.0099</td>\n",
       "      <td>-0.0288</td>\n",
       "      <td>-0.1011</td>\n",
       "      <td>0.1105</td>\n",
       "      <td>0.0295</td>\n",
       "      <td>0.0144</td>\n",
       "      <td>0.1380</td>\n",
       "      <td>-0.5497</td>\n",
       "    </tr>\n",
       "    <tr>\n",
       "      <th>Dimension 41</th>\n",
       "      <td>0.0081</td>\n",
       "      <td>0.0205</td>\n",
       "      <td>0.0102</td>\n",
       "      <td>0.0645</td>\n",
       "      <td>-0.0308</td>\n",
       "      <td>-0.0376</td>\n",
       "      <td>-0.0736</td>\n",
       "      <td>-0.0357</td>\n",
       "      <td>-0.0177</td>\n",
       "      <td>0.0055</td>\n",
       "      <td>...</td>\n",
       "      <td>-0.0356</td>\n",
       "      <td>-0.0776</td>\n",
       "      <td>-0.0392</td>\n",
       "      <td>0.1636</td>\n",
       "      <td>0.0324</td>\n",
       "      <td>-0.1211</td>\n",
       "      <td>0.0111</td>\n",
       "      <td>0.0055</td>\n",
       "      <td>0.0618</td>\n",
       "      <td>-0.2768</td>\n",
       "    </tr>\n",
       "    <tr>\n",
       "      <th>Dimension 42</th>\n",
       "      <td>0.0077</td>\n",
       "      <td>0.0406</td>\n",
       "      <td>-0.0179</td>\n",
       "      <td>-0.0116</td>\n",
       "      <td>0.0728</td>\n",
       "      <td>-0.0192</td>\n",
       "      <td>0.0146</td>\n",
       "      <td>0.0561</td>\n",
       "      <td>-0.1438</td>\n",
       "      <td>0.0137</td>\n",
       "      <td>...</td>\n",
       "      <td>-0.2456</td>\n",
       "      <td>-0.0294</td>\n",
       "      <td>0.1300</td>\n",
       "      <td>-0.0376</td>\n",
       "      <td>-0.0245</td>\n",
       "      <td>0.1982</td>\n",
       "      <td>0.0909</td>\n",
       "      <td>0.0137</td>\n",
       "      <td>-0.0940</td>\n",
       "      <td>0.2810</td>\n",
       "    </tr>\n",
       "    <tr>\n",
       "      <th>Dimension 43</th>\n",
       "      <td>0.0075</td>\n",
       "      <td>-0.0226</td>\n",
       "      <td>-0.0038</td>\n",
       "      <td>0.0151</td>\n",
       "      <td>-0.0336</td>\n",
       "      <td>-0.0510</td>\n",
       "      <td>-0.0597</td>\n",
       "      <td>-0.0395</td>\n",
       "      <td>0.0490</td>\n",
       "      <td>0.0418</td>\n",
       "      <td>...</td>\n",
       "      <td>-0.3045</td>\n",
       "      <td>-0.4731</td>\n",
       "      <td>0.1160</td>\n",
       "      <td>0.1031</td>\n",
       "      <td>0.2399</td>\n",
       "      <td>0.1098</td>\n",
       "      <td>0.0067</td>\n",
       "      <td>0.0418</td>\n",
       "      <td>0.0173</td>\n",
       "      <td>0.0767</td>\n",
       "    </tr>\n",
       "    <tr>\n",
       "      <th>Dimension 44</th>\n",
       "      <td>0.0074</td>\n",
       "      <td>-0.0288</td>\n",
       "      <td>0.0231</td>\n",
       "      <td>0.0120</td>\n",
       "      <td>-0.0111</td>\n",
       "      <td>-0.0235</td>\n",
       "      <td>0.0418</td>\n",
       "      <td>0.0081</td>\n",
       "      <td>0.0320</td>\n",
       "      <td>0.0090</td>\n",
       "      <td>...</td>\n",
       "      <td>-0.1542</td>\n",
       "      <td>-0.1807</td>\n",
       "      <td>0.1497</td>\n",
       "      <td>-0.1017</td>\n",
       "      <td>0.0705</td>\n",
       "      <td>0.1528</td>\n",
       "      <td>-0.0142</td>\n",
       "      <td>0.0090</td>\n",
       "      <td>-0.0090</td>\n",
       "      <td>-0.0004</td>\n",
       "    </tr>\n",
       "    <tr>\n",
       "      <th>Dimension 45</th>\n",
       "      <td>0.0073</td>\n",
       "      <td>-0.0379</td>\n",
       "      <td>0.0226</td>\n",
       "      <td>0.0639</td>\n",
       "      <td>-0.0445</td>\n",
       "      <td>-0.0084</td>\n",
       "      <td>-0.0834</td>\n",
       "      <td>-0.0694</td>\n",
       "      <td>0.1018</td>\n",
       "      <td>0.0114</td>\n",
       "      <td>...</td>\n",
       "      <td>0.0131</td>\n",
       "      <td>0.0714</td>\n",
       "      <td>-0.0229</td>\n",
       "      <td>-0.0021</td>\n",
       "      <td>0.0387</td>\n",
       "      <td>-0.0660</td>\n",
       "      <td>-0.0312</td>\n",
       "      <td>0.0114</td>\n",
       "      <td>0.1191</td>\n",
       "      <td>-0.0474</td>\n",
       "    </tr>\n",
       "    <tr>\n",
       "      <th>Dimension 46</th>\n",
       "      <td>0.0068</td>\n",
       "      <td>-0.0125</td>\n",
       "      <td>-0.0009</td>\n",
       "      <td>0.0097</td>\n",
       "      <td>-0.0214</td>\n",
       "      <td>0.0378</td>\n",
       "      <td>0.0090</td>\n",
       "      <td>-0.0011</td>\n",
       "      <td>-0.0228</td>\n",
       "      <td>0.0271</td>\n",
       "      <td>...</td>\n",
       "      <td>0.0579</td>\n",
       "      <td>-0.0572</td>\n",
       "      <td>-0.0435</td>\n",
       "      <td>0.0121</td>\n",
       "      <td>0.0656</td>\n",
       "      <td>-0.0487</td>\n",
       "      <td>-0.0171</td>\n",
       "      <td>0.0271</td>\n",
       "      <td>-0.0997</td>\n",
       "      <td>0.1279</td>\n",
       "    </tr>\n",
       "    <tr>\n",
       "      <th>Dimension 47</th>\n",
       "      <td>0.0066</td>\n",
       "      <td>-0.0150</td>\n",
       "      <td>0.0244</td>\n",
       "      <td>-0.0836</td>\n",
       "      <td>0.0058</td>\n",
       "      <td>-0.0179</td>\n",
       "      <td>0.1058</td>\n",
       "      <td>0.0250</td>\n",
       "      <td>0.1862</td>\n",
       "      <td>-0.0824</td>\n",
       "      <td>...</td>\n",
       "      <td>0.2409</td>\n",
       "      <td>0.1730</td>\n",
       "      <td>0.1013</td>\n",
       "      <td>-0.2324</td>\n",
       "      <td>-0.3489</td>\n",
       "      <td>0.1310</td>\n",
       "      <td>0.0149</td>\n",
       "      <td>-0.0824</td>\n",
       "      <td>0.0112</td>\n",
       "      <td>0.0280</td>\n",
       "    </tr>\n",
       "    <tr>\n",
       "      <th>Dimension 48</th>\n",
       "      <td>0.0060</td>\n",
       "      <td>-0.1258</td>\n",
       "      <td>0.0197</td>\n",
       "      <td>-0.0332</td>\n",
       "      <td>-0.0446</td>\n",
       "      <td>0.1117</td>\n",
       "      <td>-0.0027</td>\n",
       "      <td>-0.0082</td>\n",
       "      <td>0.0667</td>\n",
       "      <td>0.0129</td>\n",
       "      <td>...</td>\n",
       "      <td>-0.0761</td>\n",
       "      <td>-0.0486</td>\n",
       "      <td>0.1524</td>\n",
       "      <td>-0.0835</td>\n",
       "      <td>-0.1451</td>\n",
       "      <td>0.1574</td>\n",
       "      <td>-0.0225</td>\n",
       "      <td>0.0129</td>\n",
       "      <td>0.0171</td>\n",
       "      <td>-0.0513</td>\n",
       "    </tr>\n",
       "    <tr>\n",
       "      <th>Dimension 49</th>\n",
       "      <td>0.0058</td>\n",
       "      <td>-0.0002</td>\n",
       "      <td>0.0042</td>\n",
       "      <td>0.0255</td>\n",
       "      <td>0.0426</td>\n",
       "      <td>0.0364</td>\n",
       "      <td>0.0549</td>\n",
       "      <td>0.0379</td>\n",
       "      <td>-0.0686</td>\n",
       "      <td>0.0740</td>\n",
       "      <td>...</td>\n",
       "      <td>-0.0931</td>\n",
       "      <td>-0.1561</td>\n",
       "      <td>0.2554</td>\n",
       "      <td>-0.0487</td>\n",
       "      <td>-0.2873</td>\n",
       "      <td>0.1783</td>\n",
       "      <td>-0.0107</td>\n",
       "      <td>0.0740</td>\n",
       "      <td>-0.0741</td>\n",
       "      <td>-0.0178</td>\n",
       "    </tr>\n",
       "    <tr>\n",
       "      <th>Dimension 50</th>\n",
       "      <td>0.0053</td>\n",
       "      <td>0.0537</td>\n",
       "      <td>-0.0378</td>\n",
       "      <td>-0.0801</td>\n",
       "      <td>-0.0348</td>\n",
       "      <td>0.0648</td>\n",
       "      <td>-0.1233</td>\n",
       "      <td>-0.0340</td>\n",
       "      <td>0.0432</td>\n",
       "      <td>-0.2439</td>\n",
       "      <td>...</td>\n",
       "      <td>0.0125</td>\n",
       "      <td>-0.0682</td>\n",
       "      <td>-0.0518</td>\n",
       "      <td>0.0998</td>\n",
       "      <td>0.0299</td>\n",
       "      <td>-0.0668</td>\n",
       "      <td>-0.0549</td>\n",
       "      <td>-0.2439</td>\n",
       "      <td>-0.1483</td>\n",
       "      <td>-0.0611</td>\n",
       "    </tr>\n",
       "  </tbody>\n",
       "</table>\n",
       "<p>50 rows × 100 columns</p>\n",
       "</div>"
      ],
      "text/plain": [
       "              Explained Variance  ALTERSKATEGORIE_GROB  ANREDE_KZ  \\\n",
       "Dimension 1               0.1282               -0.1366     0.0119   \n",
       "Dimension 2               0.1037                0.2166     0.0662   \n",
       "Dimension 3               0.0670                0.0396    -0.3512   \n",
       "Dimension 4               0.0419               -0.0233     0.0601   \n",
       "Dimension 5               0.0294                0.0399    -0.0230   \n",
       "Dimension 6               0.0236                0.0592    -0.0214   \n",
       "Dimension 7               0.0216                0.0061    -0.0437   \n",
       "Dimension 8               0.0211                0.0208     0.0163   \n",
       "Dimension 9               0.0197               -0.1241     0.0478   \n",
       "Dimension 10              0.0188               -0.0436     0.0054   \n",
       "Dimension 11              0.0183                0.0246     0.0606   \n",
       "Dimension 12              0.0166                0.1009    -0.0791   \n",
       "Dimension 13              0.0155               -0.0588    -0.0020   \n",
       "Dimension 14              0.0149                0.0101    -0.0020   \n",
       "Dimension 15              0.0142               -0.0026     0.0197   \n",
       "Dimension 16              0.0140               -0.0404     0.0137   \n",
       "Dimension 17              0.0135                0.0119    -0.0145   \n",
       "Dimension 18              0.0131                0.1037    -0.0040   \n",
       "Dimension 19              0.0130                0.0151    -0.0275   \n",
       "Dimension 20              0.0128                0.0030    -0.0387   \n",
       "Dimension 21              0.0124               -0.0697     0.0338   \n",
       "Dimension 22              0.0122               -0.0303     0.0143   \n",
       "Dimension 23              0.0120                0.1299    -0.0445   \n",
       "Dimension 24              0.0115               -0.0245    -0.0292   \n",
       "Dimension 25              0.0113                0.0286    -0.0178   \n",
       "Dimension 26              0.0111               -0.0081    -0.0051   \n",
       "Dimension 27              0.0108               -0.0207    -0.0134   \n",
       "Dimension 28              0.0106                0.0036    -0.0134   \n",
       "Dimension 29              0.0105               -0.0085     0.0417   \n",
       "Dimension 30              0.0104               -0.0156    -0.0036   \n",
       "Dimension 31              0.0103                0.0659    -0.0062   \n",
       "Dimension 32              0.0101               -0.0470     0.0468   \n",
       "Dimension 33              0.0099               -0.0271     0.0088   \n",
       "Dimension 34              0.0097               -0.0085    -0.0324   \n",
       "Dimension 35              0.0094                0.0851     0.0483   \n",
       "Dimension 36              0.0093               -0.0771    -0.0234   \n",
       "Dimension 37              0.0090                0.0954    -0.0736   \n",
       "Dimension 38              0.0086                0.0381    -0.0120   \n",
       "Dimension 39              0.0085                0.0003     0.0360   \n",
       "Dimension 40              0.0082                0.0208    -0.0224   \n",
       "Dimension 41              0.0081                0.0205     0.0102   \n",
       "Dimension 42              0.0077                0.0406    -0.0179   \n",
       "Dimension 43              0.0075               -0.0226    -0.0038   \n",
       "Dimension 44              0.0074               -0.0288     0.0231   \n",
       "Dimension 45              0.0073               -0.0379     0.0226   \n",
       "Dimension 46              0.0068               -0.0125    -0.0009   \n",
       "Dimension 47              0.0066               -0.0150     0.0244   \n",
       "Dimension 48              0.0060               -0.1258     0.0197   \n",
       "Dimension 49              0.0058               -0.0002     0.0042   \n",
       "Dimension 50              0.0053                0.0537    -0.0378   \n",
       "\n",
       "              FINANZ_MINIMALIST  FINANZ_SPARER  FINANZ_VORSORGER  \\\n",
       "Dimension 1             -0.2220         0.1667           -0.1322   \n",
       "Dimension 2              0.0323        -0.1981            0.2015   \n",
       "Dimension 3              0.1290        -0.0750            0.0707   \n",
       "Dimension 4              0.0365        -0.0041           -0.0115   \n",
       "Dimension 5              0.0884        -0.0151           -0.0235   \n",
       "Dimension 6             -0.1115         0.0284            0.0903   \n",
       "Dimension 7              0.1639        -0.0641            0.0363   \n",
       "Dimension 8             -0.0160         0.0136           -0.0762   \n",
       "Dimension 9              0.0339        -0.1080            0.1309   \n",
       "Dimension 10             0.0351        -0.0060            0.0856   \n",
       "Dimension 11             0.0241        -0.0724            0.0519   \n",
       "Dimension 12            -0.0255         0.0550           -0.0381   \n",
       "Dimension 13            -0.0043        -0.0591            0.1369   \n",
       "Dimension 14             0.0250         0.0497           -0.0849   \n",
       "Dimension 15            -0.0038        -0.0416           -0.0346   \n",
       "Dimension 16             0.0394         0.0008           -0.0080   \n",
       "Dimension 17            -0.0239         0.0094            0.0588   \n",
       "Dimension 18             0.0179         0.0444           -0.0647   \n",
       "Dimension 19            -0.0568         0.0377            0.0124   \n",
       "Dimension 20            -0.0270         0.0235           -0.0599   \n",
       "Dimension 21             0.0030        -0.0418            0.0682   \n",
       "Dimension 22            -0.0436         0.0186            0.0455   \n",
       "Dimension 23            -0.0344         0.0279           -0.0191   \n",
       "Dimension 24             0.0292        -0.0062           -0.0307   \n",
       "Dimension 25            -0.0061         0.0378           -0.0473   \n",
       "Dimension 26             0.0338        -0.0463            0.0245   \n",
       "Dimension 27             0.0575        -0.0413           -0.0117   \n",
       "Dimension 28             0.0086        -0.0097           -0.0150   \n",
       "Dimension 29            -0.0189         0.0441            0.0175   \n",
       "Dimension 30             0.0299        -0.0640           -0.0115   \n",
       "Dimension 31             0.0091         0.0018            0.0164   \n",
       "Dimension 32             0.0213         0.0502           -0.0869   \n",
       "Dimension 33             0.0281        -0.0623            0.0835   \n",
       "Dimension 34            -0.0110         0.0568           -0.0707   \n",
       "Dimension 35            -0.0160         0.0443           -0.0719   \n",
       "Dimension 36            -0.0045         0.0170            0.0364   \n",
       "Dimension 37            -0.0307         0.0940           -0.0961   \n",
       "Dimension 38             0.0287        -0.0185            0.0572   \n",
       "Dimension 39             0.0109         0.0019            0.0234   \n",
       "Dimension 40            -0.0591         0.0730           -0.0411   \n",
       "Dimension 41             0.0645        -0.0308           -0.0376   \n",
       "Dimension 42            -0.0116         0.0728           -0.0192   \n",
       "Dimension 43             0.0151        -0.0336           -0.0510   \n",
       "Dimension 44             0.0120        -0.0111           -0.0235   \n",
       "Dimension 45             0.0639        -0.0445           -0.0084   \n",
       "Dimension 46             0.0097        -0.0214            0.0378   \n",
       "Dimension 47            -0.0836         0.0058           -0.0179   \n",
       "Dimension 48            -0.0332        -0.0446            0.1117   \n",
       "Dimension 49             0.0255         0.0426            0.0364   \n",
       "Dimension 50            -0.0801        -0.0348            0.0648   \n",
       "\n",
       "              FINANZ_ANLEGER  FINANZ_UNAUFFAELLIGER  FINANZ_HAUSBAUER  \\\n",
       "Dimension 1           0.0965                 0.0980            0.1425   \n",
       "Dimension 2          -0.1810                -0.2038            0.1325   \n",
       "Dimension 3          -0.1651                -0.0724           -0.0382   \n",
       "Dimension 4          -0.1036                 0.0683           -0.0656   \n",
       "Dimension 5           0.0557                -0.1142           -0.1034   \n",
       "Dimension 6           0.0316                 0.0334            0.1289   \n",
       "Dimension 7          -0.0908                -0.0453           -0.2659   \n",
       "Dimension 8           0.0243                 0.0018           -0.0169   \n",
       "Dimension 9          -0.0487                -0.2395            0.0843   \n",
       "Dimension 10         -0.0470                 0.0797           -0.0500   \n",
       "Dimension 11         -0.1063                 0.0908            0.0166   \n",
       "Dimension 12         -0.0208                 0.0893           -0.0583   \n",
       "Dimension 13         -0.0994                -0.0032            0.0050   \n",
       "Dimension 14          0.0375                 0.0851           -0.0655   \n",
       "Dimension 15         -0.0035                -0.0095            0.0914   \n",
       "Dimension 16          0.0175                -0.0406           -0.0057   \n",
       "Dimension 17          0.0660                -0.0085            0.0333   \n",
       "Dimension 18          0.0636                 0.0260           -0.1093   \n",
       "Dimension 19          0.0442                 0.0036            0.0512   \n",
       "Dimension 20          0.0157                 0.0600           -0.0161   \n",
       "Dimension 21         -0.0018                -0.0583           -0.0120   \n",
       "Dimension 22         -0.0071                -0.0184            0.0095   \n",
       "Dimension 23         -0.0311                -0.0366           -0.0009   \n",
       "Dimension 24         -0.0454                 0.0633           -0.0639   \n",
       "Dimension 25         -0.0021                 0.0106           -0.0073   \n",
       "Dimension 26         -0.0520                 0.0066            0.0141   \n",
       "Dimension 27         -0.0760                -0.0006           -0.0199   \n",
       "Dimension 28          0.0027                 0.0201           -0.0439   \n",
       "Dimension 29          0.0557                -0.0051           -0.0474   \n",
       "Dimension 30         -0.0851                 0.0010            0.0535   \n",
       "Dimension 31         -0.0045                 0.0011           -0.0299   \n",
       "Dimension 32          0.0328                 0.0595           -0.1102   \n",
       "Dimension 33         -0.0454                -0.0922            0.0084   \n",
       "Dimension 34          0.0476                 0.0487           -0.0057   \n",
       "Dimension 35          0.0602                 0.0743           -0.0386   \n",
       "Dimension 36          0.0301                 0.0103           -0.0504   \n",
       "Dimension 37          0.0891                 0.0785            0.0421   \n",
       "Dimension 38         -0.0149                -0.0353            0.0010   \n",
       "Dimension 39          0.0293                -0.0066            0.0234   \n",
       "Dimension 40          0.0422                 0.0594           -0.0128   \n",
       "Dimension 41         -0.0736                -0.0357           -0.0177   \n",
       "Dimension 42          0.0146                 0.0561           -0.1438   \n",
       "Dimension 43         -0.0597                -0.0395            0.0490   \n",
       "Dimension 44          0.0418                 0.0081            0.0320   \n",
       "Dimension 45         -0.0834                -0.0694            0.1018   \n",
       "Dimension 46          0.0090                -0.0011           -0.0228   \n",
       "Dimension 47          0.1058                 0.0250            0.1862   \n",
       "Dimension 48         -0.0027                -0.0082            0.0667   \n",
       "Dimension 49          0.0549                 0.0379           -0.0686   \n",
       "Dimension 50         -0.1233                -0.0340            0.0432   \n",
       "\n",
       "              GREEN_AVANTGARDE  ...  ZABEOTYP_1  ZABEOTYP_2  ZABEOTYP_3  \\\n",
       "Dimension 1            -0.1072  ...     -0.0921     -0.0452     -0.0514   \n",
       "Dimension 2            -0.0377  ...     -0.0922     -0.0456      0.2037   \n",
       "Dimension 3             0.0483  ...      0.1029     -0.0318     -0.0117   \n",
       "Dimension 4             0.3532  ...      0.1029      0.1102     -0.0745   \n",
       "Dimension 5            -0.0731  ...     -0.0133      0.0700     -0.0354   \n",
       "Dimension 6            -0.0725  ...      0.0059     -0.0629      0.0324   \n",
       "Dimension 7            -0.1056  ...     -0.0670      0.1021     -0.0370   \n",
       "Dimension 8            -0.0192  ...      0.0319      0.0981     -0.0330   \n",
       "Dimension 9            -0.0131  ...      0.0642     -0.0306     -0.0371   \n",
       "Dimension 10           -0.0013  ...      0.0282     -0.0736      0.0233   \n",
       "Dimension 11           -0.1216  ...      0.0217      0.0652      0.0120   \n",
       "Dimension 12           -0.0299  ...     -0.1091     -0.0925      0.0145   \n",
       "Dimension 13           -0.1102  ...      0.0227      0.0154     -0.0883   \n",
       "Dimension 14           -0.0133  ...      0.0564      0.0831      0.1000   \n",
       "Dimension 15           -0.0411  ...     -0.1326     -0.0048     -0.0281   \n",
       "Dimension 16           -0.1111  ...      0.0364     -0.0161      0.0125   \n",
       "Dimension 17            0.2050  ...     -0.0742      0.1601      0.0206   \n",
       "Dimension 18            0.0817  ...      0.0444     -0.1652     -0.0263   \n",
       "Dimension 19            0.0022  ...     -0.0265      0.1011     -0.0695   \n",
       "Dimension 20            0.0101  ...     -0.1661      0.2305      0.1099   \n",
       "Dimension 21            0.1139  ...     -0.0238     -0.0702     -0.1218   \n",
       "Dimension 22           -0.0647  ...     -0.0265      0.0549      0.0110   \n",
       "Dimension 23            0.0061  ...      0.0148     -0.1029     -0.0316   \n",
       "Dimension 24           -0.0184  ...     -0.1609      0.1242     -0.0428   \n",
       "Dimension 25           -0.0113  ...     -0.0672     -0.0030      0.1437   \n",
       "Dimension 26            0.0431  ...      0.0866     -0.1900      0.0626   \n",
       "Dimension 27           -0.0135  ...     -0.0256      0.0345     -0.1937   \n",
       "Dimension 28            0.0011  ...      0.2146     -0.2780     -0.1109   \n",
       "Dimension 29           -0.0018  ...      0.0996     -0.1397      0.0170   \n",
       "Dimension 30           -0.0324  ...      0.0694     -0.0538     -0.0270   \n",
       "Dimension 31           -0.0023  ...     -0.0151      0.0338     -0.1178   \n",
       "Dimension 32           -0.0100  ...     -0.0100      0.0112      0.1345   \n",
       "Dimension 33            0.0093  ...      0.0609      0.0137     -0.0225   \n",
       "Dimension 34            0.0438  ...     -0.1730      0.0750      0.0497   \n",
       "Dimension 35           -0.0054  ...      0.3404     -0.2538     -0.2685   \n",
       "Dimension 36           -0.0220  ...      0.3200     -0.2734      0.1721   \n",
       "Dimension 37           -0.0697  ...      0.0120      0.0624     -0.1963   \n",
       "Dimension 38           -0.0032  ...     -0.1107      0.2204     -0.1481   \n",
       "Dimension 39           -0.0153  ...      0.0185      0.0912      0.1699   \n",
       "Dimension 40            0.0144  ...      0.0864     -0.1219      0.0099   \n",
       "Dimension 41            0.0055  ...     -0.0356     -0.0776     -0.0392   \n",
       "Dimension 42            0.0137  ...     -0.2456     -0.0294      0.1300   \n",
       "Dimension 43            0.0418  ...     -0.3045     -0.4731      0.1160   \n",
       "Dimension 44            0.0090  ...     -0.1542     -0.1807      0.1497   \n",
       "Dimension 45            0.0114  ...      0.0131      0.0714     -0.0229   \n",
       "Dimension 46            0.0271  ...      0.0579     -0.0572     -0.0435   \n",
       "Dimension 47           -0.0824  ...      0.2409      0.1730      0.1013   \n",
       "Dimension 48            0.0129  ...     -0.0761     -0.0486      0.1524   \n",
       "Dimension 49            0.0740  ...     -0.0931     -0.1561      0.2554   \n",
       "Dimension 50           -0.2439  ...      0.0125     -0.0682     -0.0518   \n",
       "\n",
       "              ZABEOTYP_4  ZABEOTYP_5  ZABEOTYP_6  generation  movement  \\\n",
       "Dimension 1       0.0607      0.0991      0.0363      0.1231   -0.1072   \n",
       "Dimension 2      -0.0923     -0.0741      0.0278     -0.2219   -0.0377   \n",
       "Dimension 3      -0.0708     -0.0316      0.0537     -0.0750    0.0483   \n",
       "Dimension 4      -0.0168     -0.0251     -0.0303      0.0306    0.3532   \n",
       "Dimension 5       0.1208     -0.1056     -0.0469      0.0275   -0.0731   \n",
       "Dimension 6       0.1039     -0.0734     -0.1003     -0.0265   -0.0725   \n",
       "Dimension 7       0.0206     -0.1135      0.1646      0.0107   -0.1056   \n",
       "Dimension 8      -0.0641      0.0400      0.0026      0.0415   -0.0192   \n",
       "Dimension 9      -0.0926     -0.1072      0.2588     -0.1151   -0.0131   \n",
       "Dimension 10      0.0587     -0.0364     -0.0754     -0.0551   -0.0013   \n",
       "Dimension 11     -0.0683     -0.0258      0.0393     -0.0902   -0.1216   \n",
       "Dimension 12      0.1992     -0.1115     -0.0098      0.0679   -0.0299   \n",
       "Dimension 13      0.0513     -0.0739      0.1082     -0.0158   -0.1102   \n",
       "Dimension 14     -0.3095      0.2319     -0.0667      0.0461   -0.0133   \n",
       "Dimension 15      0.2466     -0.1150     -0.0391     -0.0404   -0.0411   \n",
       "Dimension 16      0.0618     -0.0069     -0.1440     -0.0245   -0.1111   \n",
       "Dimension 17      0.0197     -0.1127      0.0369     -0.0341    0.2050   \n",
       "Dimension 18      0.0372     -0.0520      0.1013      0.0403    0.0817   \n",
       "Dimension 19      0.0501     -0.0391      0.0440      0.0196    0.0022   \n",
       "Dimension 20     -0.1895      0.1464      0.0019      0.0349    0.0101   \n",
       "Dimension 21      0.1822     -0.1249      0.1357     -0.0021    0.1139   \n",
       "Dimension 22     -0.0256     -0.0402      0.0589     -0.0143   -0.0647   \n",
       "Dimension 23      0.0044      0.1511     -0.0608      0.0187    0.0061   \n",
       "Dimension 24      0.0226     -0.0047      0.1598      0.0272   -0.0184   \n",
       "Dimension 25     -0.0768      0.1295     -0.1730      0.0330   -0.0113   \n",
       "Dimension 26      0.0516      0.0360     -0.2000     -0.0151    0.0431   \n",
       "Dimension 27      0.0507      0.1184      0.1301      0.0115   -0.0135   \n",
       "Dimension 28     -0.0898      0.0461      0.1977      0.0299    0.0011   \n",
       "Dimension 29     -0.0877      0.0418      0.0333      0.0338   -0.0018   \n",
       "Dimension 30      0.0907     -0.0049     -0.1398     -0.0476   -0.0324   \n",
       "Dimension 31     -0.0891      0.1118      0.2123      0.0469   -0.0023   \n",
       "Dimension 32     -0.0740     -0.0068     -0.0998      0.0183   -0.0100   \n",
       "Dimension 33     -0.0977      0.1015     -0.0063     -0.0075    0.0093   \n",
       "Dimension 34      0.3856     -0.3220     -0.1690     -0.0363    0.0438   \n",
       "Dimension 35      0.1159     -0.1609      0.1884      0.0318   -0.0054   \n",
       "Dimension 36     -0.0801     -0.0312     -0.3480     -0.0102   -0.0220   \n",
       "Dimension 37      0.0336      0.0084      0.2102      0.0360   -0.0697   \n",
       "Dimension 38      0.0883      0.1585     -0.0690      0.0063   -0.0032   \n",
       "Dimension 39      0.0252     -0.2424     -0.1546     -0.0709   -0.0153   \n",
       "Dimension 40     -0.0288     -0.1011      0.1105      0.0295    0.0144   \n",
       "Dimension 41      0.1636      0.0324     -0.1211      0.0111    0.0055   \n",
       "Dimension 42     -0.0376     -0.0245      0.1982      0.0909    0.0137   \n",
       "Dimension 43      0.1031      0.2399      0.1098      0.0067    0.0418   \n",
       "Dimension 44     -0.1017      0.0705      0.1528     -0.0142    0.0090   \n",
       "Dimension 45     -0.0021      0.0387     -0.0660     -0.0312    0.0114   \n",
       "Dimension 46      0.0121      0.0656     -0.0487     -0.0171    0.0271   \n",
       "Dimension 47     -0.2324     -0.3489      0.1310      0.0149   -0.0824   \n",
       "Dimension 48     -0.0835     -0.1451      0.1574     -0.0225    0.0129   \n",
       "Dimension 49     -0.0487     -0.2873      0.1783     -0.0107    0.0740   \n",
       "Dimension 50      0.0998      0.0299     -0.0668     -0.0549   -0.2439   \n",
       "\n",
       "              wealth  life_stage  \n",
       "Dimension 1   0.1779     -0.1132  \n",
       "Dimension 2   0.0989     -0.0166  \n",
       "Dimension 3   0.0341     -0.0173  \n",
       "Dimension 4  -0.0751      0.0354  \n",
       "Dimension 5   0.0653     -0.0348  \n",
       "Dimension 6   0.0379     -0.0304  \n",
       "Dimension 7   0.0166     -0.0891  \n",
       "Dimension 8  -0.0504      0.0376  \n",
       "Dimension 9  -0.0107      0.0345  \n",
       "Dimension 10 -0.0581     -0.0060  \n",
       "Dimension 11  0.0215     -0.0252  \n",
       "Dimension 12 -0.0268     -0.0274  \n",
       "Dimension 13 -0.0357     -0.0182  \n",
       "Dimension 14  0.0571     -0.1201  \n",
       "Dimension 15 -0.0446      0.1195  \n",
       "Dimension 16 -0.0317      0.0514  \n",
       "Dimension 17  0.0639     -0.0376  \n",
       "Dimension 18  0.0868     -0.1326  \n",
       "Dimension 19 -0.0467      0.0577  \n",
       "Dimension 20 -0.0522      0.1176  \n",
       "Dimension 21  0.0424     -0.0702  \n",
       "Dimension 22 -0.0647      0.1512  \n",
       "Dimension 23 -0.0111      0.0256  \n",
       "Dimension 24  0.0447      0.0336  \n",
       "Dimension 25  0.0135     -0.0056  \n",
       "Dimension 26  0.0904     -0.0307  \n",
       "Dimension 27  0.1149     -0.1162  \n",
       "Dimension 28 -0.0626      0.1375  \n",
       "Dimension 29  0.0884     -0.1230  \n",
       "Dimension 30 -0.0789      0.1918  \n",
       "Dimension 31  0.1028     -0.1989  \n",
       "Dimension 32  0.0051      0.0160  \n",
       "Dimension 33 -0.0061      0.1003  \n",
       "Dimension 34  0.0141      0.0348  \n",
       "Dimension 35 -0.0230      0.1262  \n",
       "Dimension 36 -0.0250      0.0669  \n",
       "Dimension 37 -0.0931      0.1635  \n",
       "Dimension 38  0.0211     -0.1506  \n",
       "Dimension 39  0.0807     -0.1446  \n",
       "Dimension 40  0.1380     -0.5497  \n",
       "Dimension 41  0.0618     -0.2768  \n",
       "Dimension 42 -0.0940      0.2810  \n",
       "Dimension 43  0.0173      0.0767  \n",
       "Dimension 44 -0.0090     -0.0004  \n",
       "Dimension 45  0.1191     -0.0474  \n",
       "Dimension 46 -0.0997      0.1279  \n",
       "Dimension 47  0.0112      0.0280  \n",
       "Dimension 48  0.0171     -0.0513  \n",
       "Dimension 49 -0.0741     -0.0178  \n",
       "Dimension 50 -0.1483     -0.0611  \n",
       "\n",
       "[50 rows x 100 columns]"
      ]
     },
     "execution_count": 173,
     "metadata": {},
     "output_type": "execute_result"
    },
    {
     "data": {
      "image/png": "[encoded data removed]",
      "text/plain": [
       "<Figure size 1008x576 with 1 Axes>"
      ]
     },
     "metadata": {
      "needs_background": "light"
     },
     "output_type": "display_data"
    }
   ],
   "source": [
    "pca_results(azdias_scaled,pca_model)"
   ]
  },
  {
   "cell_type": "markdown",
   "metadata": {},
   "source": [
    "# The below cell takes considerable amount of time to run so you may skip running it and use the inference i.e. the number of components to be retained"
   ]
  },
  {
   "cell_type": "code",
   "execution_count": 176,
   "metadata": {},
   "outputs": [
    {
     "name": "stdout",
     "output_type": "stream",
     "text": [
      "0.6193000000000001\n",
      "0.6312\n",
      "0.6431000000000001\n",
      "0.6561000000000001\n",
      "0.6666\n",
      "0.6787\n",
      "0.6890000000000001\n",
      "0.7008\n",
      "0.7113999999999999\n",
      "0.7213999999999999\n",
      "0.7327\n",
      "0.7428\n",
      "0.7529\n",
      "0.7628\n",
      "0.7729\n",
      "0.7824000000000001\n",
      "0.7919\n",
      "0.8004\n",
      "Using 37 components, we can explain 80.04% of the variability in the original data.\n"
     ]
    }
   ],
   "source": [
    "# pca_results(azdias_scaled,pca_model)\n",
    "for comp in range(20, azdias_scaled.shape[1]):\n",
    "    pca_model_temp = PCA(comp)\n",
    "    azdias_pca_temp = pca_model_temp.fit_transform(azdias_scaled)\n",
    "    comp_check = pca_results_no_graph(azdias_scaled, pca_model_temp)\n",
    "    var_explained = comp_check['Explained Variance'].sum()\n",
    "    print(var_explained)\n",
    "    if var_explained > 0.80:\n",
    "        break\n",
    "        \n",
    "\n",
    "num_comps = comp_check.shape[0]\n",
    "print(\"Using {} components, we can explain {}% of the variability in the original data.\".format(comp_check.shape[0],var_explained*100))"
   ]
  },
  {
   "cell_type": "markdown",
   "metadata": {},
   "source": [
    "# This cell too wasn't re-run as it was related to previous cells"
   ]
  },
  {
   "cell_type": "code",
   "execution_count": 177,
   "metadata": {},
   "outputs": [
    {
     "data": {
      "image/png": "[encoded data removed]",
      "text/plain": [
       "<Figure size 720x432 with 1 Axes>"
      ]
     },
     "metadata": {
      "needs_background": "light"
     },
     "output_type": "display_data"
    }
   ],
   "source": [
    "#Function Taken form PCA lesson of Course\n",
    "def scree_plot(pca):\n",
    "    '''\n",
    "    Creates a scree plot associated with the principal components \n",
    "    \n",
    "    INPUT: pca - the result of instantian of PCA in scikit learn\n",
    "            \n",
    "    OUTPUT:\n",
    "            None\n",
    "    '''\n",
    "    num_components = len(pca.explained_variance_ratio_)\n",
    "    ind = np.arange(num_components)\n",
    "    vals = pca.explained_variance_ratio_\n",
    " \n",
    "    plt.figure(figsize=(10, 6))\n",
    "    ax = plt.subplot(111)\n",
    "    cumvals = np.cumsum(vals)\n",
    "    ax.bar(ind, vals)\n",
    "    ax.plot(ind, cumvals)\n",
    "    for i in range(num_components):\n",
    "        ax.annotate(r\"%s%%\" % ((str(vals[i]*100)[:4])), (ind[i]+0.2, vals[i]), va=\"bottom\", ha=\"center\", fontsize=12)\n",
    " \n",
    "    ax.xaxis.set_tick_params(width=0)\n",
    "    ax.yaxis.set_tick_params(width=2, length=12)\n",
    " \n",
    "    ax.set_xlabel(\"Principal Component\")\n",
    "    ax.set_ylabel(\"Variance Explained (%)\")\n",
    "    plt.title('Explained Variance Per Principal Component')\n",
    "    plt.tight_layout()\n",
    "\n",
    "scree_plot(pca_model)"
   ]
  },
  {
   "cell_type": "markdown",
   "metadata": {},
   "source": [
    "# This cell plots the scree plot of the final PCA model of 37 components but wasn't run due to previous cells not been re-run"
   ]
  },
  {
   "cell_type": "code",
   "execution_count": 178,
   "metadata": {},
   "outputs": [
    {
     "data": {
      "image/png": "[encoded data removed]",
      "text/plain": [
       "<Figure size 720x432 with 1 Axes>"
      ]
     },
     "metadata": {
      "needs_background": "light"
     },
     "output_type": "display_data"
    }
   ],
   "source": [
    "scree_plot(pca_model_temp)"
   ]
  },
  {
   "cell_type": "code",
   "execution_count": 127,
   "metadata": {},
   "outputs": [],
   "source": [
    "# Re-apply PCA to the data while selecting for number of components to retain.\n",
    "pca_final_model = PCA(37)\n",
    "azdias_PCA_final = pca_final_model.fit_transform(azdias_scaled)"
   ]
  },
  {
   "cell_type": "markdown",
   "metadata": {},
   "source": [
    "### Discussion 2.2: Perform Dimensionality Reduction\n",
    "* I chose 50 features in the intial PCA call and not all to avoid long running time<br>\n",
    "* From ananlysis of variance distribution among features the top 37 features(linear combinations of all original features) account for more than 80% of the variance.<br>\n",
    "* Number of features(37) was found by the variance explained by number of features ranging from 20 until I get 80% explained variance\n",
    "* Hence for the next step I retain 37 features"
   ]
  },
  {
   "cell_type": "code",
   "execution_count": 128,
   "metadata": {},
   "outputs": [
    {
     "data": {
      "text/plain": [
       "(798049, 37)"
      ]
     },
     "execution_count": 128,
     "metadata": {},
     "output_type": "execute_result"
    }
   ],
   "source": [
    "azdias_PCA_final.shape"
   ]
  },
  {
   "cell_type": "markdown",
   "metadata": {},
   "source": [
    "### Step 2.3: Interpret Principal Components\n",
    "\n",
    "Now that we have our transformed principal components, it's a nice idea to check out the weight of each variable on the first few components to see if they can be interpreted in some fashion.\n",
    "\n",
    "As a reminder, each principal component is a unit vector that points in the direction of highest variance (after accounting for the variance captured by earlier principal components). The further a weight is from zero, the more the principal component is in the direction of the corresponding feature. If two features have large weights of the same sign (both positive or both negative), then increases in one tend expect to be associated with increases in the other. To contrast, features with different signs can be expected to show a negative correlation: increases in one variable should result in a decrease in the other.\n",
    "\n",
    "- To investigate the features, you should map each weight to their corresponding feature name, then sort the features according to weight. The most interesting features for each principal component, then, will be those at the beginning and end of the sorted list. Use the data dictionary document to help you understand these most prominent features, their relationships, and what a positive or negative value on the principal component might indicate.\n",
    "- You should investigate and interpret feature associations from the first three principal components in this substep. To help facilitate this, you should write a function that you can call at any time to print the sorted list of feature weights, for the *i*-th principal component. This might come in handy in the next step of the project, when you interpret the tendencies of the discovered clusters."
   ]
  },
  {
   "cell_type": "code",
   "execution_count": 129,
   "metadata": {},
   "outputs": [
    {
     "data": {
      "text/plain": [
       "(37, 99)"
      ]
     },
     "execution_count": 129,
     "metadata": {},
     "output_type": "execute_result"
    }
   ],
   "source": [
    "pca_final_model.components_.shape"
   ]
  },
  {
   "cell_type": "code",
   "execution_count": 134,
   "metadata": {},
   "outputs": [],
   "source": [
    "# HINT: Try defining a function here or in a new cell that you can reuse in the\n",
    "# other cells.\n",
    "def map_wt(dataframe,pca_model_instance,component_num):\n",
    "    comps = pca_model_instance.components_\n",
    "    col_final_names = list(dataframe.columns)\n",
    "    wt_featName = []\n",
    "    num = pca_model_instance.components_.shape[1]\n",
    "    for i in range(num):\n",
    "        wt_featName.append([comps[component_num][i],col_final_names[i]])\n",
    "    wt_featName.sort(reverse = True)\n",
    "    return wt_featName"
   ]
  },
  {
   "cell_type": "code",
   "execution_count": 135,
   "metadata": {},
   "outputs": [
    {
     "data": {
      "text/plain": [
       "[[0.20358587370697512, 'LP_STATUS_GROB_1.0'],\n",
       " [0.18754771938338782, 'HH_EINKOMMEN_SCORE'],\n",
       " [0.18736275385473172, 'PLZ8_ANTG3'],\n",
       " [0.18132510036118446, 'PLZ8_ANTG4'],\n",
       " [0.17790219070342256, 'wealth'],\n",
       " [0.16672299347389666, 'FINANZ_SPARER'],\n",
       " [0.16191666617726133, 'ORTSGR_KLS9'],\n",
       " [0.16056752334510807, 'EWDICHTE'],\n",
       " [0.1481474504989392, 'FINANZTYP_1'],\n",
       " [0.14246057713873758, 'FINANZ_HAUSBAUER'],\n",
       " [0.1307100029753879, 'SEMIO_PFLICHT'],\n",
       " [0.13052343925375778, 'KBA05_ANTG4'],\n",
       " [0.12869946529082327, 'PLZ8_ANTG2'],\n",
       " [0.12603817006073748, 'SEMIO_REL'],\n",
       " [0.12312885365406288, 'generation'],\n",
       " [0.12189362707324344, 'KBA05_ANTG3'],\n",
       " [0.11651681140361103, 'ARBEIT'],\n",
       " [0.11561980789127822, 'ANZ_HAUSHALTE_AKTIV'],\n",
       " [0.11089305717454825, 'RELAT_AB'],\n",
       " [0.10979026456353588, 'SEMIO_RAT'],\n",
       " [0.10566074415242498, 'SEMIO_TRADV'],\n",
       " [0.0991063039937822, 'ZABEOTYP_5'],\n",
       " [0.09797830080233458, 'FINANZ_UNAUFFAELLIGER'],\n",
       " [0.09654098007029968, 'FINANZ_ANLEGER'],\n",
       " [0.08342530203311359, 'SEMIO_MAT'],\n",
       " [0.0791577724284412, 'SEMIO_FAM'],\n",
       " [0.07826919135379082, 'SEMIO_KULT'],\n",
       " [0.07556200405696226, 'LP_FAMILIE_GROB_1.0'],\n",
       " [0.06083888307810664, 'REGIOTYP'],\n",
       " [0.06075420609825893, 'NATIONALITAET_KZ_2.0'],\n",
       " [0.06068731920173561, 'ZABEOTYP_4'],\n",
       " [0.03821490122175276, 'NATIONALITAET_KZ_3.0'],\n",
       " [0.03794704523455226, 'KKK'],\n",
       " [0.03781832505202528, 'SHOPPER_TYP_2.0'],\n",
       " [0.036574439740032036, 'SEMIO_SOZ'],\n",
       " [0.03639351817727289, 'SEMIO_KAEM'],\n",
       " [0.03634884759847793, 'ZABEOTYP_6'],\n",
       " [0.03630532907418889, 'PLZ8_HHZ'],\n",
       " [0.03521446752184503, 'HEALTH_TYP'],\n",
       " [0.030324528652449147, 'CJT_GESAMTTYP_4.0'],\n",
       " [0.028845418754516735, 'VERS_TYP'],\n",
       " [0.02653771855204819, 'CJT_GESAMTTYP_3.0'],\n",
       " [0.026154537611413373, 'SEMIO_DOM'],\n",
       " [0.025518515326599895, 'ANZ_HH_TITEL'],\n",
       " [0.023992662241361783, 'CJT_GESAMTTYP_6.0'],\n",
       " [0.023679384315787696, 'FINANZTYP_4'],\n",
       " [0.020935024850085086, 'W_KEIT_KIND_HH'],\n",
       " [0.015022229171268464, 'CJT_GESAMTTYP_5.0'],\n",
       " [0.013857719595203032, 'LP_FAMILIE_GROB_3.0'],\n",
       " [0.013815597364878326, 'KBA05_ANTG2'],\n",
       " [0.01191580105371226, 'ANREDE_KZ'],\n",
       " [0.0049965782769563856, 'SEMIO_KRIT'],\n",
       " [0.0024808599777986357, 'SHOPPER_TYP_1.0'],\n",
       " [-0.002072996671354083, 'SOHO_KZ'],\n",
       " [-0.0060453501891924695, 'ANZ_TITEL'],\n",
       " [-0.011050339953509616, 'FINANZTYP_5'],\n",
       " [-0.012791255342374517, 'LP_STATUS_GROB_2.0'],\n",
       " [-0.013689788352941493, 'SHOPPER_TYP_0.0'],\n",
       " [-0.018395171778283852, 'LP_FAMILIE_GROB_4.0'],\n",
       " [-0.025067180883726756, 'ONLINE_AFFINITAET'],\n",
       " [-0.031037338274316723, 'LP_STATUS_GROB_3.0'],\n",
       " [-0.031569157908432614, 'CJT_GESAMTTYP_1.0'],\n",
       " [-0.03546911800366314, 'LP_FAMILIE_GROB_2.0'],\n",
       " [-0.0393600746833909, 'RETOURTYP_BK_S'],\n",
       " [-0.04082097189907587, 'OST_WEST_KZ'],\n",
       " [-0.041347374570943146, 'FINANZTYP_3'],\n",
       " [-0.04186513453902755, 'MIN_GEBAEUDEJAHR'],\n",
       " [-0.044865001245894674, 'SEMIO_VERT'],\n",
       " [-0.04516213586055433, 'ZABEOTYP_2'],\n",
       " [-0.04578565928869204, 'FINANZTYP_6'],\n",
       " [-0.04973478244015916, 'SHOPPER_TYP_3.0'],\n",
       " [-0.0514220921680793, 'ZABEOTYP_3'],\n",
       " [-0.05745396555721546, 'LP_FAMILIE_GROB_5.0'],\n",
       " [-0.06239578137836935, 'KBA13_ANZAHL_PKW'],\n",
       " [-0.0633924561866013, 'WOHNDAUER_2008'],\n",
       " [-0.06845384964877363, 'CJT_GESAMTTYP_2.0'],\n",
       " [-0.07285971966931425, 'ANZ_PERSONEN'],\n",
       " [-0.08431768750663132, 'SEMIO_ERL'],\n",
       " [-0.0857308311919041, 'SEMIO_LUST'],\n",
       " [-0.08599930390887657, 'NATIONALITAET_KZ_1.0'],\n",
       " [-0.092103548156786, 'ZABEOTYP_1'],\n",
       " [-0.09741202191447422, 'GEBAEUDETYP_RASTER'],\n",
       " [-0.1026380580206245, 'FINANZTYP_2'],\n",
       " [-0.10329208917800259, 'BALLRAUM'],\n",
       " [-0.10720904691401541, 'movement'],\n",
       " [-0.10720904691401542, 'GREEN_AVANTGARDE'],\n",
       " [-0.11320388099870143, 'life_stage'],\n",
       " [-0.11639645905136672, 'LP_STATUS_GROB_4.0'],\n",
       " [-0.11938854473978884, 'LP_STATUS_GROB_5.0'],\n",
       " [-0.13215263416542233, 'FINANZ_VORSORGER'],\n",
       " [-0.1345145636298736, 'INNENSTADT'],\n",
       " [-0.13659945414847563, 'ALTERSKATEGORIE_GROB'],\n",
       " [-0.13670369744285152, 'PLZ8_GBZ'],\n",
       " [-0.1395205013073014, 'KONSUMNAEHE'],\n",
       " [-0.18524304810972403, 'KBA05_GBZ'],\n",
       " [-0.18732498052561555, 'PLZ8_ANTG1'],\n",
       " [-0.19353011004410575, 'KBA05_ANTG1'],\n",
       " [-0.20922554181084665, 'MOBI_REGIO'],\n",
       " [-0.22196351205334314, 'FINANZ_MINIMALIST']]"
      ]
     },
     "execution_count": 135,
     "metadata": {},
     "output_type": "execute_result"
    }
   ],
   "source": [
    "# Map weights for the first principal component to corresponding feature names\n",
    "# and then print the linked values, sorted by weight.\n",
    "w1 = map_wt(azdias_scaled,pca_final_model,0)\n",
    "w1"
   ]
  },
  {
   "cell_type": "code",
   "execution_count": 136,
   "metadata": {},
   "outputs": [
    {
     "data": {
      "text/plain": [
       "[[0.21662538842333534, 'ALTERSKATEGORIE_GROB'],\n",
       " [0.20368492210816844, 'ZABEOTYP_3'],\n",
       " [0.20153988858768931, 'FINANZ_VORSORGER'],\n",
       " [0.18611368564888564, 'SEMIO_ERL'],\n",
       " [0.15421669784022776, 'SEMIO_LUST'],\n",
       " [0.15178999853213185, 'RETOURTYP_BK_S'],\n",
       " [0.13249648139737064, 'FINANZ_HAUSBAUER'],\n",
       " [0.12878600607725563, 'W_KEIT_KIND_HH'],\n",
       " [0.11126512882001316, 'PLZ8_ANTG3'],\n",
       " [0.10638685154936957, 'PLZ8_ANTG4'],\n",
       " [0.1034040416072101, 'EWDICHTE'],\n",
       " [0.10285295282285431, 'ORTSGR_KLS9'],\n",
       " [0.10062134422565011, 'CJT_GESAMTTYP_2.0'],\n",
       " [0.09892585506672628, 'wealth'],\n",
       " [0.09386868688483178, 'FINANZTYP_5'],\n",
       " [0.09325012645087404, 'SEMIO_KRIT'],\n",
       " [0.08936718460667234, 'SEMIO_KAEM'],\n",
       " [0.0867022709306628, 'HH_EINKOMMEN_SCORE'],\n",
       " [0.08599745815748244, 'KBA05_ANTG4'],\n",
       " [0.07969340760592507, 'ARBEIT'],\n",
       " [0.07646787236776931, 'PLZ8_ANTG2'],\n",
       " [0.07630137064920046, 'ANZ_HAUSHALTE_AKTIV'],\n",
       " [0.07507913772254385, 'FINANZTYP_2'],\n",
       " [0.07453118099541083, 'RELAT_AB'],\n",
       " [0.07131748659377307, 'LP_FAMILIE_GROB_1.0'],\n",
       " [0.07126290775382063, 'SHOPPER_TYP_3.0'],\n",
       " [0.07062504458561537, 'LP_STATUS_GROB_1.0'],\n",
       " [0.0670618976084537, 'CJT_GESAMTTYP_1.0'],\n",
       " [0.06615192772541079, 'ANREDE_KZ'],\n",
       " [0.06398128379846624, 'KBA05_ANTG3'],\n",
       " [0.061463576267980075, 'FINANZTYP_6'],\n",
       " [0.05241197547182637, 'SEMIO_DOM'],\n",
       " [0.048239910195155083, 'NATIONALITAET_KZ_1.0'],\n",
       " [0.04436320720695399, 'WOHNDAUER_2008'],\n",
       " [0.03232503350709326, 'FINANZ_MINIMALIST'],\n",
       " [0.0318456018598855, 'ANZ_HH_TITEL'],\n",
       " [0.029582683904605417, 'VERS_TYP'],\n",
       " [0.0278125418787421, 'ZABEOTYP_6'],\n",
       " [0.026364183193422798, 'REGIOTYP'],\n",
       " [0.02557765718079931, 'LP_FAMILIE_GROB_2.0'],\n",
       " [0.01799239034371474, 'SHOPPER_TYP_2.0'],\n",
       " [0.015445311281665156, 'PLZ8_HHZ'],\n",
       " [0.007545025072273722, 'KKK'],\n",
       " [0.004824299629950175, 'ANZ_TITEL'],\n",
       " [-0.0023757667238601923, 'SOHO_KZ'],\n",
       " [-0.003475638866076438, 'KBA05_ANTG2'],\n",
       " [-0.011070578072800853, 'LP_STATUS_GROB_3.0'],\n",
       " [-0.01661949102243633, 'life_stage'],\n",
       " [-0.017195304912949634, 'LP_STATUS_GROB_2.0'],\n",
       " [-0.023578896478195277, 'LP_STATUS_GROB_5.0'],\n",
       " [-0.03139965272747916, 'SHOPPER_TYP_1.0'],\n",
       " [-0.03200921284104781, 'CJT_GESAMTTYP_5.0'],\n",
       " [-0.03237927815029216, 'CJT_GESAMTTYP_3.0'],\n",
       " [-0.03383009103983264, 'OST_WEST_KZ'],\n",
       " [-0.034671912328751914, 'NATIONALITAET_KZ_2.0'],\n",
       " [-0.037673700515939844, 'movement'],\n",
       " [-0.037673700515939844, 'GREEN_AVANTGARDE'],\n",
       " [-0.0383024960492443, 'LP_FAMILIE_GROB_3.0'],\n",
       " [-0.03858889026632413, 'CJT_GESAMTTYP_6.0'],\n",
       " [-0.04083884444809697, 'NATIONALITAET_KZ_3.0'],\n",
       " [-0.042316771327888136, 'KBA13_ANZAHL_PKW'],\n",
       " [-0.04300724422220144, 'LP_STATUS_GROB_4.0'],\n",
       " [-0.04564266778154662, 'ZABEOTYP_2'],\n",
       " [-0.04754088982590582, 'HEALTH_TYP'],\n",
       " [-0.053135725566723135, 'MIN_GEBAEUDEJAHR'],\n",
       " [-0.05402098830773638, 'LP_FAMILIE_GROB_5.0'],\n",
       " [-0.05423087844939877, 'SEMIO_VERT'],\n",
       " [-0.05427748555249896, 'CJT_GESAMTTYP_4.0'],\n",
       " [-0.05502339260115784, 'GEBAEUDETYP_RASTER'],\n",
       " [-0.062280990699329804, 'SHOPPER_TYP_0.0'],\n",
       " [-0.06608404509806916, 'BALLRAUM'],\n",
       " [-0.06963785422469708, 'LP_FAMILIE_GROB_4.0'],\n",
       " [-0.07398922580854167, 'SEMIO_SOZ'],\n",
       " [-0.07411386249939227, 'ZABEOTYP_5'],\n",
       " [-0.07907430231702561, 'ANZ_PERSONEN'],\n",
       " [-0.08390948379965191, 'KONSUMNAEHE'],\n",
       " [-0.08395334713317952, 'INNENSTADT'],\n",
       " [-0.08511383718353202, 'PLZ8_GBZ'],\n",
       " [-0.09222247640253482, 'ZABEOTYP_1'],\n",
       " [-0.09223127439018677, 'FINANZTYP_3'],\n",
       " [-0.0922831264991982, 'ZABEOTYP_4'],\n",
       " [-0.09233342028167174, 'FINANZTYP_4'],\n",
       " [-0.09737310633095955, 'FINANZTYP_1'],\n",
       " [-0.10108035665474974, 'KBA05_ANTG1'],\n",
       " [-0.10854575470903811, 'KBA05_GBZ'],\n",
       " [-0.11042320354861104, 'PLZ8_ANTG1'],\n",
       " [-0.11487730843677149, 'MOBI_REGIO'],\n",
       " [-0.12720978559274465, 'SEMIO_MAT'],\n",
       " [-0.14087023265205095, 'SEMIO_FAM'],\n",
       " [-0.14535678795438756, 'SEMIO_RAT'],\n",
       " [-0.17300622921976552, 'ONLINE_AFFINITAET'],\n",
       " [-0.17342175039519264, 'SEMIO_KULT'],\n",
       " [-0.18101830005953934, 'FINANZ_ANLEGER'],\n",
       " [-0.18774213914663135, 'SEMIO_PFLICHT'],\n",
       " [-0.1980590904708617, 'FINANZ_SPARER'],\n",
       " [-0.19834096928581202, 'SEMIO_TRADV'],\n",
       " [-0.20381340702304448, 'FINANZ_UNAUFFAELLIGER'],\n",
       " [-0.20580401279720104, 'SEMIO_REL'],\n",
       " [-0.2219014404596451, 'generation']]"
      ]
     },
     "execution_count": 136,
     "metadata": {},
     "output_type": "execute_result"
    }
   ],
   "source": [
    "# Map weights for the second principal component to corresponding feature names\n",
    "# and then print the linked values, sorted by weight.\n",
    "w2 = map_wt(azdias_scaled,pca_final_model,1)\n",
    "w2"
   ]
  },
  {
   "cell_type": "code",
   "execution_count": 137,
   "metadata": {},
   "outputs": [
    {
     "data": {
      "text/plain": [
       "[[0.324124914009541, 'SEMIO_VERT'],\n",
       " [0.2572643873709446, 'SEMIO_SOZ'],\n",
       " [0.2561080335448145, 'SEMIO_FAM'],\n",
       " [0.2439958671228622, 'SEMIO_KULT'],\n",
       " [0.1421338419930555, 'FINANZTYP_5'],\n",
       " [0.12900155105128763, 'FINANZ_MINIMALIST'],\n",
       " [0.12422984422075593, 'SHOPPER_TYP_0.0'],\n",
       " [0.1029423877334224, 'ZABEOTYP_1'],\n",
       " [0.09718544721973056, 'SEMIO_REL'],\n",
       " [0.09114007866864757, 'RETOURTYP_BK_S'],\n",
       " [0.08508758301844326, 'W_KEIT_KIND_HH'],\n",
       " [0.07745577413634712, 'SEMIO_MAT'],\n",
       " [0.07074397389686216, 'FINANZ_VORSORGER'],\n",
       " [0.060707389065628774, 'ORTSGR_KLS9'],\n",
       " [0.06040683851815261, 'EWDICHTE'],\n",
       " [0.056677928096479216, 'PLZ8_ANTG3'],\n",
       " [0.05615091851702477, 'PLZ8_ANTG4'],\n",
       " [0.053742876769808864, 'ZABEOTYP_6'],\n",
       " [0.05276514051287778, 'SHOPPER_TYP_1.0'],\n",
       " [0.04826569737952693, 'movement'],\n",
       " [0.04826569737952692, 'GREEN_AVANTGARDE'],\n",
       " [0.04106749141941728, 'ARBEIT'],\n",
       " [0.0396573361434438, 'PLZ8_ANTG2'],\n",
       " [0.039634885947898796, 'ALTERSKATEGORIE_GROB'],\n",
       " [0.03893271558863154, 'RELAT_AB'],\n",
       " [0.03808836674981078, 'SEMIO_LUST'],\n",
       " [0.034092610799640606, 'wealth'],\n",
       " [0.03325373405815625, 'KBA05_ANTG4'],\n",
       " [0.03116302278455632, 'LP_STATUS_GROB_5.0'],\n",
       " [0.029676868423582123, 'ANZ_HAUSHALTE_AKTIV'],\n",
       " [0.027313628409777455, 'CJT_GESAMTTYP_1.0'],\n",
       " [0.025691007501759525, 'NATIONALITAET_KZ_2.0'],\n",
       " [0.02319183264744664, 'LP_FAMILIE_GROB_2.0'],\n",
       " [0.02207444382261927, 'WOHNDAUER_2008'],\n",
       " [0.020812555263166527, 'LP_STATUS_GROB_3.0'],\n",
       " [0.01869850724025147, 'LP_FAMILIE_GROB_1.0'],\n",
       " [0.01858666762221457, 'NATIONALITAET_KZ_1.0'],\n",
       " [0.015024329306362275, 'KBA05_ANTG3'],\n",
       " [0.014620811426133749, 'ANZ_HH_TITEL'],\n",
       " [0.01104892081121394, 'CJT_GESAMTTYP_4.0'],\n",
       " [0.009707861330307616, 'ANZ_TITEL'],\n",
       " [0.009247140023843475, 'PLZ8_HHZ'],\n",
       " [0.008499796942258922, 'FINANZTYP_6'],\n",
       " [0.005936746791483769, 'CJT_GESAMTTYP_3.0'],\n",
       " [0.005429125707182677, 'CJT_GESAMTTYP_5.0'],\n",
       " [0.003941953388979145, 'VERS_TYP'],\n",
       " [0.0038446480282914685, 'FINANZTYP_3'],\n",
       " [-0.00012493551086130477, 'FINANZTYP_4'],\n",
       " [-0.0005042801638185557, 'SOHO_KZ'],\n",
       " [-0.004538269848165459, 'LP_STATUS_GROB_4.0'],\n",
       " [-0.006613723938560065, 'LP_STATUS_GROB_1.0'],\n",
       " [-0.006982109845941929, 'KBA05_ANTG2'],\n",
       " [-0.007333962555597734, 'LP_FAMILIE_GROB_5.0'],\n",
       " [-0.010752545127585885, 'REGIOTYP'],\n",
       " [-0.010937512358400665, 'ANZ_PERSONEN'],\n",
       " [-0.011667856198094718, 'ZABEOTYP_3'],\n",
       " [-0.013066570927964892, 'OST_WEST_KZ'],\n",
       " [-0.013252825733189035, 'HH_EINKOMMEN_SCORE'],\n",
       " [-0.013943733217199527, 'HEALTH_TYP'],\n",
       " [-0.01519954640741479, 'CJT_GESAMTTYP_2.0'],\n",
       " [-0.01734408562194059, 'life_stage'],\n",
       " [-0.01882923640599663, 'MIN_GEBAEUDEJAHR'],\n",
       " [-0.018907273970516326, 'FINANZTYP_2'],\n",
       " [-0.02413198827388999, 'KKK'],\n",
       " [-0.024595785944537013, 'LP_FAMILIE_GROB_4.0'],\n",
       " [-0.025444108247851455, 'LP_STATUS_GROB_2.0'],\n",
       " [-0.025469384847027068, 'KBA13_ANZAHL_PKW'],\n",
       " [-0.031105733167629684, 'KBA05_ANTG1'],\n",
       " [-0.031581763897775776, 'ZABEOTYP_5'],\n",
       " [-0.031763811964514554, 'ZABEOTYP_2'],\n",
       " [-0.034179216703009996, 'KBA05_GBZ'],\n",
       " [-0.03462225950792397, 'NATIONALITAET_KZ_3.0'],\n",
       " [-0.03637476196480462, 'CJT_GESAMTTYP_6.0'],\n",
       " [-0.038238012634081435, 'FINANZ_HAUSBAUER'],\n",
       " [-0.03884572427636681, 'GEBAEUDETYP_RASTER'],\n",
       " [-0.03970991377291944, 'MOBI_REGIO'],\n",
       " [-0.04145385113383571, 'SEMIO_TRADV'],\n",
       " [-0.043944934796259966, 'ONLINE_AFFINITAET'],\n",
       " [-0.04413216332547332, 'PLZ8_GBZ'],\n",
       " [-0.044791051070498605, 'SEMIO_PFLICHT'],\n",
       " [-0.04563265030902544, 'BALLRAUM'],\n",
       " [-0.04906270561923536, 'KONSUMNAEHE'],\n",
       " [-0.05014474910991089, 'SHOPPER_TYP_3.0'],\n",
       " [-0.05093367915614343, 'LP_FAMILIE_GROB_3.0'],\n",
       " [-0.05467526659359276, 'INNENSTADT'],\n",
       " [-0.05672962375464162, 'PLZ8_ANTG1'],\n",
       " [-0.07083935948913267, 'ZABEOTYP_4'],\n",
       " [-0.07242279791096876, 'FINANZ_UNAUFFAELLIGER'],\n",
       " [-0.07497474181223403, 'generation'],\n",
       " [-0.07499262112687238, 'FINANZ_SPARER'],\n",
       " [-0.09516498471294817, 'SHOPPER_TYP_2.0'],\n",
       " [-0.10863634884547231, 'FINANZTYP_1'],\n",
       " [-0.1650627479666268, 'FINANZ_ANLEGER'],\n",
       " [-0.17723119423786898, 'SEMIO_RAT'],\n",
       " [-0.1951955350766166, 'SEMIO_ERL'],\n",
       " [-0.26820926359950437, 'SEMIO_KRIT'],\n",
       " [-0.29531168133183433, 'SEMIO_DOM'],\n",
       " [-0.3214079289726046, 'SEMIO_KAEM'],\n",
       " [-0.3512078639260688, 'ANREDE_KZ']]"
      ]
     },
     "execution_count": 137,
     "metadata": {},
     "output_type": "execute_result"
    }
   ],
   "source": [
    "# Map weights for the third principal component to corresponding feature names\n",
    "# and then print the linked values, sorted by weight.\n",
    "w3 = map_wt(azdias_scaled,pca_final_model,2)\n",
    "w3"
   ]
  },
  {
   "cell_type": "markdown",
   "metadata": {},
   "source": [
    "## Kindly note below few columns show working done for Discussion2.3"
   ]
  },
  {
   "cell_type": "code",
   "execution_count": 138,
   "metadata": {},
   "outputs": [
    {
     "data": {
      "text/html": [
       "<div>\n",
       "<style scoped>\n",
       "    .dataframe tbody tr th:only-of-type {\n",
       "        vertical-align: middle;\n",
       "    }\n",
       "\n",
       "    .dataframe tbody tr th {\n",
       "        vertical-align: top;\n",
       "    }\n",
       "\n",
       "    .dataframe thead th {\n",
       "        text-align: right;\n",
       "    }\n",
       "</style>\n",
       "<table border=\"1\" class=\"dataframe\">\n",
       "  <thead>\n",
       "    <tr style=\"text-align: right;\">\n",
       "      <th></th>\n",
       "      <th>LP_STATUS_GROB_1.0</th>\n",
       "      <th>LP_STATUS_GROB_2.0</th>\n",
       "      <th>LP_STATUS_GROB_3.0</th>\n",
       "      <th>LP_STATUS_GROB_4.0</th>\n",
       "      <th>LP_STATUS_GROB_5.0</th>\n",
       "    </tr>\n",
       "  </thead>\n",
       "  <tbody>\n",
       "    <tr>\n",
       "      <th>1</th>\n",
       "      <td>1</td>\n",
       "      <td>0</td>\n",
       "      <td>0</td>\n",
       "      <td>0</td>\n",
       "      <td>0</td>\n",
       "    </tr>\n",
       "    <tr>\n",
       "      <th>2</th>\n",
       "      <td>0</td>\n",
       "      <td>1</td>\n",
       "      <td>0</td>\n",
       "      <td>0</td>\n",
       "      <td>0</td>\n",
       "    </tr>\n",
       "    <tr>\n",
       "      <th>3</th>\n",
       "      <td>0</td>\n",
       "      <td>0</td>\n",
       "      <td>0</td>\n",
       "      <td>1</td>\n",
       "      <td>0</td>\n",
       "    </tr>\n",
       "    <tr>\n",
       "      <th>4</th>\n",
       "      <td>0</td>\n",
       "      <td>1</td>\n",
       "      <td>0</td>\n",
       "      <td>0</td>\n",
       "      <td>0</td>\n",
       "    </tr>\n",
       "    <tr>\n",
       "      <th>5</th>\n",
       "      <td>0</td>\n",
       "      <td>1</td>\n",
       "      <td>0</td>\n",
       "      <td>0</td>\n",
       "      <td>0</td>\n",
       "    </tr>\n",
       "    <tr>\n",
       "      <th>...</th>\n",
       "      <td>...</td>\n",
       "      <td>...</td>\n",
       "      <td>...</td>\n",
       "      <td>...</td>\n",
       "      <td>...</td>\n",
       "    </tr>\n",
       "    <tr>\n",
       "      <th>891216</th>\n",
       "      <td>1</td>\n",
       "      <td>0</td>\n",
       "      <td>0</td>\n",
       "      <td>0</td>\n",
       "      <td>0</td>\n",
       "    </tr>\n",
       "    <tr>\n",
       "      <th>891217</th>\n",
       "      <td>1</td>\n",
       "      <td>0</td>\n",
       "      <td>0</td>\n",
       "      <td>0</td>\n",
       "      <td>0</td>\n",
       "    </tr>\n",
       "    <tr>\n",
       "      <th>891218</th>\n",
       "      <td>0</td>\n",
       "      <td>1</td>\n",
       "      <td>0</td>\n",
       "      <td>0</td>\n",
       "      <td>0</td>\n",
       "    </tr>\n",
       "    <tr>\n",
       "      <th>891219</th>\n",
       "      <td>1</td>\n",
       "      <td>0</td>\n",
       "      <td>0</td>\n",
       "      <td>0</td>\n",
       "      <td>0</td>\n",
       "    </tr>\n",
       "    <tr>\n",
       "      <th>891220</th>\n",
       "      <td>1</td>\n",
       "      <td>0</td>\n",
       "      <td>0</td>\n",
       "      <td>0</td>\n",
       "      <td>0</td>\n",
       "    </tr>\n",
       "  </tbody>\n",
       "</table>\n",
       "<p>798049 rows × 5 columns</p>\n",
       "</div>"
      ],
      "text/plain": [
       "        LP_STATUS_GROB_1.0  LP_STATUS_GROB_2.0  LP_STATUS_GROB_3.0  \\\n",
       "1                        1                   0                   0   \n",
       "2                        0                   1                   0   \n",
       "3                        0                   0                   0   \n",
       "4                        0                   1                   0   \n",
       "5                        0                   1                   0   \n",
       "...                    ...                 ...                 ...   \n",
       "891216                   1                   0                   0   \n",
       "891217                   1                   0                   0   \n",
       "891218                   0                   1                   0   \n",
       "891219                   1                   0                   0   \n",
       "891220                   1                   0                   0   \n",
       "\n",
       "        LP_STATUS_GROB_4.0  LP_STATUS_GROB_5.0  \n",
       "1                        0                   0  \n",
       "2                        0                   0  \n",
       "3                        1                   0  \n",
       "4                        0                   0  \n",
       "5                        0                   0  \n",
       "...                    ...                 ...  \n",
       "891216                   0                   0  \n",
       "891217                   0                   0  \n",
       "891218                   0                   0  \n",
       "891219                   0                   0  \n",
       "891220                   0                   0  \n",
       "\n",
       "[798049 rows x 5 columns]"
      ]
     },
     "execution_count": 138,
     "metadata": {},
     "output_type": "execute_result"
    }
   ],
   "source": [
    "azdias_encoded[['LP_STATUS_GROB_1.0','LP_STATUS_GROB_2.0','LP_STATUS_GROB_3.0','LP_STATUS_GROB_4.0','LP_STATUS_GROB_5.0']]"
   ]
  },
  {
   "cell_type": "code",
   "execution_count": 139,
   "metadata": {},
   "outputs": [
    {
     "data": {
      "text/plain": [
       "4.0"
      ]
     },
     "execution_count": 139,
     "metadata": {},
     "output_type": "execute_result"
    }
   ],
   "source": [
    "azdias.loc[3,'LP_STATUS_GROB']"
   ]
  },
  {
   "cell_type": "code",
   "execution_count": 140,
   "metadata": {},
   "outputs": [
    {
     "data": {
      "text/html": [
       "<div>\n",
       "<style scoped>\n",
       "    .dataframe tbody tr th:only-of-type {\n",
       "        vertical-align: middle;\n",
       "    }\n",
       "\n",
       "    .dataframe tbody tr th {\n",
       "        vertical-align: top;\n",
       "    }\n",
       "\n",
       "    .dataframe thead th {\n",
       "        text-align: right;\n",
       "    }\n",
       "</style>\n",
       "<table border=\"1\" class=\"dataframe\">\n",
       "  <thead>\n",
       "    <tr style=\"text-align: right;\">\n",
       "      <th></th>\n",
       "      <th>attribute</th>\n",
       "      <th>information_level</th>\n",
       "      <th>type</th>\n",
       "      <th>missing_or_unknown</th>\n",
       "    </tr>\n",
       "  </thead>\n",
       "  <tbody>\n",
       "    <tr>\n",
       "      <th>71</th>\n",
       "      <td>MOBI_REGIO</td>\n",
       "      <td>region_rr1</td>\n",
       "      <td>ordinal</td>\n",
       "      <td>[]</td>\n",
       "    </tr>\n",
       "  </tbody>\n",
       "</table>\n",
       "</div>"
      ],
      "text/plain": [
       "     attribute information_level     type missing_or_unknown\n",
       "71  MOBI_REGIO        region_rr1  ordinal                 []"
      ]
     },
     "execution_count": 140,
     "metadata": {},
     "output_type": "execute_result"
    }
   ],
   "source": [
    "feat_info[feat_info['attribute'] == 'MOBI_REGIO']"
   ]
  },
  {
   "cell_type": "code",
   "execution_count": 141,
   "metadata": {},
   "outputs": [
    {
     "data": {
      "text/html": [
       "<div>\n",
       "<style scoped>\n",
       "    .dataframe tbody tr th:only-of-type {\n",
       "        vertical-align: middle;\n",
       "    }\n",
       "\n",
       "    .dataframe tbody tr th {\n",
       "        vertical-align: top;\n",
       "    }\n",
       "\n",
       "    .dataframe thead th {\n",
       "        text-align: right;\n",
       "    }\n",
       "</style>\n",
       "<table border=\"1\" class=\"dataframe\">\n",
       "  <thead>\n",
       "    <tr style=\"text-align: right;\">\n",
       "      <th></th>\n",
       "      <th>attribute</th>\n",
       "      <th>information_level</th>\n",
       "      <th>type</th>\n",
       "      <th>missing_or_unknown</th>\n",
       "    </tr>\n",
       "  </thead>\n",
       "  <tbody>\n",
       "    <tr>\n",
       "      <th>1</th>\n",
       "      <td>ALTERSKATEGORIE_GROB</td>\n",
       "      <td>person</td>\n",
       "      <td>ordinal</td>\n",
       "      <td>[-1, 0, 9]</td>\n",
       "    </tr>\n",
       "  </tbody>\n",
       "</table>\n",
       "</div>"
      ],
      "text/plain": [
       "              attribute information_level     type missing_or_unknown\n",
       "1  ALTERSKATEGORIE_GROB            person  ordinal         [-1, 0, 9]"
      ]
     },
     "execution_count": 141,
     "metadata": {},
     "output_type": "execute_result"
    }
   ],
   "source": [
    "feat_info[feat_info['attribute'] == 'ALTERSKATEGORIE_GROB']"
   ]
  },
  {
   "cell_type": "code",
   "execution_count": 142,
   "metadata": {},
   "outputs": [
    {
     "data": {
      "text/html": [
       "<div>\n",
       "<style scoped>\n",
       "    .dataframe tbody tr th:only-of-type {\n",
       "        vertical-align: middle;\n",
       "    }\n",
       "\n",
       "    .dataframe tbody tr th {\n",
       "        vertical-align: top;\n",
       "    }\n",
       "\n",
       "    .dataframe thead th {\n",
       "        text-align: right;\n",
       "    }\n",
       "</style>\n",
       "<table border=\"1\" class=\"dataframe\">\n",
       "  <thead>\n",
       "    <tr style=\"text-align: right;\">\n",
       "      <th></th>\n",
       "      <th>attribute</th>\n",
       "      <th>information_level</th>\n",
       "      <th>type</th>\n",
       "      <th>missing_or_unknown</th>\n",
       "    </tr>\n",
       "  </thead>\n",
       "  <tbody>\n",
       "    <tr>\n",
       "      <th>26</th>\n",
       "      <td>SEMIO_REL</td>\n",
       "      <td>person</td>\n",
       "      <td>ordinal</td>\n",
       "      <td>[-1, 9]</td>\n",
       "    </tr>\n",
       "  </tbody>\n",
       "</table>\n",
       "</div>"
      ],
      "text/plain": [
       "    attribute information_level     type missing_or_unknown\n",
       "26  SEMIO_REL            person  ordinal            [-1, 9]"
      ]
     },
     "execution_count": 142,
     "metadata": {},
     "output_type": "execute_result"
    }
   ],
   "source": [
    "feat_info[feat_info['attribute'] == 'SEMIO_REL']"
   ]
  },
  {
   "cell_type": "code",
   "execution_count": 143,
   "metadata": {},
   "outputs": [
    {
     "data": {
      "text/html": [
       "<div>\n",
       "<style scoped>\n",
       "    .dataframe tbody tr th:only-of-type {\n",
       "        vertical-align: middle;\n",
       "    }\n",
       "\n",
       "    .dataframe tbody tr th {\n",
       "        vertical-align: top;\n",
       "    }\n",
       "\n",
       "    .dataframe thead th {\n",
       "        text-align: right;\n",
       "    }\n",
       "</style>\n",
       "<table border=\"1\" class=\"dataframe\">\n",
       "  <thead>\n",
       "    <tr style=\"text-align: right;\">\n",
       "      <th></th>\n",
       "      <th>attribute</th>\n",
       "      <th>information_level</th>\n",
       "      <th>type</th>\n",
       "      <th>missing_or_unknown</th>\n",
       "    </tr>\n",
       "  </thead>\n",
       "  <tbody>\n",
       "    <tr>\n",
       "      <th>2</th>\n",
       "      <td>ANREDE_KZ</td>\n",
       "      <td>person</td>\n",
       "      <td>categorical</td>\n",
       "      <td>[-1, 0]</td>\n",
       "    </tr>\n",
       "  </tbody>\n",
       "</table>\n",
       "</div>"
      ],
      "text/plain": [
       "   attribute information_level         type missing_or_unknown\n",
       "2  ANREDE_KZ            person  categorical            [-1, 0]"
      ]
     },
     "execution_count": 143,
     "metadata": {},
     "output_type": "execute_result"
    }
   ],
   "source": [
    "feat_info[feat_info['attribute'] == 'ANREDE_KZ']"
   ]
  },
  {
   "cell_type": "code",
   "execution_count": 144,
   "metadata": {},
   "outputs": [
    {
     "data": {
      "text/html": [
       "<div>\n",
       "<style scoped>\n",
       "    .dataframe tbody tr th:only-of-type {\n",
       "        vertical-align: middle;\n",
       "    }\n",
       "\n",
       "    .dataframe tbody tr th {\n",
       "        vertical-align: top;\n",
       "    }\n",
       "\n",
       "    .dataframe thead th {\n",
       "        text-align: right;\n",
       "    }\n",
       "</style>\n",
       "<table border=\"1\" class=\"dataframe\">\n",
       "  <thead>\n",
       "    <tr style=\"text-align: right;\">\n",
       "      <th></th>\n",
       "      <th>attribute</th>\n",
       "      <th>information_level</th>\n",
       "      <th>type</th>\n",
       "      <th>missing_or_unknown</th>\n",
       "    </tr>\n",
       "  </thead>\n",
       "  <tbody>\n",
       "    <tr>\n",
       "      <th>35</th>\n",
       "      <td>SEMIO_KAEM</td>\n",
       "      <td>person</td>\n",
       "      <td>ordinal</td>\n",
       "      <td>[-1, 9]</td>\n",
       "    </tr>\n",
       "  </tbody>\n",
       "</table>\n",
       "</div>"
      ],
      "text/plain": [
       "     attribute information_level     type missing_or_unknown\n",
       "35  SEMIO_KAEM            person  ordinal            [-1, 9]"
      ]
     },
     "execution_count": 144,
     "metadata": {},
     "output_type": "execute_result"
    }
   ],
   "source": [
    "feat_info[feat_info['attribute'] == 'SEMIO_KAEM']"
   ]
  },
  {
   "cell_type": "markdown",
   "metadata": {},
   "source": [
    "### Discussion 2.3: Interpret Principal Components\n",
    "#### For 1st Principal Component :\n",
    "##### The top 2 features with most positive weight are :\n",
    "* **LP_STATUS_GROB_1.0 with weight 0.20358585288416306**, the feature stands for low income earners, which having a large positive weight indicates(intuitively) their segregation from other rows of dataset as less income implies lesser quality of life.\n",
    "* **HH_EINKOMMEN_SCORE with weight 0.18754773817666665**, the feature stands for household net income, and goes hand in hand with income of an individual hence it's positive weight(same sign as that of above feature) is justified.\n",
    "\n",
    "##### The top 2 features with most negative weight are:\n",
    "* **FINANZ_MINIMALIST with weight -0.22196350736007098**,the ordinal feature represents low financial interests with higher number representing even lesser interest hence negative weight is justified in opposition to positive weight for low income earners as low income people won't invest much in stocks.\n",
    "* **MOBI_REGIO        with weight -0.20922553720355933**, the ordinal feature represents movement patterns, the high negative weight is justified as poor people travel less(so same negative sign with above feature)\n",
    "\n",
    "\n",
    "#### For 2nd Principal Component :\n",
    "##### The top 2 features with most positive weight are :\n",
    "* **ALTERSKATEGORIE_GROB with weight 0.21662533713971197** , the ordinal feature represents age, higher the feature value higher the age.\n",
    "* **ZABEOTYP_3 with weight 0.20368505370760134**, the feature represents fair supplied energy consumption typology, it having same sign as above feature makes sense as age increases people have metered electricity connections registered by their names at their homes(that's what I understood)\n",
    "\n",
    "##### The top 2 features with most negative weight are:\n",
    "* **generation with weight -0.22190150461809624**, the feature represents the decade of person's youth, it's negative sign is justified being opposite to the first positive sign above as higher the decade in which person was young lesser is his/her age\n",
    "* **SEMIO_REL        with weight -0.205804067801318**, the ordinal feature represents religious affinity, larger value implies lesser affinity, it's negative sign indicates people with higher age have lesser religious affinity in Germany\n",
    "\n",
    "\n",
    "#### For 3rd Principal Component :\n",
    "##### The top 2 features with most positive weight are :\n",
    "* **SEMIO_VERT with weight 0.3241254357154538**, the ordinal feature represents dreamfulness,higher value indicate lesser dreamfulness\n",
    "* **SEMIO_SOZ with weight 0.2572629881495485**, the ordinal feature represents socially mindedness, higher value indicate lesser socially minded which makes sense as most people who are dreamful(have aims and aspirations in life) are quite socially minded and want to do something good for better of society.\n",
    "\n",
    "##### The top 2 features with most negative weight are:\n",
    "* **ANREDE_KZ with weight -0.3512078046537314**, the binary categorical feature tells gender, it's opposite sign with above features is difficult to interpret\n",
    "* **SEMIO_KAEM        with weight -0.32140803945712537**, the ordinal feature tells about combative attitude, higher value lesser combative attitude and it makes sense as higher value of ANREDE_KZ means female(=1 and male = 0)  and females are in general less aggressive"
   ]
  },
  {
   "cell_type": "markdown",
   "metadata": {},
   "source": [
    "## Step 3: Clustering\n",
    "\n",
    "### Step 3.1: Apply Clustering to General Population\n",
    "\n",
    "You've assessed and cleaned the demographics data, then scaled and transformed them. Now, it's time to see how the data clusters in the principal components space. In this substep, you will apply k-means clustering to the dataset and use the average within-cluster distances from each point to their assigned cluster's centroid to decide on a number of clusters to keep.\n",
    "\n",
    "- Use sklearn's [KMeans](http://scikit-learn.org/stable/modules/generated/sklearn.cluster.KMeans.html#sklearn.cluster.KMeans) class to perform k-means clustering on the PCA-transformed data.\n",
    "- Then, compute the average difference from each point to its assigned cluster's center. **Hint**: The KMeans object's `.score()` method might be useful here, but note that in sklearn, scores tend to be defined so that larger is better. Try applying it to a small, toy dataset, or use an internet search to help your understanding.\n",
    "- Perform the above two steps for a number of different cluster counts. You can then see how the average distance decreases with an increasing number of clusters. However, each additional cluster provides a smaller net benefit. Use this fact to select a final number of clusters in which to group the data. **Warning**: because of the large size of the dataset, it can take a long time for the algorithm to resolve. The more clusters to fit, the longer the algorithm will take. You should test for cluster counts through at least 10 clusters to get the full picture, but you shouldn't need to test for a number of clusters above about 30.\n",
    "- Once you've selected a final number of clusters to use, re-fit a KMeans instance to perform the clustering operation. Make sure that you also obtain the cluster assignments for the general demographics data, since you'll be using them in the final Step 3.3."
   ]
  },
  {
   "cell_type": "code",
   "execution_count": 155,
   "metadata": {},
   "outputs": [],
   "source": [
    "from sklearn.cluster import KMeans"
   ]
  },
  {
   "cell_type": "markdown",
   "metadata": {},
   "source": [
    "# CAUTION Re-Running below cell would take about 40 minutes, You may skip and use the inferred result i.e. numer of clusters"
   ]
  },
  {
   "cell_type": "code",
   "execution_count": 156,
   "metadata": {},
   "outputs": [
    {
     "name": "stdout",
     "output_type": "stream",
     "text": [
      "done for 2 clusters\n",
      "done for 3 clusters\n",
      "done for 4 clusters\n",
      "done for 5 clusters\n",
      "done for 6 clusters\n",
      "done for 7 clusters\n",
      "done for 8 clusters\n",
      "done for 9 clusters\n",
      "done for 10 clusters\n",
      "done for 11 clusters\n",
      "done for 12 clusters\n",
      "done for 13 clusters\n",
      "done for 14 clusters\n",
      "done for 15 clusters\n",
      "done for 16 clusters\n",
      "done for 17 clusters\n",
      "done for 18 clusters\n",
      "done for 19 clusters\n",
      "done for 20 clusters\n"
     ]
    },
    {
     "data": {
      "text/plain": [
       "Text(0.5, 1.0, 'scree plot')"
      ]
     },
     "execution_count": 156,
     "metadata": {},
     "output_type": "execute_result"
    },
    {
     "data": {
      "image/png": "[encoded data removed]",
      "text/plain": [
       "<Figure size 432x288 with 1 Axes>"
      ]
     },
     "metadata": {
      "needs_background": "light"
     },
     "output_type": "display_data"
    }
   ],
   "source": [
    "# Over a number of different cluster counts...\n",
    "# run k-means clustering on the data and...    \n",
    "# compute the average within-cluster distances.\n",
    "scoresy = []\n",
    "ksx = []\n",
    "for i in range(1,20):\n",
    "    local_mean = KMeans(i+1,random_state=10)\n",
    "    local_model = local_mean.fit(azdias_PCA_final)\n",
    "    local_labels = local_model.predict(azdias_PCA_final)\n",
    "    scoresy.append(abs(KMeans.score(local_model,azdias_PCA_final)))\n",
    "    ksx.append(i+1)\n",
    "    print('done for {} clusters'.format(i+1))\n",
    "plt.plot(ksx,scoresy,linestyle = ':',marker = '^',color = 'g')\n",
    "plt.xlabel('number of clusters')\n",
    "plt.ylabel('score')\n",
    "plt.title('scree plot')"
   ]
  },
  {
   "cell_type": "code",
   "execution_count": 157,
   "metadata": {},
   "outputs": [],
   "source": [
    "%matplotlib inline"
   ]
  },
  {
   "cell_type": "code",
   "execution_count": 158,
   "metadata": {},
   "outputs": [
    {
     "data": {
      "text/plain": [
       "<module 'matplotlib.pyplot' from 'C:\\\\anaconda\\\\lib\\\\site-packages\\\\matplotlib\\\\pyplot.py'>"
      ]
     },
     "metadata": {},
     "output_type": "display_data"
    },
    {
     "data": {
      "image/png": "[encoded data removed]",
      "text/plain": [
       "<Figure size 432x288 with 1 Axes>"
      ]
     },
     "metadata": {
      "needs_background": "light"
     },
     "output_type": "display_data"
    }
   ],
   "source": [
    "plt.plot(ksx,scoresy,linestyle = ':',marker = 'x',color = 'b')\n",
    "plt.xlabel('number of clusters')\n",
    "plt.ylabel('score')\n",
    "plt.title('scree plot')\n",
    "display(plt)"
   ]
  },
  {
   "cell_type": "markdown",
   "metadata": {},
   "source": [
    "#### Investigate the change in within-cluster distance across number of clusters.\n",
    "#### HINT: Use matplotlib's plot function to visualize this relationship.\n",
    "**On observing the above scree plot by elbow method I claim 9 is the optimal number of clusters**"
   ]
  },
  {
   "cell_type": "code",
   "execution_count": 159,
   "metadata": {},
   "outputs": [],
   "source": [
    "# Re-fit the k-means model with the selected number of clusters and obtain\n",
    "# cluster predictions for the general population demographics data.\n",
    "model_initialize = KMeans(9,random_state=10)\n",
    "model_train = model_initialize.fit(azdias_PCA_final)\n",
    "final_labels = model_train.predict(azdias_PCA_final)"
   ]
  },
  {
   "cell_type": "code",
   "execution_count": 163,
   "metadata": {},
   "outputs": [],
   "source": [
    "count_class_freq = []\n",
    "for i in range(9):\n",
    "    count_class_freq.append(np.sum(final_labels == i))"
   ]
  },
  {
   "cell_type": "code",
   "execution_count": 164,
   "metadata": {},
   "outputs": [
    {
     "data": {
      "text/plain": [
       "[106343, 89702, 84928, 97506, 98906, 86445, 97995, 70569, 65655]"
      ]
     },
     "execution_count": 164,
     "metadata": {},
     "output_type": "execute_result"
    }
   ],
   "source": [
    "count_class_freq"
   ]
  },
  {
   "cell_type": "markdown",
   "metadata": {},
   "source": [
    "### Discussion 3.1: Apply Clustering to General Population\n",
    "- From the scree plot drawn over clusters from k = 1 to k = 20, I observe significant drops in score(average distances) upto k = 9(or k = 8 or k = 10,it's not too clear or sharp), so I select k = 9 with random state 10 as the optimum number of clusters\n",
    "- The number of entries in each cluster is (106343, 89702, 84928, 97506, 98906, 86445, 97995, 70569, 65655) in order from cluster number 0 to cluster number 8"
   ]
  },
  {
   "cell_type": "markdown",
   "metadata": {},
   "source": [
    "### Step 3.2: Apply All Steps to the Customer Data\n",
    "\n",
    "Now that you have clusters and cluster centers for the general population, it's time to see how the customer data maps on to those clusters. Take care to not confuse this for re-fitting all of the models to the customer data. Instead, you're going to use the fits from the general population to clean, transform, and cluster the customer data. In the last step of the project, you will interpret how the general population fits apply to the customer data.\n",
    "\n",
    "- Don't forget when loading in the customers data, that it is semicolon (`;`) delimited.\n",
    "- Apply the same feature wrangling, selection, and engineering steps to the customer demographics using the `clean_data()` function you created earlier. (You can assume that the customer demographics data has similar meaning behind missing data patterns as the general demographics data.)\n",
    "- Use the sklearn objects from the general demographics data, and apply their transformations to the customers data. That is, you should not be using a `.fit()` or `.fit_transform()` method to re-fit the old objects, nor should you be creating new sklearn objects! Carry the data through the feature scaling, PCA, and clustering steps, obtaining cluster assignments for all of the data in the customer demographics data."
   ]
  },
  {
   "cell_type": "code",
   "execution_count": 165,
   "metadata": {},
   "outputs": [],
   "source": [
    "# Load in the customer demographics data.\n",
    "customers = pd.read_csv('Udacity_CUSTOMERS_Subset.csv',delimiter=';')"
   ]
  },
  {
   "cell_type": "code",
   "execution_count": 166,
   "metadata": {},
   "outputs": [],
   "source": [
    "# Apply preprocessing, feature transformation, and clustering from the general\n",
    "# demographics onto the customer data, obtaining cluster predictions for the\n",
    "# customer demographics data.\n",
    "customers_clean = clean_data(customers)\n"
   ]
  },
  {
   "cell_type": "code",
   "execution_count": 167,
   "metadata": {},
   "outputs": [],
   "source": [
    "imputer = SimpleImputer(missing_values=np.nan,strategy='median')\n",
    "customers_imputed = pd.DataFrame(imputer.fit_transform(customers_clean))\n",
    "customers_imputed.index = customers_clean.index\n",
    "customers_imputed.columns = customers_clean.columns"
   ]
  },
  {
   "cell_type": "code",
   "execution_count": 169,
   "metadata": {},
   "outputs": [],
   "source": [
    "scaler_customers = StandardScaler().fit(customers_imputed)\n",
    "customers_scaled = scaler_customers.transform(customers_imputed)\n",
    "customers_scaled = pd.DataFrame(customers_scaled)\n",
    "customers_scaled.columns = customers_imputed.columns\n",
    "customers_scaled.index = customers_imputed.index"
   ]
  },
  {
   "cell_type": "code",
   "execution_count": 170,
   "metadata": {},
   "outputs": [
    {
     "data": {
      "text/plain": [
       "(191652, 85)"
      ]
     },
     "execution_count": 170,
     "metadata": {},
     "output_type": "execute_result"
    }
   ],
   "source": [
    "customers.shape"
   ]
  },
  {
   "cell_type": "code",
   "execution_count": 171,
   "metadata": {},
   "outputs": [
    {
     "data": {
      "text/plain": [
       "(141722, 99)"
      ]
     },
     "execution_count": 171,
     "metadata": {},
     "output_type": "execute_result"
    }
   ],
   "source": [
    "customers_clean.shape"
   ]
  },
  {
   "cell_type": "code",
   "execution_count": 172,
   "metadata": {},
   "outputs": [
    {
     "data": {
      "text/plain": [
       "(141722, 99)"
      ]
     },
     "execution_count": 172,
     "metadata": {},
     "output_type": "execute_result"
    }
   ],
   "source": [
    "customers_scaled.shape"
   ]
  },
  {
   "cell_type": "code",
   "execution_count": 173,
   "metadata": {},
   "outputs": [],
   "source": [
    "customers_pca_final = pca_final_model.transform(customers_scaled)"
   ]
  },
  {
   "cell_type": "code",
   "execution_count": 174,
   "metadata": {},
   "outputs": [
    {
     "data": {
      "text/plain": [
       "(141722, 37)"
      ]
     },
     "execution_count": 174,
     "metadata": {},
     "output_type": "execute_result"
    }
   ],
   "source": [
    "customers_pca_final.shape"
   ]
  },
  {
   "cell_type": "code",
   "execution_count": 175,
   "metadata": {},
   "outputs": [],
   "source": [
    "final_customer_labels = model_train.predict(customers_pca_final)"
   ]
  },
  {
   "cell_type": "code",
   "execution_count": 176,
   "metadata": {},
   "outputs": [],
   "source": [
    "count_customers_class_freq = []\n",
    "for i in range(9):\n",
    "    count_customers_class_freq.append(np.sum(final_customer_labels == i))"
   ]
  },
  {
   "cell_type": "code",
   "execution_count": 177,
   "metadata": {},
   "outputs": [
    {
     "data": {
      "text/plain": [
       "[23670, 11056, 13705, 6614, 16364, 26278, 24169, 5232, 14634]"
      ]
     },
     "execution_count": 177,
     "metadata": {},
     "output_type": "execute_result"
    }
   ],
   "source": [
    "count_customers_class_freq"
   ]
  },
  {
   "cell_type": "markdown",
   "metadata": {},
   "source": [
    "### Step 3.3: Compare Customer Data to Demographics Data\n",
    "\n",
    "At this point, you have clustered data based on demographics of the general population of Germany, and seen how the customer data for a mail-order sales company maps onto those demographic clusters. In this final substep, you will compare the two cluster distributions to see where the strongest customer base for the company is.\n",
    "\n",
    "Consider the proportion of persons in each cluster for the general population, and the proportions for the customers. If we think the company's customer base to be universal, then the cluster assignment proportions should be fairly similar between the two. If there are only particular segments of the population that are interested in the company's products, then we should see a mismatch from one to the other. If there is a higher proportion of persons in a cluster for the customer data compared to the general population (e.g. 5% of persons are assigned to a cluster for the general population, but 15% of the customer data is closest to that cluster's centroid) then that suggests the people in that cluster to be a target audience for the company. On the other hand, the proportion of the data in a cluster being larger in the general population than the customer data (e.g. only 2% of customers closest to a population centroid that captures 6% of the data) suggests that group of persons to be outside of the target demographics.\n",
    "\n",
    "Take a look at the following points in this step:\n",
    "\n",
    "- Compute the proportion of data points in each cluster for the general population and the customer data. Visualizations will be useful here: both for the individual dataset proportions, but also to visualize the ratios in cluster representation between groups. Seaborn's [`countplot()`](https://seaborn.pydata.org/generated/seaborn.countplot.html) or [`barplot()`](https://seaborn.pydata.org/generated/seaborn.barplot.html) function could be handy.\n",
    "  - Recall the analysis you performed in step 1.1.3 of the project, where you separated out certain data points from the dataset if they had more than a specified threshold of missing values. If you found that this group was qualitatively different from the main bulk of the data, you should treat this as an additional data cluster in this analysis. Make sure that you account for the number of data points in this subset, for both the general population and customer datasets, when making your computations!\n",
    "- Which cluster or clusters are overrepresented in the customer dataset compared to the general population? Select at least one such cluster and infer what kind of people might be represented by that cluster. Use the principal component interpretations from step 2.3 or look at additional components to help you make this inference. Alternatively, you can use the `.inverse_transform()` method of the PCA and StandardScaler objects to transform centroids back to the original data space and interpret the retrieved values directly.\n",
    "- Perform a similar investigation for the underrepresented clusters. Which cluster or clusters are underrepresented in the customer dataset compared to the general population, and what kinds of people are typified by these clusters?"
   ]
  },
  {
   "cell_type": "code",
   "execution_count": 180,
   "metadata": {},
   "outputs": [
    {
     "data": {
      "text/plain": [
       "(93172, 79)"
      ]
     },
     "execution_count": 180,
     "metadata": {},
     "output_type": "execute_result"
    }
   ],
   "source": [
    "# Compare the proportion of data in each cluster for the customer data to the\n",
    "# proportion of data in each cluster for the general population.\n",
    "azdias_dropped_rows.shape"
   ]
  },
  {
   "cell_type": "code",
   "execution_count": 181,
   "metadata": {},
   "outputs": [
    {
     "name": "stdout",
     "output_type": "stream",
     "text": [
      "[106343, 89702, 84928, 97506, 98906, 86445, 97995, 70569, 65655]\n",
      "[93172, 106343, 89702, 84928, 97506, 98906, 86445, 97995, 70569, 65655]\n",
      "[10.45442152 11.93228167 10.06506804  9.52939843 10.94072065 11.09780851\n",
      "  9.69961435 10.9955892   7.91823801  7.36685962]\n"
     ]
    },
    {
     "data": {
      "text/plain": [
       "99.99999999999999"
      ]
     },
     "execution_count": 181,
     "metadata": {},
     "output_type": "execute_result"
    }
   ],
   "source": [
    "print(count_class_freq)\n",
    "count_class_freq.insert(0,93172)\n",
    "print(count_class_freq)\n",
    "count_class_freq = (count_class_freq/sum(count_class_freq))*100\n",
    "print(count_class_freq)\n",
    "sum(count_class_freq)"
   ]
  },
  {
   "cell_type": "code",
   "execution_count": 182,
   "metadata": {},
   "outputs": [
    {
     "name": "stdout",
     "output_type": "stream",
     "text": [
      "[23670, 11056, 13705, 6614, 16364, 26278, 24169, 5232, 14634]\n",
      "[93172, 23670, 11056, 13705, 6614, 16364, 26278, 24169, 5232, 14634]\n",
      "[39.66555127 10.07688574  4.70680392  5.83454665  2.81573816  6.96654661\n",
      " 11.18717379 10.28932199  2.22738767  6.23004419]\n"
     ]
    },
    {
     "data": {
      "text/plain": [
       "100.0"
      ]
     },
     "execution_count": 182,
     "metadata": {},
     "output_type": "execute_result"
    }
   ],
   "source": [
    "print(count_customers_class_freq)\n",
    "count_customers_class_freq.insert(0,93172)\n",
    "print(count_customers_class_freq)\n",
    "count_customers_class_freq = (count_customers_class_freq/sum(count_customers_class_freq))*100\n",
    "print(count_customers_class_freq)\n",
    "sum(count_customers_class_freq)"
   ]
  },
  {
   "cell_type": "code",
   "execution_count": 183,
   "metadata": {},
   "outputs": [],
   "source": [
    "count_class_freq = pd.DataFrame(count_class_freq)"
   ]
  },
  {
   "cell_type": "code",
   "execution_count": 184,
   "metadata": {},
   "outputs": [],
   "source": [
    "count_class_freq.columns = ['Percentage People']"
   ]
  },
  {
   "cell_type": "code",
   "execution_count": 185,
   "metadata": {},
   "outputs": [],
   "source": [
    "count_class_freq['Clusters'] = range(-1,9)"
   ]
  },
  {
   "cell_type": "code",
   "execution_count": 186,
   "metadata": {},
   "outputs": [
    {
     "data": {
      "text/html": [
       "<div>\n",
       "<style scoped>\n",
       "    .dataframe tbody tr th:only-of-type {\n",
       "        vertical-align: middle;\n",
       "    }\n",
       "\n",
       "    .dataframe tbody tr th {\n",
       "        vertical-align: top;\n",
       "    }\n",
       "\n",
       "    .dataframe thead th {\n",
       "        text-align: right;\n",
       "    }\n",
       "</style>\n",
       "<table border=\"1\" class=\"dataframe\">\n",
       "  <thead>\n",
       "    <tr style=\"text-align: right;\">\n",
       "      <th></th>\n",
       "      <th>Percentage People</th>\n",
       "      <th>Clusters</th>\n",
       "    </tr>\n",
       "  </thead>\n",
       "  <tbody>\n",
       "    <tr>\n",
       "      <th>0</th>\n",
       "      <td>10.454422</td>\n",
       "      <td>-1</td>\n",
       "    </tr>\n",
       "    <tr>\n",
       "      <th>1</th>\n",
       "      <td>11.932282</td>\n",
       "      <td>0</td>\n",
       "    </tr>\n",
       "    <tr>\n",
       "      <th>2</th>\n",
       "      <td>10.065068</td>\n",
       "      <td>1</td>\n",
       "    </tr>\n",
       "    <tr>\n",
       "      <th>3</th>\n",
       "      <td>9.529398</td>\n",
       "      <td>2</td>\n",
       "    </tr>\n",
       "    <tr>\n",
       "      <th>4</th>\n",
       "      <td>10.940721</td>\n",
       "      <td>3</td>\n",
       "    </tr>\n",
       "    <tr>\n",
       "      <th>5</th>\n",
       "      <td>11.097809</td>\n",
       "      <td>4</td>\n",
       "    </tr>\n",
       "    <tr>\n",
       "      <th>6</th>\n",
       "      <td>9.699614</td>\n",
       "      <td>5</td>\n",
       "    </tr>\n",
       "    <tr>\n",
       "      <th>7</th>\n",
       "      <td>10.995589</td>\n",
       "      <td>6</td>\n",
       "    </tr>\n",
       "    <tr>\n",
       "      <th>8</th>\n",
       "      <td>7.918238</td>\n",
       "      <td>7</td>\n",
       "    </tr>\n",
       "    <tr>\n",
       "      <th>9</th>\n",
       "      <td>7.366860</td>\n",
       "      <td>8</td>\n",
       "    </tr>\n",
       "  </tbody>\n",
       "</table>\n",
       "</div>"
      ],
      "text/plain": [
       "   Percentage People  Clusters\n",
       "0          10.454422        -1\n",
       "1          11.932282         0\n",
       "2          10.065068         1\n",
       "3           9.529398         2\n",
       "4          10.940721         3\n",
       "5          11.097809         4\n",
       "6           9.699614         5\n",
       "7          10.995589         6\n",
       "8           7.918238         7\n",
       "9           7.366860         8"
      ]
     },
     "execution_count": 186,
     "metadata": {},
     "output_type": "execute_result"
    }
   ],
   "source": [
    "count_class_freq"
   ]
  },
  {
   "cell_type": "code",
   "execution_count": 187,
   "metadata": {},
   "outputs": [],
   "source": [
    "count_customers_class_freq = pd.DataFrame(count_customers_class_freq)"
   ]
  },
  {
   "cell_type": "code",
   "execution_count": 188,
   "metadata": {},
   "outputs": [],
   "source": [
    "count_customers_class_freq.columns = ['Percentage People']"
   ]
  },
  {
   "cell_type": "code",
   "execution_count": 189,
   "metadata": {},
   "outputs": [],
   "source": [
    "count_customers_class_freq['Clusters'] = range(-1,9)"
   ]
  },
  {
   "cell_type": "code",
   "execution_count": 190,
   "metadata": {},
   "outputs": [
    {
     "data": {
      "text/html": [
       "<div>\n",
       "<style scoped>\n",
       "    .dataframe tbody tr th:only-of-type {\n",
       "        vertical-align: middle;\n",
       "    }\n",
       "\n",
       "    .dataframe tbody tr th {\n",
       "        vertical-align: top;\n",
       "    }\n",
       "\n",
       "    .dataframe thead th {\n",
       "        text-align: right;\n",
       "    }\n",
       "</style>\n",
       "<table border=\"1\" class=\"dataframe\">\n",
       "  <thead>\n",
       "    <tr style=\"text-align: right;\">\n",
       "      <th></th>\n",
       "      <th>Percentage People</th>\n",
       "      <th>Clusters</th>\n",
       "    </tr>\n",
       "  </thead>\n",
       "  <tbody>\n",
       "    <tr>\n",
       "      <th>0</th>\n",
       "      <td>39.665551</td>\n",
       "      <td>-1</td>\n",
       "    </tr>\n",
       "    <tr>\n",
       "      <th>1</th>\n",
       "      <td>10.076886</td>\n",
       "      <td>0</td>\n",
       "    </tr>\n",
       "    <tr>\n",
       "      <th>2</th>\n",
       "      <td>4.706804</td>\n",
       "      <td>1</td>\n",
       "    </tr>\n",
       "    <tr>\n",
       "      <th>3</th>\n",
       "      <td>5.834547</td>\n",
       "      <td>2</td>\n",
       "    </tr>\n",
       "    <tr>\n",
       "      <th>4</th>\n",
       "      <td>2.815738</td>\n",
       "      <td>3</td>\n",
       "    </tr>\n",
       "    <tr>\n",
       "      <th>5</th>\n",
       "      <td>6.966547</td>\n",
       "      <td>4</td>\n",
       "    </tr>\n",
       "    <tr>\n",
       "      <th>6</th>\n",
       "      <td>11.187174</td>\n",
       "      <td>5</td>\n",
       "    </tr>\n",
       "    <tr>\n",
       "      <th>7</th>\n",
       "      <td>10.289322</td>\n",
       "      <td>6</td>\n",
       "    </tr>\n",
       "    <tr>\n",
       "      <th>8</th>\n",
       "      <td>2.227388</td>\n",
       "      <td>7</td>\n",
       "    </tr>\n",
       "    <tr>\n",
       "      <th>9</th>\n",
       "      <td>6.230044</td>\n",
       "      <td>8</td>\n",
       "    </tr>\n",
       "  </tbody>\n",
       "</table>\n",
       "</div>"
      ],
      "text/plain": [
       "   Percentage People  Clusters\n",
       "0          39.665551        -1\n",
       "1          10.076886         0\n",
       "2           4.706804         1\n",
       "3           5.834547         2\n",
       "4           2.815738         3\n",
       "5           6.966547         4\n",
       "6          11.187174         5\n",
       "7          10.289322         6\n",
       "8           2.227388         7\n",
       "9           6.230044         8"
      ]
     },
     "execution_count": 190,
     "metadata": {},
     "output_type": "execute_result"
    }
   ],
   "source": [
    "count_customers_class_freq"
   ]
  },
  {
   "cell_type": "code",
   "execution_count": 191,
   "metadata": {},
   "outputs": [],
   "source": [
    "count_class_freq['Type'] = 'General'\n",
    "count_customers_class_freq['Type'] = 'Customers'"
   ]
  },
  {
   "cell_type": "code",
   "execution_count": 192,
   "metadata": {},
   "outputs": [],
   "source": [
    "final_df = pd.concat([count_class_freq,count_customers_class_freq],keys=['General','Customers'])"
   ]
  },
  {
   "cell_type": "code",
   "execution_count": 193,
   "metadata": {},
   "outputs": [
    {
     "data": {
      "text/html": [
       "<div>\n",
       "<style scoped>\n",
       "    .dataframe tbody tr th:only-of-type {\n",
       "        vertical-align: middle;\n",
       "    }\n",
       "\n",
       "    .dataframe tbody tr th {\n",
       "        vertical-align: top;\n",
       "    }\n",
       "\n",
       "    .dataframe thead th {\n",
       "        text-align: right;\n",
       "    }\n",
       "</style>\n",
       "<table border=\"1\" class=\"dataframe\">\n",
       "  <thead>\n",
       "    <tr style=\"text-align: right;\">\n",
       "      <th></th>\n",
       "      <th></th>\n",
       "      <th>Percentage People</th>\n",
       "      <th>Clusters</th>\n",
       "      <th>Type</th>\n",
       "    </tr>\n",
       "  </thead>\n",
       "  <tbody>\n",
       "    <tr>\n",
       "      <th rowspan=\"10\" valign=\"top\">General</th>\n",
       "      <th>0</th>\n",
       "      <td>10.454422</td>\n",
       "      <td>-1</td>\n",
       "      <td>General</td>\n",
       "    </tr>\n",
       "    <tr>\n",
       "      <th>1</th>\n",
       "      <td>11.932282</td>\n",
       "      <td>0</td>\n",
       "      <td>General</td>\n",
       "    </tr>\n",
       "    <tr>\n",
       "      <th>2</th>\n",
       "      <td>10.065068</td>\n",
       "      <td>1</td>\n",
       "      <td>General</td>\n",
       "    </tr>\n",
       "    <tr>\n",
       "      <th>3</th>\n",
       "      <td>9.529398</td>\n",
       "      <td>2</td>\n",
       "      <td>General</td>\n",
       "    </tr>\n",
       "    <tr>\n",
       "      <th>4</th>\n",
       "      <td>10.940721</td>\n",
       "      <td>3</td>\n",
       "      <td>General</td>\n",
       "    </tr>\n",
       "    <tr>\n",
       "      <th>5</th>\n",
       "      <td>11.097809</td>\n",
       "      <td>4</td>\n",
       "      <td>General</td>\n",
       "    </tr>\n",
       "    <tr>\n",
       "      <th>6</th>\n",
       "      <td>9.699614</td>\n",
       "      <td>5</td>\n",
       "      <td>General</td>\n",
       "    </tr>\n",
       "    <tr>\n",
       "      <th>7</th>\n",
       "      <td>10.995589</td>\n",
       "      <td>6</td>\n",
       "      <td>General</td>\n",
       "    </tr>\n",
       "    <tr>\n",
       "      <th>8</th>\n",
       "      <td>7.918238</td>\n",
       "      <td>7</td>\n",
       "      <td>General</td>\n",
       "    </tr>\n",
       "    <tr>\n",
       "      <th>9</th>\n",
       "      <td>7.366860</td>\n",
       "      <td>8</td>\n",
       "      <td>General</td>\n",
       "    </tr>\n",
       "    <tr>\n",
       "      <th rowspan=\"10\" valign=\"top\">Customers</th>\n",
       "      <th>0</th>\n",
       "      <td>39.665551</td>\n",
       "      <td>-1</td>\n",
       "      <td>Customers</td>\n",
       "    </tr>\n",
       "    <tr>\n",
       "      <th>1</th>\n",
       "      <td>10.076886</td>\n",
       "      <td>0</td>\n",
       "      <td>Customers</td>\n",
       "    </tr>\n",
       "    <tr>\n",
       "      <th>2</th>\n",
       "      <td>4.706804</td>\n",
       "      <td>1</td>\n",
       "      <td>Customers</td>\n",
       "    </tr>\n",
       "    <tr>\n",
       "      <th>3</th>\n",
       "      <td>5.834547</td>\n",
       "      <td>2</td>\n",
       "      <td>Customers</td>\n",
       "    </tr>\n",
       "    <tr>\n",
       "      <th>4</th>\n",
       "      <td>2.815738</td>\n",
       "      <td>3</td>\n",
       "      <td>Customers</td>\n",
       "    </tr>\n",
       "    <tr>\n",
       "      <th>5</th>\n",
       "      <td>6.966547</td>\n",
       "      <td>4</td>\n",
       "      <td>Customers</td>\n",
       "    </tr>\n",
       "    <tr>\n",
       "      <th>6</th>\n",
       "      <td>11.187174</td>\n",
       "      <td>5</td>\n",
       "      <td>Customers</td>\n",
       "    </tr>\n",
       "    <tr>\n",
       "      <th>7</th>\n",
       "      <td>10.289322</td>\n",
       "      <td>6</td>\n",
       "      <td>Customers</td>\n",
       "    </tr>\n",
       "    <tr>\n",
       "      <th>8</th>\n",
       "      <td>2.227388</td>\n",
       "      <td>7</td>\n",
       "      <td>Customers</td>\n",
       "    </tr>\n",
       "    <tr>\n",
       "      <th>9</th>\n",
       "      <td>6.230044</td>\n",
       "      <td>8</td>\n",
       "      <td>Customers</td>\n",
       "    </tr>\n",
       "  </tbody>\n",
       "</table>\n",
       "</div>"
      ],
      "text/plain": [
       "             Percentage People  Clusters       Type\n",
       "General   0          10.454422        -1    General\n",
       "          1          11.932282         0    General\n",
       "          2          10.065068         1    General\n",
       "          3           9.529398         2    General\n",
       "          4          10.940721         3    General\n",
       "          5          11.097809         4    General\n",
       "          6           9.699614         5    General\n",
       "          7          10.995589         6    General\n",
       "          8           7.918238         7    General\n",
       "          9           7.366860         8    General\n",
       "Customers 0          39.665551        -1  Customers\n",
       "          1          10.076886         0  Customers\n",
       "          2           4.706804         1  Customers\n",
       "          3           5.834547         2  Customers\n",
       "          4           2.815738         3  Customers\n",
       "          5           6.966547         4  Customers\n",
       "          6          11.187174         5  Customers\n",
       "          7          10.289322         6  Customers\n",
       "          8           2.227388         7  Customers\n",
       "          9           6.230044         8  Customers"
      ]
     },
     "execution_count": 193,
     "metadata": {},
     "output_type": "execute_result"
    }
   ],
   "source": [
    "final_df"
   ]
  },
  {
   "cell_type": "code",
   "execution_count": 194,
   "metadata": {},
   "outputs": [],
   "source": [
    "df_final_group = final_df.groupby(['Clusters','Type'])"
   ]
  },
  {
   "cell_type": "code",
   "execution_count": 195,
   "metadata": {},
   "outputs": [
    {
     "data": {
      "image/png": "[encoded data removed]",
      "text/plain": [
       "<Figure size 432x288 with 1 Axes>"
      ]
     },
     "metadata": {
      "needs_background": "light"
     },
     "output_type": "display_data"
    }
   ],
   "source": [
    "df_final_group_plot = df_final_group.sum().unstack('Type').plot(kind = 'bar')"
   ]
  },
  {
   "cell_type": "markdown",
   "metadata": {},
   "source": [
    "## The code for plotting above double bar graph is referenced from : [HERE](https://stackoverflow.com/questions/31258134/how-to-plot-two-dataframe-on-same-graph-for-comparison)"
   ]
  },
  {
   "cell_type": "markdown",
   "metadata": {},
   "source": [
    "# What kinds of people are part of a cluster that is overrepresented in the\n",
    "# customer data compared to the general population?\n"
   ]
  },
  {
   "cell_type": "code",
   "execution_count": 244,
   "metadata": {},
   "outputs": [],
   "source": [
    "# Cluster 5 is clearly an overrepresented cluster by the customers dataset\n",
    "# I am considering cluster labelled 5 as overrepresented as the cluster labelled -1 contained many nan values\n",
    "# now I find the relevant feature values associated with that cluster"
   ]
  },
  {
   "cell_type": "code",
   "execution_count": 309,
   "metadata": {},
   "outputs": [],
   "source": [
    "model_train.cluster_centers_?"
   ]
  },
  {
   "cell_type": "markdown",
   "metadata": {},
   "source": [
    "I struggled a lot on which command in particular should be used and ended up on this question's link of Knowledge:\n",
    " [https://knowledge.udacity.com/questions/99950](https://knowledge.udacity.com/questions/99950)"
   ]
  },
  {
   "cell_type": "code",
   "execution_count": 312,
   "metadata": {},
   "outputs": [],
   "source": [
    "c5 = model_train.cluster_centers_[6] # as -1 cluster is at the beginning(index 0) hence for cluster 5 the location in array will be 6"
   ]
  },
  {
   "cell_type": "code",
   "execution_count": 313,
   "metadata": {},
   "outputs": [
    {
     "data": {
      "text/plain": [
       "37"
      ]
     },
     "execution_count": 313,
     "metadata": {},
     "output_type": "execute_result"
    }
   ],
   "source": [
    "len(c5)"
   ]
  },
  {
   "cell_type": "code",
   "execution_count": 314,
   "metadata": {},
   "outputs": [
    {
     "data": {
      "text/plain": [
       "(99,)"
      ]
     },
     "execution_count": 314,
     "metadata": {},
     "output_type": "execute_result"
    }
   ],
   "source": [
    "c5_inverse_pca = pca_final_model.inverse_transform(c5)\n",
    "c5_inverse_pca.shape"
   ]
  },
  {
   "cell_type": "code",
   "execution_count": 315,
   "metadata": {},
   "outputs": [],
   "source": [
    "c5_inverse_scaler = scaler_customers.inverse_transform(c5_inverse_pca)"
   ]
  },
  {
   "cell_type": "code",
   "execution_count": 316,
   "metadata": {},
   "outputs": [
    {
     "data": {
      "text/plain": [
       "(99,)"
      ]
     },
     "execution_count": 316,
     "metadata": {},
     "output_type": "execute_result"
    }
   ],
   "source": [
    "c5_inverse_scaler.shape"
   ]
  },
  {
   "cell_type": "code",
   "execution_count": 317,
   "metadata": {},
   "outputs": [
    {
     "data": {
      "text/plain": [
       "numpy.ndarray"
      ]
     },
     "execution_count": 317,
     "metadata": {},
     "output_type": "execute_result"
    }
   ],
   "source": [
    "type(c5_inverse_scaler)"
   ]
  },
  {
   "cell_type": "code",
   "execution_count": 318,
   "metadata": {},
   "outputs": [],
   "source": [
    "c5_inverse_scaler = pd.Series(c5_inverse_scaler)\n",
    "c5_inverse_scaler.index = customers_clean.columns"
   ]
  },
  {
   "cell_type": "code",
   "execution_count": 322,
   "metadata": {},
   "outputs": [
    {
     "data": {
      "text/plain": [
       "ALTERSKATEGORIE_GROB    3.908084\n",
       "ANREDE_KZ               0.304895\n",
       "FINANZ_MINIMALIST       5.373762\n",
       "FINANZ_SPARER           0.781005\n",
       "FINANZ_VORSORGER        5.104789\n",
       "                          ...   \n",
       "ZABEOTYP_6             -0.002874\n",
       "generation              1.150082\n",
       "movement                1.469749\n",
       "wealth                  1.416664\n",
       "life_stage              4.026668\n",
       "Length: 99, dtype: float64"
      ]
     },
     "execution_count": 322,
     "metadata": {},
     "output_type": "execute_result"
    }
   ],
   "source": [
    "c5_inverse_scaler"
   ]
  },
  {
   "cell_type": "code",
   "execution_count": 327,
   "metadata": {},
   "outputs": [
    {
     "data": {
      "text/plain": [
       "MIN_GEBAEUDEJAHR       1992.640193\n",
       "KBA13_ANZAHL_PKW        740.278840\n",
       "WOHNDAUER_2008            9.037590\n",
       "SEMIO_LUST                6.275234\n",
       "SEMIO_VERT                5.599968\n",
       "                          ...     \n",
       "KBA05_ANTG4              -0.068575\n",
       "FINANZTYP_1              -0.071746\n",
       "KBA05_ANTG3              -0.099372\n",
       "LP_STATUS_GROB_1.0       -0.124124\n",
       "ANZ_HAUSHALTE_AKTIV      -1.248695\n",
       "Length: 99, dtype: float64"
      ]
     },
     "execution_count": 327,
     "metadata": {},
     "output_type": "execute_result"
    }
   ],
   "source": [
    "c5_inverse_scaler.sort_values(ascending=False)"
   ]
  },
  {
   "cell_type": "markdown",
   "metadata": {},
   "source": [
    "# What kinds of people are part of a cluster that is underrepresented in the\n",
    "# customer data compared to the general population?"
   ]
  },
  {
   "cell_type": "code",
   "execution_count": 297,
   "metadata": {},
   "outputs": [],
   "source": [
    "c3 = model_train.cluster_centers_[4] # as -1 named cluster is at the start(index 0) so 3 named cluster at index 4"
   ]
  },
  {
   "cell_type": "code",
   "execution_count": 298,
   "metadata": {},
   "outputs": [],
   "source": [
    "c3_inverse_pca = pca_final_model.inverse_transform(c3)"
   ]
  },
  {
   "cell_type": "code",
   "execution_count": 299,
   "metadata": {},
   "outputs": [
    {
     "data": {
      "text/plain": [
       "(37,)"
      ]
     },
     "execution_count": 299,
     "metadata": {},
     "output_type": "execute_result"
    }
   ],
   "source": [
    "c3.shape"
   ]
  },
  {
   "cell_type": "code",
   "execution_count": 304,
   "metadata": {},
   "outputs": [
    {
     "data": {
      "text/plain": [
       "(99,)"
      ]
     },
     "execution_count": 304,
     "metadata": {},
     "output_type": "execute_result"
    }
   ],
   "source": [
    "c3_inverse_pca.shape"
   ]
  },
  {
   "cell_type": "code",
   "execution_count": 300,
   "metadata": {},
   "outputs": [],
   "source": [
    "c3_inverse_scaler = scaler_customers.inverse_transform(c3_inverse_pca)"
   ]
  },
  {
   "cell_type": "code",
   "execution_count": 301,
   "metadata": {},
   "outputs": [
    {
     "data": {
      "text/plain": [
       "(99,)"
      ]
     },
     "execution_count": 301,
     "metadata": {},
     "output_type": "execute_result"
    }
   ],
   "source": [
    "c3_inverse_scaler.shape"
   ]
  },
  {
   "cell_type": "code",
   "execution_count": 302,
   "metadata": {},
   "outputs": [],
   "source": [
    "c3_inverse_scaler = pd.Series(c3_inverse_scaler)\n",
    "c3_inverse_scaler.index = azdias_scaled.columns"
   ]
  },
  {
   "cell_type": "code",
   "execution_count": 324,
   "metadata": {},
   "outputs": [
    {
     "data": {
      "text/plain": [
       "ALTERSKATEGORIE_GROB    4.041379\n",
       "ANREDE_KZ               0.752267\n",
       "FINANZ_MINIMALIST       3.900623\n",
       "FINANZ_SPARER           0.951599\n",
       "FINANZ_VORSORGER        5.099118\n",
       "                          ...   \n",
       "ZABEOTYP_6              0.030670\n",
       "generation              0.914799\n",
       "movement                0.331255\n",
       "wealth                  3.470562\n",
       "life_stage              3.177178\n",
       "Length: 99, dtype: float64"
      ]
     },
     "execution_count": 324,
     "metadata": {},
     "output_type": "execute_result"
    }
   ],
   "source": [
    "c3_inverse_scaler"
   ]
  },
  {
   "cell_type": "code",
   "execution_count": 326,
   "metadata": {},
   "outputs": [
    {
     "data": {
      "text/plain": [
       "MIN_GEBAEUDEJAHR        1992.421031\n",
       "KBA13_ANZAHL_PKW         601.436827\n",
       "ANZ_HAUSHALTE_AKTIV       11.706923\n",
       "WOHNDAUER_2008             8.845439\n",
       "SEMIO_ERL                  6.695592\n",
       "                           ...     \n",
       "ZABEOTYP_5                -0.011269\n",
       "NATIONALITAET_KZ_2.0      -0.013944\n",
       "ZABEOTYP_2                -0.015455\n",
       "FINANZTYP_4               -0.023075\n",
       "FINANZTYP_3               -0.032304\n",
       "Length: 99, dtype: float64"
      ]
     },
     "execution_count": 326,
     "metadata": {},
     "output_type": "execute_result"
    }
   ],
   "source": [
    "c3_inverse_scaler.sort_values(ascending=False)"
   ]
  },
  {
   "cell_type": "markdown",
   "metadata": {},
   "source": [
    "## Below list (dataframe wouldn't print all features that's why I chose list) helps compare the feature values between the potential customers cluster and the cluster of people who aren't potential customers"
   ]
  },
  {
   "cell_type": "code",
   "execution_count": 334,
   "metadata": {},
   "outputs": [
    {
     "name": "stdout",
     "output_type": "stream",
     "text": [
      "[('ALTERSKATEGORIE_GROB', False), ('ANREDE_KZ', False), ('FINANZ_MINIMALIST', True), ('FINANZ_SPARER', False), ('FINANZ_VORSORGER', True), ('FINANZ_ANLEGER', False), ('FINANZ_UNAUFFAELLIGER', True), ('FINANZ_HAUSBAUER', False), ('GREEN_AVANTGARDE', True), ('HEALTH_TYP', True), ('RETOURTYP_BK_S', False), ('SEMIO_SOZ', True), ('SEMIO_FAM', True), ('SEMIO_REL', True), ('SEMIO_MAT', True), ('SEMIO_VERT', True), ('SEMIO_LUST', False), ('SEMIO_ERL', False), ('SEMIO_KULT', True), ('SEMIO_RAT', False), ('SEMIO_KRIT', False), ('SEMIO_DOM', False), ('SEMIO_KAEM', False), ('SEMIO_PFLICHT', True), ('SEMIO_TRADV', True), ('SOHO_KZ', False), ('VERS_TYP', False), ('ANZ_PERSONEN', True), ('ANZ_TITEL', True), ('HH_EINKOMMEN_SCORE', False), ('W_KEIT_KIND_HH', False), ('WOHNDAUER_2008', True), ('ANZ_HAUSHALTE_AKTIV', False), ('ANZ_HH_TITEL', False), ('KONSUMNAEHE', True), ('MIN_GEBAEUDEJAHR', True), ('OST_WEST_KZ', True), ('KBA05_ANTG1', True), ('KBA05_ANTG2', False), ('KBA05_ANTG3', False), ('KBA05_ANTG4', False), ('KBA05_GBZ', True), ('BALLRAUM', True), ('EWDICHTE', False), ('INNENSTADT', True), ('GEBAEUDETYP_RASTER', True), ('KKK', False), ('MOBI_REGIO', True), ('ONLINE_AFFINITAET', True), ('REGIOTYP', False), ('KBA13_ANZAHL_PKW', True), ('PLZ8_ANTG1', True), ('PLZ8_ANTG2', False), ('PLZ8_ANTG3', False), ('PLZ8_ANTG4', False), ('PLZ8_HHZ', False), ('PLZ8_GBZ', True), ('ARBEIT', False), ('ORTSGR_KLS9', False), ('RELAT_AB', False), ('CJT_GESAMTTYP_1.0', False), ('CJT_GESAMTTYP_2.0', False), ('CJT_GESAMTTYP_3.0', True), ('CJT_GESAMTTYP_4.0', False), ('CJT_GESAMTTYP_5.0', True), ('CJT_GESAMTTYP_6.0', True), ('FINANZTYP_1', False), ('FINANZTYP_2', True), ('FINANZTYP_3', True), ('FINANZTYP_4', True), ('FINANZTYP_5', True), ('FINANZTYP_6', False), ('LP_FAMILIE_GROB_1.0', False), ('LP_FAMILIE_GROB_2.0', True), ('LP_FAMILIE_GROB_3.0', True), ('LP_FAMILIE_GROB_4.0', True), ('LP_FAMILIE_GROB_5.0', True), ('LP_STATUS_GROB_1.0', False), ('LP_STATUS_GROB_2.0', False), ('LP_STATUS_GROB_3.0', True), ('LP_STATUS_GROB_4.0', False), ('LP_STATUS_GROB_5.0', True), ('NATIONALITAET_KZ_1.0', True), ('NATIONALITAET_KZ_2.0', True), ('NATIONALITAET_KZ_3.0', True), ('SHOPPER_TYP_0.0', True), ('SHOPPER_TYP_1.0', True), ('SHOPPER_TYP_2.0', False), ('SHOPPER_TYP_3.0', False), ('ZABEOTYP_1', True), ('ZABEOTYP_2', True), ('ZABEOTYP_3', False), ('ZABEOTYP_4', False), ('ZABEOTYP_5', False), ('ZABEOTYP_6', False), ('generation', True), ('movement', True), ('wealth', False), ('life_stage', True)]\n"
     ]
    }
   ],
   "source": [
    "print(list(zip(c3_inverse_scaler.index,c5_inverse_scaler > c3_inverse_scaler)))"
   ]
  },
  {
   "cell_type": "markdown",
   "metadata": {},
   "source": [
    "### Discussion 3.3: Compare Customer Data to Demographics Data\n",
    "- It can be observed from the double-bar graph drawn cluster -1(The one which consists of dropped rows of many missing values) and cluster 5 were overrepresented in the customers dataset.\n",
    "- However only cluster 5 was analysed to find potential customers for the company as cluster -1 contained many missing values so it might be risky to take a decision with less information\n",
    "- Cluster 5(potential customers) data when analyzed using inverse pca transform followed by inverse scaler transform gave some of the feature values as:\n",
    "    - ALTERSKATEGORIE_GROB    3.908084 ,this feature represents age predicted by name analysis and the value close to 4 suggests old people with age > 60 are potential customers\n",
    "    - ANREDE_KZ               0.304895,  this binary categorical feature(scaled from (1,2) to (0,1)) represents gender,with 0 representing males, hence this company seems to have a big male customer base\n",
    "    - KBA13_ANZAHL_PKW        740.278840, this feature represents number of cars in the locality (PLZ8) region, people in regions with around 740 cars are potential customers\n",
    "    - wealth                  1.416664, this feature represents how wealthy a family is and was obtained from mixed feature CAMEO_INTL_2015, lower value indicates richer household, hence customers who are wealthy are potential customers\n",
    "    - life_stage              4.026668, this feature too represents age higher value indicates older people which agrees with the feature ALTERSKATEGORIE_GROB discussed above. CLoseness to 4 in particular means Older Families and Mature Couples are potential customers\n",
    "- Cluster 3 data when aanalyzed in a similar way gave below features(these people are not potential customers):\n",
    "    - ALTERSKATEGORIE_GROB    4.041379, this feature value also suggests old people with age > 60 are not potential customers but this discrepancy might have arised because the age was not actual but predicted from names(modern names = young and ancient names = old as mentioned in the Data_Dictionary)\n",
    "    - ANREDE_KZ               0.752267, this feature indicates gender value closer to 1 represents female and hence females are not potential customers(it can also be verified from Cluster 5 in which males are potential customers!)\n",
    "    - KBA13_ANZAHL_PKW         601.436827, this feature represents number of cars in PLZ8 region,people in regions with around 600 cars are not potential customer regions\n",
    "    - wealth                  3.470562, this feature as mentioned above represents how rich a household is, its higher value indicates a comfortable household but not rich/elite\n",
    "    - life_stage              3.177178, this feature represents age, value close to 3 represent families with school age children and these aren't potential customers\n",
    "- Hence the potential customers for the company are wealthy old households/Mature Couples who live in rich PLZ8 regions having high number of cars (about 740)\n",
    "- Other features can also be compared as to which feature is larger or smaller and their meaning can be referred to from Data_Dictionary.md"
   ]
  },
  {
   "cell_type": "markdown",
   "metadata": {},
   "source": [
    "> Congratulations on making it this far in the project! Before you finish, make sure to check through the entire notebook from top to bottom to make sure that your analysis follows a logical flow and all of your findings are documented in **Discussion** cells. Once you've checked over all of your work, you should export the notebook as an HTML document to submit for evaluation. You can do this from the menu, navigating to **File -> Download as -> HTML (.html)**. You will submit both that document and this notebook for your project submission."
   ]
  },
  {
   "cell_type": "code",
   "execution_count": 349,
   "metadata": {},
   "outputs": [
    {
     "data": {
      "text/plain": [
       "['[NbConvertApp] WARNING | Config option `kernel_spec_manager_class` not recognized by `NbConvertApp`.',\n",
       " '[NbConvertApp] Converting notebook Identify_Customer_Segments-Copy1.ipynb to html',\n",
       " '[NbConvertApp] Writing 1554870 bytes to Identify_Customer_Segments-Copy1.html',\n",
       " '[NbConvertApp] Converting notebook Identify_Customer_Segments.ipynb to html',\n",
       " '[NbConvertApp] Writing 1578124 bytes to Identify_Customer_Segments.html',\n",
       " '[NbConvertApp] Converting notebook Untitled.ipynb to html',\n",
       " '[NbConvertApp] Writing 585524 bytes to Untitled.html']"
      ]
     },
     "execution_count": 349,
     "metadata": {},
     "output_type": "execute_result"
    }
   ],
   "source": [
    "!!jupyter nbconvert *.ipynb --to html"
   ]
  },
  {
   "cell_type": "code",
   "execution_count": null,
   "metadata": {},
   "outputs": [],
   "source": []
  }
 ],
 "metadata": {
  "kernelspec": {
   "display_name": "Python 3",
   "language": "python",
   "name": "python3"
  },
  "language_info": {
   "codemirror_mode": {
    "name": "ipython",
    "version": 3
   },
   "file_extension": ".py",
   "mimetype": "text/x-python",
   "name": "python",
   "nbconvert_exporter": "python",
   "pygments_lexer": "ipython3",
   "version": "3.7.9"
  }
 },
 "nbformat": 4,
 "nbformat_minor": 2
}
